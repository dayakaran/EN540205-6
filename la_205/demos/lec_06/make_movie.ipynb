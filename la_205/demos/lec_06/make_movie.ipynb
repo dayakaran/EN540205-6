{
 "cells": [
  {
   "cell_type": "code",
   "execution_count": 2,
   "id": "23326c3c-b5aa-473f-b3b1-5db32e3bd7c8",
   "metadata": {},
   "outputs": [
    {
     "data": {
      "application/vnd.jupyter.widget-view+json": {
       "model_id": "48cd1f45b7ba4c1c9ce7861eb8cbd143",
       "version_major": 2,
       "version_minor": 0
      },
      "text/plain": [
       "VBox(children=(HTML(value='\\n        <h2>Interactive Matrix Inverse Visualization</h2>\\n        <p>This animat…"
      ]
     },
     "metadata": {},
     "output_type": "display_data"
    }
   ],
   "source": [
    "# Cell 1: Import and display the widget\n",
    "from demo import *\n",
    "\n",
    "# Display the interactive widget\n",
    "widget = show_inverse_widget()\n",
    "display(widget)"
   ]
  },
  {
   "cell_type": "code",
   "execution_count": null,
   "id": "a667d369-4976-4564-829e-a82410cf4b90",
   "metadata": {},
   "outputs": [],
   "source": []
  }
 ],
 "metadata": {
  "kernelspec": {
   "display_name": "Python 3 (ipykernel)",
   "language": "python",
   "name": "python3"
  },
  "language_info": {
   "codemirror_mode": {
    "name": "ipython",
    "version": 3
   },
   "file_extension": ".py",
   "mimetype": "text/x-python",
   "name": "python",
   "nbconvert_exporter": "python",
   "pygments_lexer": "ipython3",
   "version": "3.12.11"
  }
 },
 "nbformat": 4,
 "nbformat_minor": 5
}
