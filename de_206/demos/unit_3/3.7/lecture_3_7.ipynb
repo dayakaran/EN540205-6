{
 "cells": [
  {
   "cell_type": "code",
   "execution_count": 1,
   "id": "8edd1132-0e9d-4d49-a64a-065043076dd3",
   "metadata": {},
   "outputs": [
    {
     "data": {
      "text/html": [
       "\n",
       "        <iframe\n",
       "            width=\"1000\"\n",
       "            height=\"700\"\n",
       "            src=\"Boyce_12e_PPT_ch03_7.pdf\"\n",
       "            frameborder=\"0\"\n",
       "            allowfullscreen\n",
       "            \n",
       "        ></iframe>\n",
       "        "
      ],
      "text/plain": [
       "<IPython.lib.display.IFrame at 0x10959bb00>"
      ]
     },
     "execution_count": 1,
     "metadata": {},
     "output_type": "execute_result"
    }
   ],
   "source": [
    "from IPython.display import IFrame\n",
    "\n",
    "IFrame('Boyce_12e_PPT_ch03_7.pdf', width=1000, height=700)"
   ]
  },
  {
   "cell_type": "code",
   "execution_count": null,
   "id": "1467f878",
   "metadata": {},
   "outputs": [
    {
     "data": {
      "application/vnd.jupyter.widget-view+json": {
       "model_id": "4a38abb74b774f88a9d60aafdef0e3d9",
       "version_major": 2,
       "version_minor": 0
      },
      "text/plain": [
       "Play(value=0, interval=50, layout=Layout(display='none'), max=599)"
      ]
     },
     "metadata": {},
     "output_type": "display_data"
    },
    {
     "data": {
      "application/vnd.jupyter.widget-view+json": {
       "model_id": "76d145c3714d4c82af490f79a5dc1a61",
       "version_major": 2,
       "version_minor": 0
      },
      "text/plain": [
       "VBox(children=(HBox(children=(BoundedFloatText(value=1.0, description='m', layout=Layout(width='90px'), style=…"
      ]
     },
     "metadata": {},
     "output_type": "display_data"
    },
    {
     "data": {
      "application/vnd.jupyter.widget-view+json": {
       "model_id": "ca025f0cf4934eb7a3cf3ed1544bf1d1",
       "version_major": 2,
       "version_minor": 0
      },
      "text/plain": [
       "Output()"
      ]
     },
     "metadata": {},
     "output_type": "display_data"
    }
   ],
   "source": [
    "from demo import run_demo\n",
    "\n",
    "run_demo()"
   ]
  },
  {
   "cell_type": "code",
   "execution_count": null,
   "id": "0003fe69-4bf8-440e-bbd3-b98a91ab5d16",
   "metadata": {},
   "outputs": [],
   "source": []
  }
 ],
 "metadata": {
  "kernelspec": {
   "display_name": "Python 3",
   "language": "python",
   "name": "python3"
  },
  "language_info": {
   "codemirror_mode": {
    "name": "ipython",
    "version": 3
   },
   "file_extension": ".py",
   "mimetype": "text/x-python",
   "name": "python",
   "nbconvert_exporter": "python",
   "pygments_lexer": "ipython3",
   "version": "3.13.3"
  }
 },
 "nbformat": 4,
 "nbformat_minor": 5
}
