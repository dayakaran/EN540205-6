{
 "cells": [
  {
   "cell_type": "code",
   "execution_count": 1,
   "id": "f6a170e7",
   "metadata": {},
   "outputs": [
    {
     "data": {
      "text/html": [
       "\n",
       "        <iframe\n",
       "            width=\"800\"\n",
       "            height=\"600\"\n",
       "            src=\"Boyce_12e_PPT_ch03_2.pdf\"\n",
       "            frameborder=\"0\"\n",
       "            allowfullscreen\n",
       "            \n",
       "        ></iframe>\n",
       "        "
      ],
      "text/plain": [
       "<IPython.lib.display.IFrame at 0x108136690>"
      ]
     },
     "execution_count": 1,
     "metadata": {},
     "output_type": "execute_result"
    }
   ],
   "source": [
    "from IPython.display import IFrame\n",
    "\n",
    "IFrame('Boyce_12e_PPT_ch03_2.pdf', width=800, height=600)"
   ]
  },
  {
   "cell_type": "markdown",
   "id": "e592a80a",
   "metadata": {},
   "source": [
    "# Visualizing Linear Combinations for $y'' + a y' + b y = 0$\n",
    "\n",
    "Generate short movies showing step-by-step how solutions to\n",
    "\n",
    "$$\n",
    "y'' + a y' + b y = 0\n",
    "$$\n",
    "\n",
    "are built from two basis functions.\n",
    "\n",
    "---\n",
    "\n",
    "### Choose a Preset Regime\n",
    "\n",
    "- Underdamped (complex roots): solution oscillates while decaying.\n",
    "- Critically damped (repeated root): fastest return to zero, no oscillation.\n",
    "- Overdamped (real roots): slow return, no oscillation.\n",
    "\n",
    "Switch presets to compare how $(a, b)$ affect the shape.\n",
    "\n",
    "---\n",
    "\n",
    "### Adjust Initial Conditions\n",
    "\n",
    "- $y(0)$: Starting position. Try maximum, minimum, or zero.\n",
    "  - The left plot matches this value at $t=0$; scaling changes.\n",
    "- $y'(0)$: Starting velocity. Test positive and negative extremes.\n",
    "  - The right plot starts at this value; derivative curves rescale.\n",
    "\n",
    "After changing settings, click \"Generate movie\" to see the result.\n",
    "\n",
    "---\n",
    "\n",
    "## What to Assess\n",
    "\n",
    "- Left and right panels show the basis functions and their derivatives.\n",
    "- The colored curves are scaled so their sum meets the initial values.\n",
    "- Animation blends the scaled basis pieces into the final solution (white curve), which starts at your specified $y(0)$ and $y'(0)$.\n",
    "- Dots at $t=0$ confirm the solution fits your initial conditions.\n",
    "\n",
    "Presets affect final behavior:\n",
    "- Underdamped: solution wiggles then fades.\n",
    "- Critically damped: smooth, fastest decay.\n",
    "- Overdamped: slow, smooth return with no oscillation.\n",
    "\n",
    "Try different combinations to see how motion begins and settles in each regime."
   ]
  },
  {
   "cell_type": "code",
   "execution_count": 2,
   "id": "b0f4ff23",
   "metadata": {},
   "outputs": [
    {
     "data": {
      "application/vnd.jupyter.widget-view+json": {
       "model_id": "852e1d4ecaeb4c88b5b69725b03ea2b3",
       "version_major": 2,
       "version_minor": 0
      },
      "text/plain": [
       "VBox(children=(Dropdown(description='Preset:', layout=Layout(width='360px'), options=(('Underdamped (complex):…"
      ]
     },
     "metadata": {},
     "output_type": "display_data"
    }
   ],
   "source": [
    "from movie import make_movie\n",
    "make_movie()"
   ]
  },
  {
   "cell_type": "code",
   "execution_count": null,
   "id": "30ac7ce2-d2d1-41c0-b759-60fdcad5230d",
   "metadata": {},
   "outputs": [],
   "source": []
  }
 ],
 "metadata": {
  "kernelspec": {
   "display_name": "Python 3 (ipykernel)",
   "language": "python",
   "name": "python3"
  },
  "language_info": {
   "codemirror_mode": {
    "name": "ipython",
    "version": 3
   },
   "file_extension": ".py",
   "mimetype": "text/x-python",
   "name": "python",
   "nbconvert_exporter": "python",
   "pygments_lexer": "ipython3",
   "version": "3.12.11"
  }
 },
 "nbformat": 4,
 "nbformat_minor": 5
}
