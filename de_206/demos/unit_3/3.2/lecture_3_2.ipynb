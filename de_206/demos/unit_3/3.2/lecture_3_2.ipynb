{
 "cells": [
  {
   "cell_type": "code",
   "execution_count": 1,
   "id": "f6a170e7",
   "metadata": {},
   "outputs": [],
   "source": [
    "from IPython.display import IFrame\n",
    "\n",
    "#IFrame('Boyce_12e_PPT_ch03_2.pdf', width=800, height=600)"
   ]
  },
  {
   "cell_type": "code",
   "execution_count": 2,
   "id": "b0f4ff23",
   "metadata": {},
   "outputs": [
    {
     "data": {
      "application/vnd.jupyter.widget-view+json": {
       "model_id": "83b808fbe447467babc035dc44eceda7",
       "version_major": 2,
       "version_minor": 0
      },
      "text/plain": [
       "VBox(children=(Dropdown(description='Preset:', layout=Layout(width='360px'), options=(('Underdamped (complex):…"
      ]
     },
     "metadata": {},
     "output_type": "display_data"
    }
   ],
   "source": [
    "from movie import make_movie\n",
    "make_movie()"
   ]
  },
  {
   "cell_type": "code",
   "execution_count": null,
   "id": "30ac7ce2-d2d1-41c0-b759-60fdcad5230d",
   "metadata": {},
   "outputs": [],
   "source": []
  }
 ],
 "metadata": {
  "kernelspec": {
   "display_name": "Python 3 (ipykernel)",
   "language": "python",
   "name": "python3"
  },
  "language_info": {
   "codemirror_mode": {
    "name": "ipython",
    "version": 3
   },
   "file_extension": ".py",
   "mimetype": "text/x-python",
   "name": "python",
   "nbconvert_exporter": "python",
   "pygments_lexer": "ipython3",
   "version": "3.12.11"
  }
 },
 "nbformat": 4,
 "nbformat_minor": 5
}
