{
 "cells": [
  {
   "cell_type": "code",
   "execution_count": null,
   "id": "0940544e",
   "metadata": {},
   "outputs": [
    {
     "data": {
      "text/html": [
       "\n",
       "        <iframe\n",
       "            width=\"1000\"\n",
       "            height=\"700\"\n",
       "            src=\"Boyce_12e_PPT_ch03_1.pdf\"\n",
       "            frameborder=\"0\"\n",
       "            allowfullscreen\n",
       "            \n",
       "        ></iframe>\n",
       "        "
      ],
      "text/plain": [
       "<IPython.lib.display.IFrame at 0x24bb1f08830>"
      ]
     },
     "execution_count": 1,
     "metadata": {},
     "output_type": "execute_result"
    }
   ],
   "source": [
    "from IPython.display import IFrame\n",
    "\n",
    "IFrame('Boyce_12e_PPT_ch03_1.pdf', width=1000, height=700)"
   ]
  },
  {
   "cell_type": "code",
   "execution_count": 29,
   "id": "fa8db85a",
   "metadata": {},
   "outputs": [
    {
     "ename": "ImportError",
     "evalue": "cannot import name 'run_demo' from 'demo' (c:\\Users\\ihuss\\Manim_Fellowship_2025\\EN540205-6\\de_206\\demos\\unit_3\\3.1\\demo.py)",
     "output_type": "error",
     "traceback": [
      "\u001b[31m---------------------------------------------------------------------------\u001b[39m",
      "\u001b[31mImportError\u001b[39m                               Traceback (most recent call last)",
      "\u001b[36mCell\u001b[39m\u001b[36m \u001b[39m\u001b[32mIn[29]\u001b[39m\u001b[32m, line 1\u001b[39m\n\u001b[32m----> \u001b[39m\u001b[32m1\u001b[39m \u001b[38;5;28;01mfrom\u001b[39;00m\u001b[38;5;250m \u001b[39m\u001b[34;01mdemo\u001b[39;00m\u001b[38;5;250m \u001b[39m\u001b[38;5;28;01mimport\u001b[39;00m run_demo\n\u001b[32m      3\u001b[39m run_demo()\n",
      "\u001b[31mImportError\u001b[39m: cannot import name 'run_demo' from 'demo' (c:\\Users\\ihuss\\Manim_Fellowship_2025\\EN540205-6\\de_206\\demos\\unit_3\\3.1\\demo.py)"
     ]
    }
   ],
   "source": [
    "from demo import run_demo\n",
    "\n",
    "run_demo()"
   ]
  }
 ],
 "metadata": {
  "kernelspec": {
   "display_name": "Python 3",
   "language": "python",
   "name": "python3"
  },
  "language_info": {
   "codemirror_mode": {
    "name": "ipython",
    "version": 3
   },
   "file_extension": ".py",
   "mimetype": "text/x-python",
   "name": "python",
   "nbconvert_exporter": "python",
   "pygments_lexer": "ipython3",
   "version": "3.13.3"
  }
 },
 "nbformat": 4,
 "nbformat_minor": 5
}
