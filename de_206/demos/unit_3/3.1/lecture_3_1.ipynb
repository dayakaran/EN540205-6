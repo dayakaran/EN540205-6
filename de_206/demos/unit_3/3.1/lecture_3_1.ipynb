{
 "cells": [
  {
   "cell_type": "code",
   "execution_count": null,
   "id": "0940544e",
   "metadata": {},
   "outputs": [
    {
     "data": {
      "text/html": [
       "\n",
       "        <iframe\n",
       "            width=\"1000\"\n",
       "            height=\"700\"\n",
       "            src=\"Boyce_12e_PPT_ch03_1.pdf\"\n",
       "            frameborder=\"0\"\n",
       "            allowfullscreen\n",
       "            \n",
       "        ></iframe>\n",
       "        "
      ],
      "text/plain": [
       "<IPython.lib.display.IFrame at 0x24bb1f08830>"
      ]
     },
     "execution_count": 1,
     "metadata": {},
     "output_type": "execute_result"
    }
   ],
   "source": [
    "from IPython.display import IFrame\n",
    "\n",
    "IFrame('Boyce_12e_PPT_ch03_1.pdf', width=1000, height=700)"
   ]
  },
  {
   "cell_type": "markdown",
   "id": "11af9272",
   "metadata": {},
   "source": [
    "# Exploring Phase Portraits for $y'' + 5y' + 6y = 0$\n",
    "\n",
    "The phase portrait, the plot of $(y,\\,y')$, shows how position and velocity change over time for this system.\n",
    "\n",
    "---\n",
    "\n",
    "## Using the Demo\n",
    "\n",
    "With the sliders and inputs above the plot, experiment with:\n",
    "\n",
    "- Set $y(0)$ **large** (e.g. $10$): The phase space path starts farther from the origin and curves toward $(0,0)$ more slowly.\n",
    "\n",
    "- Set $y'(0)$ **large** (e.g. $10$): The trajectory starts steeply upward, then bends quickly back to equilibrium.\n",
    "\n",
    "- Set $y(0)$ **negative** (e.g. $-5$): The curve begins to the left of the origin and returns toward rest.\n",
    "\n",
    "- Set $y'(0)$ **negative** (e.g. $-5$): The initial motion points downward, curving up as it approaches $(0,0)$.\n",
    "\n",
    "- **Combine values**, for example $y(0) = 8$, $y'(0) = -4$, to see a path starting away from both axes.\n",
    "\n",
    "- **Increase $t_{\\text{max}}$** to follow the approach to the origin over a longer time.\n",
    "\n",
    "---\n",
    "\n",
    "## Observing the Phase Portrait\n",
    "\n",
    "- All initial conditions lead the system to $(0,0)$, the stable fixed point, due to negative real roots.\n",
    "- The starting values set the path’s location and direction in phase space.\n",
    "- Each curve demonstrates damping: regardless of initial position or velocity, the system comes to rest."
   ]
  },
  {
   "cell_type": "code",
   "execution_count": null,
   "id": "fa8db85a",
   "metadata": {},
   "outputs": [
    {
     "data": {
      "application/vnd.jupyter.widget-view+json": {
       "model_id": "d14a4263c1834d3fb31d7ad93cc68fb7",
       "version_major": 2,
       "version_minor": 0
      },
      "text/plain": [
       "Play(value=1, interval=13, layout=Layout(display='none'), max=399, min=1)"
      ]
     },
     "metadata": {},
     "output_type": "display_data"
    },
    {
     "data": {
      "application/vnd.jupyter.widget-view+json": {
       "model_id": "1195f2278bae4e91a3f4167fa1ccd0c5",
       "version_major": 2,
       "version_minor": 0
      },
      "text/plain": [
       "VBox(children=(HTML(value=\"<h3>2nd Order ODE: y'' + 5y' + 6y = 0 &nbsp; &nbsp; | &nbsp; Vary initial values y(…"
      ]
     },
     "metadata": {},
     "output_type": "display_data"
    }
   ],
   "source": [
    "from demo import run_demo\n",
    "\n",
    "run_demo()"
   ]
  }
 ],
 "metadata": {
  "kernelspec": {
   "display_name": "Python 3",
   "language": "python",
   "name": "python3"
  },
  "language_info": {
   "codemirror_mode": {
    "name": "ipython",
    "version": 3
   },
   "file_extension": ".py",
   "mimetype": "text/x-python",
   "name": "python",
   "nbconvert_exporter": "python",
   "pygments_lexer": "ipython3",
   "version": "3.13.3"
  }
 },
 "nbformat": 4,
 "nbformat_minor": 5
}
