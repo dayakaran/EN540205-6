{
 "cells": [
  {
   "cell_type": "code",
   "execution_count": null,
   "id": "8edd1132-0e9d-4d49-a64a-065043076dd3",
   "metadata": {},
   "outputs": [
    {
     "data": {
      "text/html": [
       "\n",
       "        <iframe\n",
       "            width=\"1000\"\n",
       "            height=\"700\"\n",
       "            src=\"Boyce_12e_PPT_ch03_3.pdf\"\n",
       "            frameborder=\"0\"\n",
       "            allowfullscreen\n",
       "            \n",
       "        ></iframe>\n",
       "        "
      ],
      "text/plain": [
       "<IPython.lib.display.IFrame at 0x26ba8458830>"
      ]
     },
     "execution_count": 1,
     "metadata": {},
     "output_type": "execute_result"
    }
   ],
   "source": [
    "from IPython.display import IFrame\n",
    "\n",
    "IFrame('Boyce_12e_PPT_ch03_3.pdf', width=800, height=600)"
   ]
  },
  {
   "cell_type": "markdown",
   "id": "cac38535",
   "metadata": {},
   "source": [
    "\n",
    "This interactive demo lets you explore the solution of a **second-order linear ODE** of the form:\n",
    "\n",
    "$$\n",
    "y'' + a y' + b y = 0\n",
    "$$\n",
    "\n",
    "where\n",
    "\n",
    "- $ a = -2\\lambda $\n",
    "- $ b = \\lambda^2 + \\mu^2 $\n",
    "\n",
    "allowing you to visualize how varying $a$, $b$, and the initial conditions affect the physical character of the solution.\n",
    "\n",
    "---\n",
    "- Adjust **a**, **b**, initial conditions $y(0)$ and $y'(0)$, and the $t_{max}$.\n",
    "\n",
    "- Press **Update Params** after changing parameters.\n",
    "\n",
    "- Animate the solution with Play/Pause/Stop/Reset.\n",
    "\n",
    "- View $y(t)$, $y'(t)$, $y''(t)$ and the phase portrait $(y,\\, y')$.\n",
    "\n",
    "- The info panel shows the analytic solution form and qualitative regime.\n",
    "\n",
    "---\n",
    "\n",
    "**Suggested parameters:**\n",
    "- $$a = 0,\\;\\; b > 0\\ :\\ \\text{Undamped harmonic oscillator}$$\n",
    "- $$a^2 = 4b\\ :\\ \\text{Critical damping (double real root)}$$\n",
    "- $$a^2 > 4b\\ :\\ \\text{Overdamping (distinct real roots)}$$\n",
    "- $$a > 0,\\;\\; b > 0\\ :\\ \\text{Underdamped (oscillatory decay)}$$\n",
    "- $$a < 0\\ :\\ \\text{Unstable growth}$$\n",
    "\n",
    "---\n"
   ]
  },
  {
   "cell_type": "code",
   "execution_count": 1,
   "id": "0e1b079e",
   "metadata": {},
   "outputs": [
    {
     "data": {
      "application/vnd.jupyter.widget-view+json": {
       "model_id": "41dac89cd93a4043a76a5366c62d03d9",
       "version_major": 2,
       "version_minor": 0
      },
      "text/plain": [
       "Play(value=0, interval=15, layout=Layout(display='none'), max=399)"
      ]
     },
     "metadata": {},
     "output_type": "display_data"
    },
    {
     "data": {
      "application/vnd.jupyter.widget-view+json": {
       "model_id": "f8ad7824a46e494da83e02cc061220af",
       "version_major": 2,
       "version_minor": 0
      },
      "text/plain": [
       "VBox(children=(HTML(value='<h3>2nd Order ODE: Control a, b (Characteristic Equation Roots)</h3>'), VBox(childr…"
      ]
     },
     "metadata": {},
     "output_type": "display_data"
    }
   ],
   "source": [
    "from demo import run_demo\n",
    "run_demo()"
   ]
  }
 ],
 "metadata": {
  "kernelspec": {
   "display_name": "Python 3",
   "language": "python",
   "name": "python3"
  },
  "language_info": {
   "codemirror_mode": {
    "name": "ipython",
    "version": 3
   },
   "file_extension": ".py",
   "mimetype": "text/x-python",
   "name": "python",
   "nbconvert_exporter": "python",
   "pygments_lexer": "ipython3",
   "version": "3.13.3"
  }
 },
 "nbformat": 4,
 "nbformat_minor": 5
}
