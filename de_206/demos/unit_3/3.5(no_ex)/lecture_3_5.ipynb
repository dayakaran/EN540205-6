{
 "cells": [
  {
   "cell_type": "code",
   "execution_count": null,
   "id": "0333a0e3",
   "metadata": {},
   "outputs": [],
   "source": []
  },
  {
   "cell_type": "code",
   "execution_count": null,
   "id": "c8d8f397",
   "metadata": {},
   "outputs": [
    {
     "name": "stderr",
     "output_type": "stream",
     "text": [
      "<>:165: SyntaxWarning: invalid escape sequence '\\z'\n",
      "<>:165: SyntaxWarning: invalid escape sequence '\\z'\n",
      "C:\\Users\\ihuss\\AppData\\Local\\Temp\\ipykernel_8516\\2682755068.py:165: SyntaxWarning: invalid escape sequence '\\z'\n",
      "  lines = [eq_latex, f\"Regime: {reg['regime'].capitalize()}    $\\zeta={reg.get('zeta',float('nan')):.2f}$\"]\n"
     ]
    },
    {
     "data": {
      "text/html": [
       "<b>General Forced 2nd Order ODE Demo:</b>"
      ],
      "text/plain": [
       "<IPython.core.display.HTML object>"
      ]
     },
     "metadata": {},
     "output_type": "display_data"
    },
    {
     "data": {
      "text/markdown": [
       "\n",
       "- Change <code>a₁</code>, <code>a₀</code> for damping/stiffness.<br>\n",
       "- Change <code>g(t)</code> to any valid Python expression (e.g. <code>np.sin(2*t)</code>, <code>4*np.exp(-0.2*t)+1</code>, <code>3*t</code>) and see immediate results.<br>\n",
       "- Initial values <code>y₀</code>, <code>v₀</code> and max simulation time also editable.<br>\n"
      ],
      "text/plain": [
       "<IPython.core.display.Markdown object>"
      ]
     },
     "metadata": {},
     "output_type": "display_data"
    },
    {
     "data": {
      "application/vnd.jupyter.widget-view+json": {
       "model_id": "cdd65ddf438649849591925ab1ef3bb1",
       "version_major": 2,
       "version_minor": 0
      },
      "text/plain": [
       "Play(value=0, interval=50, layout=Layout(display='none'), max=399)"
      ]
     },
     "metadata": {},
     "output_type": "display_data"
    },
    {
     "data": {
      "application/vnd.jupyter.widget-view+json": {
       "model_id": "dddcd672fc6f4bbc956e02cd90d5226f",
       "version_major": 2,
       "version_minor": 0
      },
      "text/plain": [
       "VBox(children=(HBox(children=(HBox(children=(FloatText(value=1.0, description='a₁', layout=Layout(width='90px'…"
      ]
     },
     "metadata": {},
     "output_type": "display_data"
    },
    {
     "data": {
      "application/vnd.jupyter.widget-view+json": {
       "model_id": "acc9d4bcc1784f81a7f2e8b9ca9ccfc2",
       "version_major": 2,
       "version_minor": 0
      },
      "text/plain": [
       "Output()"
      ]
     },
     "metadata": {},
     "output_type": "display_data"
    },
    {
     "data": {
      "text/html": [
       "<b>General Forced 2nd Order ODE Demo:</b>"
      ],
      "text/plain": [
       "<IPython.core.display.HTML object>"
      ]
     },
     "metadata": {},
     "output_type": "display_data"
    },
    {
     "data": {
      "text/markdown": [
       "\n",
       "- Change <code>a₁</code>, <code>a₀</code> for damping/stiffness.<br>\n",
       "- Change <code>g(t)</code> to any valid Python expression (e.g. <code>np.sin(2*t)</code>, <code>4*np.exp(-0.2*t)+1</code>, <code>3*t</code>) and see immediate results.<br>\n",
       "- Initial values <code>y₀</code>, <code>v₀</code> and max simulation time also editable.<br>\n"
      ],
      "text/plain": [
       "<IPython.core.display.Markdown object>"
      ]
     },
     "metadata": {},
     "output_type": "display_data"
    },
    {
     "data": {
      "application/vnd.jupyter.widget-view+json": {
       "model_id": "f6215a89edad4a768457433a14b98d7e",
       "version_major": 2,
       "version_minor": 0
      },
      "text/plain": [
       "Play(value=0, interval=50, layout=Layout(display='none'), max=399)"
      ]
     },
     "metadata": {},
     "output_type": "display_data"
    },
    {
     "data": {
      "application/vnd.jupyter.widget-view+json": {
       "model_id": "817feac5b26f47fcb00764c24127aa4b",
       "version_major": 2,
       "version_minor": 0
      },
      "text/plain": [
       "VBox(children=(HBox(children=(HBox(children=(FloatText(value=1.0, description='a₁', layout=Layout(width='90px'…"
      ]
     },
     "metadata": {},
     "output_type": "display_data"
    },
    {
     "data": {
      "application/vnd.jupyter.widget-view+json": {
       "model_id": "1c8d54e2f8034172a6c57fb545b7e091",
       "version_major": 2,
       "version_minor": 0
      },
      "text/plain": [
       "Output()"
      ]
     },
     "metadata": {},
     "output_type": "display_data"
    }
   ],
   "source": [
    "import numpy as np, matplotlib.pyplot as plt, seaborn as sns\n",
    "from scipy.integrate import solve_ivp\n",
    "import ipywidgets as widgets\n",
    "from IPython.display import display, Markdown, Latex, HTML, clear_output\n",
    "sns.set_context('poster')\n",
    "import warnings; warnings.filterwarnings(\"ignore\")\n",
    "\n",
    "class General2ndOrderDEDemo:\n",
    "    def __init__(self):\n",
    "        # Initial params (feel free to change starter values)\n",
    "        self.a1, self.a0 = 1.0, 4.0\n",
    "        self.y0, self.v0 = 1.0, 0.0\n",
    "        self.t_max, self.n_frames = 40., 400\n",
    "        self.g_expr = \"np.sin(2*t)\"  # Initial g(t)\n",
    "        self.t_vals = np.linspace(0, self.t_max, self.n_frames)\n",
    "        self._safe_g = None\n",
    "        self.solve()\n",
    "        self._create_widgets()\n",
    "        \n",
    "    # ───── integrate ODE & cache limits ──────────────────\n",
    "    def solve(self):\n",
    "        # Validate/sanitize right hand side\n",
    "        def gfunc(t):\n",
    "            safe = dict(np=np, t=t)\n",
    "            try:\n",
    "                return eval(self.g_expr, {\"__builtins__\": {}}, safe)\n",
    "            except Exception as e:\n",
    "                print(\"g(t) evaluation error:\", e)\n",
    "                return np.zeros_like(t)\n",
    "        self._safe_g = gfunc\n",
    "        \n",
    "        # System: y'' + a1 y' + a0 y = g(t)\n",
    "        f = lambda t, Y: [Y[1], -self.a1*Y[1] - self.a0*Y[0] + gfunc(t)]\n",
    "        sol = solve_ivp(f, [0, self.t_max], [self.y0, self.v0], t_eval=self.t_vals)\n",
    "        self.y, self.v = sol.y\n",
    "        self.a = np.gradient(self.v, self.t_vals)  # Numeric acceleration\n",
    "        \n",
    "        self.max_y = 1.2 * np.max(np.abs(self.y)) or 1\n",
    "        self.max_v = 1.2 * np.max(np.abs(self.v)) or 1\n",
    "        self.max_a = 1.2 * np.max(np.abs(self.a)) or 1\n",
    "        self.max_dv = max(self.max_v, self.max_a)\n",
    "\n",
    "    # ───── widget helpers ──────────────────────\n",
    "    def _create_widgets(self):\n",
    "        style20 = {\"description_width\": \"20px\"}\n",
    "        param_box = widgets.HBox([\n",
    "            widgets.FloatText(value=self.a1, description=\"a₁\", layout=widgets.Layout(width=\"90px\"), style=style20),\n",
    "            widgets.FloatText(value=self.a0, description=\"a₀\", layout=widgets.Layout(width=\"90px\"), style=style20),\n",
    "            widgets.FloatText(value=self.y0, description=\"y₀\", layout=widgets.Layout(width=\"90px\"), style=style20),\n",
    "            widgets.FloatText(value=self.v0, description=\"v₀\", layout=widgets.Layout(width=\"90px\"), style=style20),\n",
    "            widgets.FloatText(value=self.t_max, description=\"max t\", layout=widgets.Layout(width=\"90px\"), style=style20),\n",
    "        ])\n",
    "        \n",
    "        g_box = widgets.Text(value=self.g_expr, description=\"g(t) =\", layout=widgets.Layout(width=\"350px\"), style={\"description_width\": \"60px\"})\n",
    "        \n",
    "        update_btn = widgets.Button(description='Update Params', button_style='primary')\n",
    "        update_btn.on_click(lambda *_: self._apply_param_updates(param_box, g_box))\n",
    "        \n",
    "        self.play_widget = widgets.Play(value=0, min=0, max=self.n_frames-1,\n",
    "                                        step=1, interval=50)\n",
    "        self.play_btn  = widgets.Button(description='▶ Play',  button_style='success', layout=widgets.Layout(width='85px'))\n",
    "        self.pause_btn = widgets.Button(description='⏸ Pause', button_style='warning', layout=widgets.Layout(width='85px'))\n",
    "        self.stop_btn  = widgets.Button(description='⏹ Stop',  button_style='danger',  layout=widgets.Layout(width='85px'))\n",
    "        self.reset_btn = widgets.Button(description='⟲ Reset', button_style='info',    layout=widgets.Layout(width='85px'))\n",
    "        self.play_btn.on_click(lambda *_: setattr(self.play_widget,'playing',True))\n",
    "        self.pause_btn.on_click(lambda *_: setattr(self.play_widget,'playing',False))\n",
    "        self.stop_btn.on_click(lambda *_: self._set_play(0, stop=True))\n",
    "        self.reset_btn.on_click(lambda *_: self._set_play(0))\n",
    "        \n",
    "        self.time_slider = widgets.FloatSlider(0, min=0, max=self.t_max,\n",
    "                                step=self.t_max/(self.n_frames-1),\n",
    "                                description='Time (s):', disabled=True,\n",
    "                                layout=widgets.Layout(width='500px'),\n",
    "                                style={'description_width':'initial'})\n",
    "\n",
    "        self.param_box, self.g_box, self.update_btn = param_box, g_box, update_btn\n",
    "\n",
    "    def _set_play(self, index, stop=False):\n",
    "        if stop:\n",
    "            self.play_widget.playing=False\n",
    "        self.play_widget.value=index\n",
    "\n",
    "    def _apply_param_updates(self, param_box, g_box):\n",
    "        self.a1 = float(param_box.children[0].value)\n",
    "        self.a0 = float(param_box.children[1].value)\n",
    "        self.y0 = float(param_box.children[2].value)\n",
    "        self.v0 = float(param_box.children[3].value)\n",
    "        self.t_max = float(param_box.children[4].value)\n",
    "        self.g_expr = g_box.value\n",
    "        self.t_vals = np.linspace(0, self.t_max, self.n_frames)\n",
    "        self.solve()\n",
    "        \n",
    "    def _regime(self):\n",
    "        D = self.a1**2 - 4*self.a0\n",
    "        omega0 = np.sqrt(abs(self.a0))\n",
    "        zeta = self.a1 / (2*omega0) if omega0 > 0 else np.nan\n",
    "        info = dict(D=D, omega0=omega0, zeta=zeta)\n",
    "        if D < 0:\n",
    "            omega_d = np.sqrt(4*self.a0 - self.a1**2)/2\n",
    "            info.update(regime='underdamped', omega_d=omega_d)\n",
    "        elif np.isclose(D,0):\n",
    "            r = -self.a1/2\n",
    "            info.update(regime='critically damped', r=r)\n",
    "        else:\n",
    "            sqrtD = np.sqrt(D)\n",
    "            r1 = (-self.a1 + sqrtD)/2\n",
    "            r2 = (-self.a1 - sqrtD)/2\n",
    "            info.update(regime='overdamped', r1=r1, r2=r2)\n",
    "        return info\n",
    "\n",
    "    # ───── main drawing ──────────────────────────────\n",
    "    def _update(self, frame_idx):\n",
    "        i, t = int(frame_idx), self.t_vals[int(frame_idx)]\n",
    "        y, v, a = self.y[i], self.v[i], self.a[i]\n",
    "        self.time_slider.value = t; reg = self._regime()\n",
    "        fig = plt.figure(figsize=(14,14))\n",
    "        gs  = fig.add_gridspec(3,2, height_ratios=[1,1,0.5], hspace=0.75, wspace=0.3)\n",
    "        \n",
    "        # Top-left: displacement\n",
    "        axY = fig.add_subplot(gs[0,0]); axY.set_title('Displacement $y(t)$'); axY.grid()\n",
    "        axY.set_xlim(0, self.t_max)\n",
    "        axY.set_ylim(-self.max_y, self.max_y)\n",
    "        axY.set_xlabel('t')\n",
    "        axY.plot(self.t_vals, self.y, 'b--', lw=1)\n",
    "        axY.plot(self.t_vals[:i+1], self.y[:i+1],'b-',lw=2)\n",
    "        axY.plot(t, y, 'bo')\n",
    "        axY.text(.99, .95, reg['regime'], transform=axY.transAxes, ha='right', va='top',\n",
    "                 bbox=dict(boxstyle='round',fc='wheat',alpha=.6))\n",
    "        \n",
    "        # Top-right: g(t)\n",
    "        axG = fig.add_subplot(gs[0,1])\n",
    "        axG.set_title('Forcing $g(t)$')\n",
    "        axG.set_xlim(0, self.t_max)\n",
    "        try:\n",
    "            gvals = self._safe_g(self.t_vals)\n",
    "            axG.plot(self.t_vals, gvals, 'm')\n",
    "        except:\n",
    "            axG.text(0.5, 0.5, \"Invalid g(t)\", ha='center', va='center')\n",
    "        axG.set_xlabel('t')\n",
    "        axG.grid()\n",
    "        \n",
    "        # Mid-left: velocity & acceleration\n",
    "        axV = fig.add_subplot(gs[1,0]); axV.set_title('Velocity & Accel.'); axV.grid()\n",
    "        axV.set_xlim(0, self.t_max)\n",
    "        axV.set_ylim(-self.max_dv, self.max_dv)\n",
    "        axV.plot(self.t_vals[:i+1], self.v[:i+1],'g-',label=\"v(t)\")\n",
    "        axV.plot(self.t_vals[:i+1], self.a[:i+1],'r--',label=\"a(t)\")\n",
    "        axV.plot(t, v,'go')\n",
    "        axV.plot(t, a,'ro')\n",
    "        axV.set_xlabel('t'); axV.legend(fontsize=12)\n",
    "        \n",
    "        # Mid-right: phase portrait\n",
    "        axP = fig.add_subplot(gs[1,1])\n",
    "        axP.set_title('Phase Portrait (y vs y\\')')\n",
    "        axP.set_xlabel('y')\n",
    "        axP.set_ylabel('y\\'')\n",
    "        axP.set_xlim(-self.max_y, self.max_y)\n",
    "        axP.set_ylim(-self.max_v, self.max_v)\n",
    "        axP.plot(self.y[:i+1], self.v[:i+1], 'b')\n",
    "        axP.plot(y, v, 'ro')\n",
    "        \n",
    "        # Long bottom: regime summary\n",
    "        axR   = fig.add_subplot(gs[2,:]); axR.axis('off')\n",
    "        eq_latex = f\"$\\\\frac{{d^2y}}{{dt^2}} + {self.a1:.2f} \\\\frac{{dy}}{{dt}} + {self.a0:.2f} y = g(t)$, \" + f\"$g(t) = $<code>{self.g_expr}</code>\"\n",
    "        lines = [eq_latex, f\"Regime: {reg['regime'].capitalize()}    $\\zeta={reg.get('zeta',float('nan')):.2f}$\"]\n",
    "        if reg['regime']=='underdamped':\n",
    "            lines += [f\"$\\\\omega_0={reg['omega0']:.2f}$\", f\"$\\\\omega_d={reg['omega_d']:.2f}$\"]\n",
    "        elif reg['regime']=='critically damped':\n",
    "            lines += [f\"root = {reg['r']:.3f}\"]\n",
    "        else:\n",
    "            lines += [f\"$r_1$ = {reg['r1']:.3f}, $r_2$ = {reg['r2']:.3f}\"]\n",
    "        axR.text(0.01,0.5,\"   \".join(lines),va='center',fontsize=13)\n",
    "        plt.tight_layout()\n",
    "        plt.show()\n",
    "        \n",
    "    # ───── assemble UI & launch interactive ────────────\n",
    "    def display(self):\n",
    "        controls = widgets.VBox([\n",
    "            widgets.HBox([self.param_box, self.g_box]),\n",
    "            self.update_btn,\n",
    "            widgets.HBox([self.play_btn, self.pause_btn, self.stop_btn, self.reset_btn]),\n",
    "            widgets.Label(\"Progress,\"), self.time_slider])\n",
    "        self.play_widget.layout.display='none'\n",
    "        display(HTML(\"<b>General Forced 2nd Order ODE Demo:</b>\"))\n",
    "        display(Markdown(\"\"\"\n",
    "- Change <code>a₁</code>, <code>a₀</code> for damping/stiffness.<br>\n",
    "- Change <code>g(t)</code> to any valid Python expression (e.g. <code>np.sin(2*t)</code>, <code>4*np.exp(-0.2*t)+1</code>, <code>3*t</code>) and see immediate results.<br>\n",
    "- Initial values <code>y₀</code>, <code>v₀</code> and max simulation time also editable.<br>\n",
    "\"\"\"))\n",
    "        display(self.play_widget)\n",
    "        out = widgets.interactive_output(self._update, {'frame_idx': self.play_widget})\n",
    "        display(controls, out)\n",
    "\n",
    "def run_demo():\n",
    "    demo = General2ndOrderDEDemo()\n",
    "    demo.display()\n",
    "\n",
    "if __name__ == \"__main__\":\n",
    "    run_demo()\n",
    "\n",
    "run_demo()\n"
   ]
  },
  {
   "cell_type": "code",
   "execution_count": null,
   "id": "c57aa19e",
   "metadata": {},
   "outputs": [
    {
     "data": {
      "text/html": [
       "<b>General Forced 2nd Order ODE Demo:</b>"
      ],
      "text/plain": [
       "<IPython.core.display.HTML object>"
      ]
     },
     "metadata": {},
     "output_type": "display_data"
    },
    {
     "data": {
      "text/markdown": [
       "\n",
       "- Change <code>a₁</code>, <code>a₀</code> for damping/stiffness.<br>\n",
       "- Change <code>g(t)</code> to any valid Python expression (e.g. <code>np.sin(2*t)</code>, <code>4*np.exp(-0.2*t)+1</code>, <code>3*t</code>) and see immediate results.<br>\n",
       "- Initial values <code>y₀</code>, <code>v₀</code> and max simulation time also editable.<br>\n"
      ],
      "text/plain": [
       "<IPython.core.display.Markdown object>"
      ]
     },
     "metadata": {},
     "output_type": "display_data"
    },
    {
     "data": {
      "application/vnd.jupyter.widget-view+json": {
       "model_id": "2cd243aea87744e89f95bbd8dcb995ce",
       "version_major": 2,
       "version_minor": 0
      },
      "text/plain": [
       "Play(value=0, interval=50, layout=Layout(display='none'), max=399)"
      ]
     },
     "metadata": {},
     "output_type": "display_data"
    },
    {
     "data": {
      "application/vnd.jupyter.widget-view+json": {
       "model_id": "4525915d4e5b4bfb916f9412e3cd3271",
       "version_major": 2,
       "version_minor": 0
      },
      "text/plain": [
       "VBox(children=(HBox(children=(HBox(children=(FloatText(value=1.0, description='a₁', layout=Layout(width='90px'…"
      ]
     },
     "metadata": {},
     "output_type": "display_data"
    },
    {
     "data": {
      "application/vnd.jupyter.widget-view+json": {
       "model_id": "4e53c8499eca4ed19a1088e062d6b629",
       "version_major": 2,
       "version_minor": 0
      },
      "text/plain": [
       "Output()"
      ]
     },
     "metadata": {},
     "output_type": "display_data"
    },
    {
     "data": {
      "text/html": [
       "<b>General Forced 2nd Order ODE Demo:</b>"
      ],
      "text/plain": [
       "<IPython.core.display.HTML object>"
      ]
     },
     "metadata": {},
     "output_type": "display_data"
    },
    {
     "data": {
      "text/markdown": [
       "\n",
       "- Change <code>a₁</code>, <code>a₀</code> for damping/stiffness.<br>\n",
       "- Change <code>g(t)</code> to any valid Python expression (e.g. <code>np.sin(2*t)</code>, <code>4*np.exp(-0.2*t)+1</code>, <code>3*t</code>) and see immediate results.<br>\n",
       "- Initial values <code>y₀</code>, <code>v₀</code> and max simulation time also editable.<br>\n"
      ],
      "text/plain": [
       "<IPython.core.display.Markdown object>"
      ]
     },
     "metadata": {},
     "output_type": "display_data"
    },
    {
     "data": {
      "application/vnd.jupyter.widget-view+json": {
       "model_id": "543d2de01f7e43aea00b554634ce50fe",
       "version_major": 2,
       "version_minor": 0
      },
      "text/plain": [
       "Play(value=0, interval=50, layout=Layout(display='none'), max=399)"
      ]
     },
     "metadata": {},
     "output_type": "display_data"
    },
    {
     "data": {
      "application/vnd.jupyter.widget-view+json": {
       "model_id": "426ebee24d73476c89ace5155a685de7",
       "version_major": 2,
       "version_minor": 0
      },
      "text/plain": [
       "VBox(children=(HBox(children=(HBox(children=(FloatText(value=1.0, description='a₁', layout=Layout(width='90px'…"
      ]
     },
     "metadata": {},
     "output_type": "display_data"
    },
    {
     "data": {
      "application/vnd.jupyter.widget-view+json": {
       "model_id": "7945f454bc9443c3b9aff0a03a6fc270",
       "version_major": 2,
       "version_minor": 0
      },
      "text/plain": [
       "Output()"
      ]
     },
     "metadata": {},
     "output_type": "display_data"
    }
   ],
   "source": []
  },
  {
   "cell_type": "code",
   "execution_count": 3,
   "id": "ba0cb136",
   "metadata": {},
   "outputs": [
    {
     "data": {
      "text/html": [
       "<b>General Forced 2nd Order ODE Demo:</b>"
      ],
      "text/plain": [
       "<IPython.core.display.HTML object>"
      ]
     },
     "metadata": {},
     "output_type": "display_data"
    },
    {
     "data": {
      "text/markdown": [
       "\n",
       "- Change <code>a₁</code>, <code>a₀</code> for damping/stiffness.<br>\n",
       "- Change <code>g(t)</code> to any valid Python expression (e.g. <code>np.sin(2*t)</code>, <code>4*np.exp(-0.2*t)+1</code>, <code>3*t</code>) and see immediate results.<br>\n",
       "- Initial values <code>y₀</code>, <code>v₀</code> and max simulation time also editable.<br>\n"
      ],
      "text/plain": [
       "<IPython.core.display.Markdown object>"
      ]
     },
     "metadata": {},
     "output_type": "display_data"
    },
    {
     "data": {
      "application/vnd.jupyter.widget-view+json": {
       "model_id": "09a5da672eec4cc4889b0e62ac4b2dba",
       "version_major": 2,
       "version_minor": 0
      },
      "text/plain": [
       "Play(value=0, interval=50, layout=Layout(display='none'), max=399)"
      ]
     },
     "metadata": {},
     "output_type": "display_data"
    },
    {
     "data": {
      "application/vnd.jupyter.widget-view+json": {
       "model_id": "744304a8176a4a6d8fe414829a04002c",
       "version_major": 2,
       "version_minor": 0
      },
      "text/plain": [
       "VBox(children=(HBox(children=(HBox(children=(FloatText(value=1.0, description='a₁', layout=Layout(width='90px'…"
      ]
     },
     "metadata": {},
     "output_type": "display_data"
    },
    {
     "data": {
      "application/vnd.jupyter.widget-view+json": {
       "model_id": "97b51b0c905f4d58a117f5b43cd29e2f",
       "version_major": 2,
       "version_minor": 0
      },
      "text/plain": [
       "Output()"
      ]
     },
     "metadata": {},
     "output_type": "display_data"
    }
   ],
   "source": [
    "import numpy as np, matplotlib.pyplot as plt, seaborn as sns\n",
    "from scipy.integrate import solve_ivp\n",
    "import ipywidgets as widgets\n",
    "from IPython.display import display, Markdown, HTML\n",
    "sns.set_context('poster')\n",
    "import warnings; warnings.filterwarnings(\"ignore\")\n",
    "\n",
    "class General2ndOrderDEDemo:\n",
    "    def __init__(self):\n",
    "        self.a1, self.a0 = 1.0, 4.0\n",
    "        self.y0, self.v0 = 1.0, 0.0\n",
    "        self.t_max, self.n_frames = 40., 400\n",
    "        self.g_expr = \"np.sin(2*t)\"\n",
    "        self.t_vals = np.linspace(0, self.t_max, self.n_frames)\n",
    "        self._safe_g = None\n",
    "        self.solve()\n",
    "        self._create_widgets()\n",
    "        \n",
    "    def solve(self):\n",
    "        def gfunc(t):\n",
    "            safe = dict(np=np, t=t)\n",
    "            try:\n",
    "                return eval(self.g_expr, {\"__builtins__\": {}}, safe)\n",
    "            except Exception:\n",
    "                return np.zeros_like(t)\n",
    "        self._safe_g = gfunc\n",
    "        f = lambda t, Y: [Y[1], -self.a1*Y[1] - self.a0*Y[0] + gfunc(t)]\n",
    "        sol = solve_ivp(f, [0, self.t_max], [self.y0, self.v0], t_eval=self.t_vals)\n",
    "        self.y, self.v = sol.y\n",
    "        self.a = np.gradient(self.v, self.t_vals)\n",
    "        self.max_y = 1.2 * np.max(np.abs(self.y)) or 1\n",
    "        self.max_v = 1.2 * np.max(np.abs(self.v)) or 1\n",
    "        self.max_a = 1.2 * np.max(np.abs(self.a)) or 1\n",
    "        self.max_dv = max(self.max_v, self.max_a)\n",
    "\n",
    "    def _create_widgets(self):\n",
    "        param_box = widgets.HBox([\n",
    "            widgets.FloatText(value=self.a1, description=\"a₁\", layout=widgets.Layout(width=\"90px\")),\n",
    "            widgets.FloatText(value=self.a0, description=\"a₀\", layout=widgets.Layout(width=\"90px\")),\n",
    "            widgets.FloatText(value=self.y0, description=\"y₀\", layout=widgets.Layout(width=\"90px\")),\n",
    "            widgets.FloatText(value=self.v0, description=\"v₀\", layout=widgets.Layout(width=\"90px\")),\n",
    "            widgets.FloatText(value=self.t_max, description=\"max t\", layout=widgets.Layout(width=\"100px\")),\n",
    "        ])        \n",
    "        g_box = widgets.Text(value=self.g_expr, description=\"g(t) =\", layout=widgets.Layout(width=\"350px\"), style={\"description_width\": \"60px\"})\n",
    "        update_btn = widgets.Button(description='Update Params', button_style='primary')\n",
    "        update_btn.on_click(lambda *_: self._apply_param_updates(param_box, g_box))\n",
    "        self.play_widget = widgets.Play(value=0, min=0, max=self.n_frames-1, step=1, interval=50)\n",
    "        self.play_btn  = widgets.Button(description='▶ Play',  button_style='success', layout=widgets.Layout(width='85px'))\n",
    "        self.pause_btn = widgets.Button(description='⏸ Pause', button_style='warning', layout=widgets.Layout(width='85px'))\n",
    "        self.stop_btn  = widgets.Button(description='⏹ Stop',  button_style='danger',  layout=widgets.Layout(width='85px'))\n",
    "        self.reset_btn = widgets.Button(description='⟲ Reset', button_style='info',    layout=widgets.Layout(width='85px'))\n",
    "        self.play_btn.on_click(lambda *_: setattr(self.play_widget,'playing',True))\n",
    "        self.pause_btn.on_click(lambda *_: setattr(self.play_widget,'playing',False))\n",
    "        self.stop_btn.on_click(lambda *_: self._set_play(0, stop=True))\n",
    "        self.reset_btn.on_click(lambda *_: self._set_play(0))\n",
    "        self.time_slider = widgets.FloatSlider(0, min=0, max=self.t_max,\n",
    "                                step=self.t_max/(self.n_frames-1),\n",
    "                                description='Time (s):', disabled=True,\n",
    "                                layout=widgets.Layout(width='500px'),\n",
    "                                style={'description_width':'initial'})\n",
    "        self.param_box, self.g_box, self.update_btn = param_box, g_box, update_btn\n",
    "\n",
    "    def _set_play(self, index, stop=False):\n",
    "        if stop:\n",
    "            self.play_widget.playing=False\n",
    "        self.play_widget.value=index\n",
    "\n",
    "    def _apply_param_updates(self, param_box, g_box):\n",
    "        self.a1 = float(param_box.children[0].value)\n",
    "        self.a0 = float(param_box.children[1].value)\n",
    "        self.y0 = float(param_box.children[2].value)\n",
    "        self.v0 = float(param_box.children[3].value)\n",
    "        self.t_max = float(param_box.children[4].value)\n",
    "        self.g_expr = g_box.value\n",
    "        self.t_vals = np.linspace(0, self.t_max, self.n_frames)\n",
    "        self.solve()\n",
    "        \n",
    "    def _regime(self):\n",
    "        D = self.a1**2 - 4*self.a0\n",
    "        omega0 = np.sqrt(abs(self.a0))\n",
    "        zeta = self.a1 / (2*omega0) if omega0 > 0 else np.nan\n",
    "        info = dict(D=D, omega0=omega0, zeta=zeta)\n",
    "        if D < 0:\n",
    "            omega_d = np.sqrt(4*self.a0 - self.a1**2)/2\n",
    "            info.update(regime='underdamped', omega_d=omega_d)\n",
    "        elif np.isclose(D,0):\n",
    "            r = -self.a1/2\n",
    "            info.update(regime='critically damped', r=r)\n",
    "        else:\n",
    "            sqrtD = np.sqrt(D)\n",
    "            r1 = (-self.a1 + sqrtD)/2\n",
    "            r2 = (-self.a1 - sqrtD)/2\n",
    "            info.update(regime='overdamped', r1=r1, r2=r2)\n",
    "        return info\n",
    "\n",
    "    def _update(self, frame_idx):\n",
    "        i, t = int(frame_idx), self.t_vals[int(frame_idx)]\n",
    "        y, v, a = self.y[i], self.v[i], self.a[i]\n",
    "        self.time_slider.value = t; reg = self._regime()\n",
    "        fig = plt.figure(figsize=(14,14))\n",
    "        gs  = fig.add_gridspec(3,2, height_ratios=[1,1,0.5], hspace=0.75, wspace=0.3)\n",
    "        axY = fig.add_subplot(gs[0,0]); axY.set_title('Displacement $y(t)$'); axY.grid()\n",
    "        axY.set_xlim(0, self.t_max)\n",
    "        axY.set_ylim(-self.max_y, self.max_y)\n",
    "        axY.set_xlabel('t')\n",
    "        axY.plot(self.t_vals, self.y, 'b--', lw=1)\n",
    "        axY.plot(self.t_vals[:i+1], self.y[:i+1],'b-',lw=2)\n",
    "        axY.plot(t, y, 'bo')\n",
    "        axG = fig.add_subplot(gs[0,1])\n",
    "        axG.set_title('Forcing $g(t)$')\n",
    "        axG.set_xlim(0, self.t_max)\n",
    "        try:\n",
    "            gvals = self._safe_g(self.t_vals)\n",
    "            axG.plot(self.t_vals, gvals, 'm')\n",
    "        except:\n",
    "            axG.text(0.5, 0.5, \"Invalid g(t)\", ha='center', va='center')\n",
    "        axG.set_xlabel('t')\n",
    "        axG.grid()\n",
    "        axV = fig.add_subplot(gs[1,0]); axV.set_title('Velocity & Accel.'); axV.grid()\n",
    "        axV.set_xlim(0, self.t_max)\n",
    "        axV.set_ylim(-self.max_dv, self.max_dv)\n",
    "        axV.plot(self.t_vals[:i+1], self.v[:i+1],'g-',label=\"v(t)\")\n",
    "        axV.plot(self.t_vals[:i+1], self.a[:i+1],'r--',label=\"a(t)\")\n",
    "        axV.plot(t, v,'go')\n",
    "        axV.plot(t, a,'ro')\n",
    "        axV.set_xlabel('t'); axV.legend(fontsize=12)\n",
    "        axP = fig.add_subplot(gs[1,1])\n",
    "        axP.set_title('Phase Portrait (y vs y\\')')\n",
    "        axP.set_xlabel('y')\n",
    "        axP.set_ylabel('y\\'')\n",
    "        axP.set_xlim(-self.max_y, self.max_y)\n",
    "        axP.set_ylim(-self.max_v, self.max_v)\n",
    "        axP.plot(self.y[:i+1], self.v[:i+1], 'b')\n",
    "        axP.plot(y, v, 'ro')\n",
    "        axR   = fig.add_subplot(gs[2,:]); axR.axis('off')\n",
    "        eq_latex = f\"$\\\\frac{{d^2y}}{{dt^2}} + {self.a1:.2f} \\\\frac{{dy}}{{dt}} + {self.a0:.2f} y = g(t)$, \" + f\"$g(t) = $<code>{self.g_expr}</code>\"\n",
    "        lines = [eq_latex, f\"Regime: {reg['regime'].capitalize()}    $\\zeta={reg.get('zeta',float('nan')):.2f}$\"]\n",
    "        if reg['regime']=='underdamped':\n",
    "            lines += [f\"$\\\\omega_0={reg['omega0']:.2f}$\", f\"$\\\\omega_d={reg['omega_d']:.2f}$\"]\n",
    "        elif reg['regime']=='critically damped':\n",
    "            lines += [f\"root = {reg['r']:.3f}\"]\n",
    "        else:\n",
    "            lines += [f\"$r_1$ = {reg['r1']:.3f}, $r_2$ = {reg['r2']:.3f}\"]\n",
    "        axR.text(0.01,0.5,\"   \".join(lines),va='center',fontsize=13)\n",
    "        plt.tight_layout()\n",
    "        plt.show()\n",
    "        \n",
    "    def display(self):\n",
    "        controls = widgets.VBox([\n",
    "            widgets.HBox([self.param_box, self.g_box]),\n",
    "            self.update_btn,\n",
    "            widgets.HBox([self.play_btn, self.pause_btn, self.stop_btn, self.reset_btn]),\n",
    "            widgets.Label(\"Progress,\"), self.time_slider])\n",
    "        self.play_widget.layout.display='none'\n",
    "        display(HTML(\"<b>General Forced 2nd Order ODE Demo:</b>\"))\n",
    "        display(Markdown(\"\"\"\n",
    "- Change <code>a₁</code>, <code>a₀</code> for damping/stiffness.<br>\n",
    "- Change <code>g(t)</code> to any valid Python expression (e.g. <code>np.sin(2*t)</code>, <code>4*np.exp(-0.2*t)+1</code>, <code>3*t</code>) and see immediate results.<br>\n",
    "- Initial values <code>y₀</code>, <code>v₀</code> and max simulation time also editable.<br>\n",
    "\"\"\"))\n",
    "        display(self.play_widget)\n",
    "        out = widgets.interactive_output(self._update, {'frame_idx': self.play_widget})\n",
    "        display(controls, out)\n",
    "\n",
    "def run_demo():\n",
    "    demo = General2ndOrderDEDemo()\n",
    "    demo.display()\n",
    "\n",
    "if __name__ == \"__main__\":\n",
    "    run_demo()"
   ]
  },
  {
   "cell_type": "code",
   "execution_count": 5,
   "id": "dd178534",
   "metadata": {},
   "outputs": [
    {
     "data": {
      "text/html": [
       "<b>General Forced 2nd Order ODE Demo:</b>"
      ],
      "text/plain": [
       "<IPython.core.display.HTML object>"
      ]
     },
     "metadata": {},
     "output_type": "display_data"
    },
    {
     "data": {
      "text/markdown": [
       "\n",
       "- Change <code>a₁</code>, <code>a₀</code> for damping/stiffness.<br>\n",
       "- Change <code>g(t)</code> to any valid Python expression (e.g. <code>np.sin(2*t)</code>, <code>4*np.exp(-0.2*t)+1</code>, <code>3*t</code>) and see immediate results.<br>\n",
       "- Initial values <code>y₀</code>, <code>v₀</code> and max simulation time also editable.<br>\n"
      ],
      "text/plain": [
       "<IPython.core.display.Markdown object>"
      ]
     },
     "metadata": {},
     "output_type": "display_data"
    },
    {
     "data": {
      "application/vnd.jupyter.widget-view+json": {
       "model_id": "dea0b0cb79274237903ae8e9c85471c9",
       "version_major": 2,
       "version_minor": 0
      },
      "text/plain": [
       "Play(value=0, interval=50, layout=Layout(display='none'), max=399)"
      ]
     },
     "metadata": {},
     "output_type": "display_data"
    },
    {
     "data": {
      "application/vnd.jupyter.widget-view+json": {
       "model_id": "1a88036780f54bf3add01222f1bb65b4",
       "version_major": 2,
       "version_minor": 0
      },
      "text/plain": [
       "VBox(children=(HBox(children=(HBox(children=(FloatText(value=1.0, description='a₁', layout=Layout(width='160px…"
      ]
     },
     "metadata": {},
     "output_type": "display_data"
    },
    {
     "data": {
      "application/vnd.jupyter.widget-view+json": {
       "model_id": "4149deaf3ca34346bd0644e5f3a9e768",
       "version_major": 2,
       "version_minor": 0
      },
      "text/plain": [
       "Output()"
      ]
     },
     "metadata": {},
     "output_type": "display_data"
    }
   ],
   "source": [
    "import numpy as np, matplotlib.pyplot as plt, seaborn as sns\n",
    "from scipy.integrate import solve_ivp\n",
    "import ipywidgets as widgets\n",
    "from IPython.display import display, Markdown, HTML\n",
    "sns.set_context('poster')\n",
    "import warnings; warnings.filterwarnings(\"ignore\")\n",
    "\n",
    "class General2ndOrderDEDemo:\n",
    "    def __init__(self):\n",
    "        self.a1, self.a0 = 1.0, 4.0\n",
    "        self.y0, self.v0 = 1.0, 0.0\n",
    "        self.t_max, self.n_frames = 40., 400\n",
    "        self.g_expr = \"np.sin(2*t)\"\n",
    "        self.t_vals = np.linspace(0, self.t_max, self.n_frames)\n",
    "        self._safe_g = None\n",
    "        self.solve()\n",
    "        self._create_widgets()\n",
    "        \n",
    "    def solve(self):\n",
    "        def gfunc(t):\n",
    "            safe = dict(np=np, t=t)\n",
    "            try:\n",
    "                return eval(self.g_expr, {\"__builtins__\": {}}, safe)\n",
    "            except Exception:\n",
    "                return np.zeros_like(t)\n",
    "        self._safe_g = gfunc\n",
    "        f = lambda t, Y: [Y[1], -self.a1*Y[1] - self.a0*Y[0] + gfunc(t)]\n",
    "        sol = solve_ivp(f, [0, self.t_max], [self.y0, self.v0], t_eval=self.t_vals)\n",
    "        self.y, self.v = sol.y\n",
    "        self.a = np.gradient(self.v, self.t_vals)\n",
    "        self.max_y = 1.2 * np.max(np.abs(self.y)) or 1\n",
    "        self.max_v = 1.2 * np.max(np.abs(self.v)) or 1\n",
    "        self.max_a = 1.2 * np.max(np.abs(self.a)) or 1\n",
    "        self.max_dv = max(self.max_v, self.max_a)\n",
    "\n",
    "    def _create_widgets(self):\n",
    "        param_box = widgets.HBox([\n",
    "            widgets.FloatText(value=self.a1, description=\"a₁\", layout=widgets.Layout(width=\"160px\")),\n",
    "            widgets.FloatText(value=self.a0, description=\"a₀\", layout=widgets.Layout(width=\"160px\")),\n",
    "            widgets.FloatText(value=self.y0, description=\"y₀\", layout=widgets.Layout(width=\"160px\")),\n",
    "            widgets.FloatText(value=self.v0, description=\"v₀\", layout=widgets.Layout(width=\"160px\")),\n",
    "            widgets.FloatText(value=self.t_max, description=\"max t\", layout=widgets.Layout(width=\"160px\")),\n",
    "        ])        \n",
    "        g_box = widgets.Text(value=self.g_expr, description=\"g(t) =\", layout=widgets.Layout(width=\"350px\"), style={\"description_width\": \"60px\"})\n",
    "        update_btn = widgets.Button(description='Update Params', button_style='primary')\n",
    "        update_btn.on_click(lambda *_: self._apply_param_updates(param_box, g_box))\n",
    "        self.play_widget = widgets.Play(value=0, min=0, max=self.n_frames-1, step=1, interval=50)\n",
    "        self.play_btn  = widgets.Button(description='▶ Play',  button_style='success', layout=widgets.Layout(width='85px'))\n",
    "        self.pause_btn = widgets.Button(description='⏸ Pause', button_style='warning', layout=widgets.Layout(width='85px'))\n",
    "        self.stop_btn  = widgets.Button(description='⏹ Stop',  button_style='danger',  layout=widgets.Layout(width='85px'))\n",
    "        self.reset_btn = widgets.Button(description='⟲ Reset', button_style='info',    layout=widgets.Layout(width='85px'))\n",
    "        self.play_btn.on_click(lambda *_: setattr(self.play_widget,'playing',True))\n",
    "        self.pause_btn.on_click(lambda *_: setattr(self.play_widget,'playing',False))\n",
    "        self.stop_btn.on_click(lambda *_: self._set_play(0, stop=True))\n",
    "        self.reset_btn.on_click(lambda *_: self._set_play(0))\n",
    "        self.time_slider = widgets.FloatSlider(0, min=0, max=self.t_max,\n",
    "                                step=self.t_max/(self.n_frames-1),\n",
    "                                description='Time (s):', disabled=True,\n",
    "                                layout=widgets.Layout(width='500px'),\n",
    "                                style={'description_width':'initial'})\n",
    "        self.param_box, self.g_box, self.update_btn = param_box, g_box, update_btn\n",
    "\n",
    "    def _set_play(self, index, stop=False):\n",
    "        if stop:\n",
    "            self.play_widget.playing=False\n",
    "        self.play_widget.value=index\n",
    "\n",
    "    def _apply_param_updates(self, param_box, g_box):\n",
    "        self.a1 = float(param_box.children[0].value)\n",
    "        self.a0 = float(param_box.children[1].value)\n",
    "        self.y0 = float(param_box.children[2].value)\n",
    "        self.v0 = float(param_box.children[3].value)\n",
    "        self.t_max = float(param_box.children[4].value)\n",
    "        self.g_expr = g_box.value\n",
    "        self.t_vals = np.linspace(0, self.t_max, self.n_frames)\n",
    "        self.solve()\n",
    "        \n",
    "    def _regime(self):\n",
    "        D = self.a1**2 - 4*self.a0\n",
    "        omega0 = np.sqrt(abs(self.a0))\n",
    "        zeta = \"*\" # As per your request\n",
    "        info = dict(D=D, omega0=omega0, zeta=zeta)\n",
    "        if D < 0:\n",
    "            omega_d = np.sqrt(4*self.a0 - self.a1**2)/2\n",
    "            info.update(regime='Underdamped', omega_d=omega_d)\n",
    "        elif np.isclose(D,0):\n",
    "            r = -self.a1/2\n",
    "            info.update(regime='Critically damped', r=r)\n",
    "        else:\n",
    "            sqrtD = np.sqrt(D)\n",
    "            r1 = (-self.a1 + sqrtD)/2\n",
    "            r2 = (-self.a1 - sqrtD)/2\n",
    "            info.update(regime='Overdamped', r1=r1, r2=r2)\n",
    "        return info\n",
    "\n",
    "    def _update(self, frame_idx):\n",
    "        i, t = int(frame_idx), self.t_vals[int(frame_idx)]\n",
    "        y, v, a = self.y[i], self.v[i], self.a[i]\n",
    "        self.time_slider.value = t; reg = self._regime()\n",
    "        fig = plt.figure(figsize=(14,14))\n",
    "        gs  = fig.add_gridspec(3,2, height_ratios=[1,1,0.5], hspace=0.75, wspace=0.3)\n",
    "        axY = fig.add_subplot(gs[0,0]); axY.set_title('Displacement $y(t)$'); axY.grid()\n",
    "        axY.set_xlim(0, self.t_max)\n",
    "        axY.set_ylim(-self.max_y, self.max_y)\n",
    "        axY.set_xlabel('t')\n",
    "        axY.plot(self.t_vals, self.y, 'b--', lw=1)\n",
    "        axY.plot(self.t_vals[:i+1], self.y[:i+1],'b-',lw=2)\n",
    "        axY.plot(t, y, 'bo')\n",
    "        axG = fig.add_subplot(gs[0,1])\n",
    "        axG.set_title('Forcing $g(t)$')\n",
    "        axG.set_xlim(0, self.t_max)\n",
    "        try:\n",
    "            gvals = self._safe_g(self.t_vals)\n",
    "            axG.plot(self.t_vals, gvals, 'm')\n",
    "        except:\n",
    "            axG.text(0.5, 0.5, \"Invalid g(t)\", ha='center', va='center')\n",
    "        axG.set_xlabel('t')\n",
    "        axG.grid()\n",
    "        axV = fig.add_subplot(gs[1,0]); axV.set_title('Velocity & Accel.'); axV.grid()\n",
    "        axV.set_xlim(0, self.t_max)\n",
    "        axV.set_ylim(-self.max_dv, self.max_dv)\n",
    "        axV.plot(self.t_vals[:i+1], self.v[:i+1],'g-',label=\"y'(t)\")\n",
    "        axV.plot(self.t_vals[:i+1], self.a[:i+1],'r--',label=\"y''(t)\")\n",
    "        axV.plot(t, v,'go')\n",
    "        axV.plot(t, a,'ro')\n",
    "        axV.set_xlabel('t'); axV.legend(fontsize=12)\n",
    "        axP = fig.add_subplot(gs[1,1])\n",
    "        axP.set_title('Phase Portrait (y vs y\\')')\n",
    "        axP.set_xlabel('y')\n",
    "        axP.set_ylabel('y\\'')\n",
    "        axP.set_xlim(-self.max_y, self.max_y)\n",
    "        axP.set_ylim(-self.max_v, self.max_v)\n",
    "        axP.plot(self.y[:i+1], self.v[:i+1], 'b')\n",
    "        axP.plot(y, v, 'ro')\n",
    "        axR   = fig.add_subplot(gs[2,:]); axR.axis('off')\n",
    "        s = []\n",
    "        s.append(r\"$y'' + %.2f\\,y' + %.2f\\,y = g(t)$\"%(self.a1,self.a0))\n",
    "        s.append(r\"$g(t) = $\" + f\"<code>{self.g_expr}</code>\")\n",
    "        s.append(reg['regime'])\n",
    "        s.append(\"zeta = *\")\n",
    "        s.append(r\"$\\omega_0 = %.2f$\" % reg['omega0'])\n",
    "        if reg['regime'] == 'Underdamped':\n",
    "            s.append(r\"$\\omega_d = %.2f$\" % reg['omega_d'])\n",
    "        elif reg['regime']=='Critically damped':\n",
    "            s.append(\"root = %.3f\" % reg['r'])\n",
    "        else:\n",
    "            s.append(r\"$r_1 = %.3f$, $r_2 = %.3f$\" % (reg['r1'], reg['r2']))\n",
    "        axR.text(0.01,0.95, s[0], va='top', fontsize=15)\n",
    "        axR.text(0.01,0.84, s[1], va='top', fontsize=13)\n",
    "        axR.text(0.01,0.73, s[2], va='top', fontsize=13)\n",
    "        axR.text(0.01,0.62, s[3], va='top', fontsize=13)\n",
    "        axR.text(0.01,0.51, s[4], va='top', fontsize=13)\n",
    "        if reg['regime'] == 'Underdamped':\n",
    "            axR.text(0.01,0.40, s[5], va='top', fontsize=13)\n",
    "        elif reg['regime'] == 'Critically damped':\n",
    "            axR.text(0.01,0.40, s[5], va='top', fontsize=13)\n",
    "        else:\n",
    "            axR.text(0.01,0.40, s[5], va='top', fontsize=13)\n",
    "        plt.tight_layout()\n",
    "        plt.show()\n",
    "        \n",
    "    def display(self):\n",
    "        controls = widgets.VBox([\n",
    "            widgets.HBox([self.param_box, self.g_box]),\n",
    "            self.update_btn,\n",
    "            widgets.HBox([self.play_btn, self.pause_btn, self.stop_btn, self.reset_btn]),\n",
    "            widgets.Label(\"Progress,\"), self.time_slider])\n",
    "        self.play_widget.layout.display='none'\n",
    "        display(HTML(\"<b>General Forced 2nd Order ODE Demo:</b>\"))\n",
    "        display(Markdown(\"\"\"\n",
    "- Change <code>a₁</code>, <code>a₀</code> for damping/stiffness.<br>\n",
    "- Change <code>g(t)</code> to any valid Python expression (e.g. <code>np.sin(2*t)</code>, <code>4*np.exp(-0.2*t)+1</code>, <code>3*t</code>) and see immediate results.<br>\n",
    "- Initial values <code>y₀</code>, <code>v₀</code> and max simulation time also editable.<br>\n",
    "\"\"\"))\n",
    "        display(self.play_widget)\n",
    "        out = widgets.interactive_output(self._update, {'frame_idx': self.play_widget})\n",
    "        display(controls, out)\n",
    "\n",
    "def run_demo():\n",
    "    demo = General2ndOrderDEDemo()\n",
    "    demo.display()\n",
    "\n",
    "if __name__ == \"__main__\":\n",
    "    run_demo()"
   ]
  },
  {
   "cell_type": "code",
   "execution_count": 8,
   "id": "a2a182f0",
   "metadata": {},
   "outputs": [
    {
     "data": {
      "text/html": [
       "<b>General Forced 2nd Order ODE Demo:</b>"
      ],
      "text/plain": [
       "<IPython.core.display.HTML object>"
      ]
     },
     "metadata": {},
     "output_type": "display_data"
    },
    {
     "data": {
      "text/markdown": [
       "\n",
       "- Change <code>a₁</code>, <code>a₀</code> for damping/stiffness.<br>\n",
       "- Change <code>g(t)</code> to any valid Python expression (e.g. <code>np.sin(2*t)</code>, <code>4*np.exp(-0.2*t)+1</code>, <code>3*t</code>) and see immediate results.<br>\n",
       "- Initial values <code>y₀</code>, <code>v₀</code> and max simulation time also editable.<br>\n"
      ],
      "text/plain": [
       "<IPython.core.display.Markdown object>"
      ]
     },
     "metadata": {},
     "output_type": "display_data"
    },
    {
     "data": {
      "application/vnd.jupyter.widget-view+json": {
       "model_id": "d67a1313b75f43549b485f454cb1ba1d",
       "version_major": 2,
       "version_minor": 0
      },
      "text/plain": [
       "Play(value=0, interval=50, layout=Layout(display='none'), max=399)"
      ]
     },
     "metadata": {},
     "output_type": "display_data"
    },
    {
     "data": {
      "application/vnd.jupyter.widget-view+json": {
       "model_id": "3c997e12afed41a787b23a1786574e08",
       "version_major": 2,
       "version_minor": 0
      },
      "text/plain": [
       "VBox(children=(HBox(children=(HBox(children=(FloatText(value=1.0, description='a₁', layout=Layout(width='160px…"
      ]
     },
     "metadata": {},
     "output_type": "display_data"
    },
    {
     "data": {
      "application/vnd.jupyter.widget-view+json": {
       "model_id": "f3fcbd30561d45cf9769f00f9368836e",
       "version_major": 2,
       "version_minor": 0
      },
      "text/plain": [
       "Output()"
      ]
     },
     "metadata": {},
     "output_type": "display_data"
    },
    {
     "data": {
      "text/html": [
       "<b>General Forced 2nd Order ODE Demo:</b>"
      ],
      "text/plain": [
       "<IPython.core.display.HTML object>"
      ]
     },
     "metadata": {},
     "output_type": "display_data"
    },
    {
     "data": {
      "text/markdown": [
       "\n",
       "- Change <code>a₁</code>, <code>a₀</code> for damping/stiffness.<br>\n",
       "- Change <code>g(t)</code> to any valid Python expression (e.g. <code>np.sin(2*t)</code>, <code>4*np.exp(-0.2*t)+1</code>, <code>3*t</code>) and see immediate results.<br>\n",
       "- Initial values <code>y₀</code>, <code>v₀</code> and max simulation time also editable.<br>\n"
      ],
      "text/plain": [
       "<IPython.core.display.Markdown object>"
      ]
     },
     "metadata": {},
     "output_type": "display_data"
    },
    {
     "data": {
      "application/vnd.jupyter.widget-view+json": {
       "model_id": "819529a09e7d47ddb9faff2a05ea44cd",
       "version_major": 2,
       "version_minor": 0
      },
      "text/plain": [
       "Play(value=0, interval=50, layout=Layout(display='none'), max=399)"
      ]
     },
     "metadata": {},
     "output_type": "display_data"
    },
    {
     "data": {
      "application/vnd.jupyter.widget-view+json": {
       "model_id": "e5985b3e03df489a806418ab2811c319",
       "version_major": 2,
       "version_minor": 0
      },
      "text/plain": [
       "VBox(children=(HBox(children=(HBox(children=(FloatText(value=1.0, description='a₁', layout=Layout(width='160px…"
      ]
     },
     "metadata": {},
     "output_type": "display_data"
    },
    {
     "data": {
      "application/vnd.jupyter.widget-view+json": {
       "model_id": "a16446fc4e2d4fe9bf50bd31982e0c45",
       "version_major": 2,
       "version_minor": 0
      },
      "text/plain": [
       "Output()"
      ]
     },
     "metadata": {},
     "output_type": "display_data"
    }
   ],
   "source": [
    "import numpy as np, matplotlib.pyplot as plt, seaborn as sns\n",
    "from scipy.integrate import solve_ivp\n",
    "import ipywidgets as widgets\n",
    "from IPython.display import display, Markdown, HTML\n",
    "sns.set_context('poster')\n",
    "import warnings; warnings.filterwarnings(\"ignore\")\n",
    "\n",
    "class General2ndOrderDEDemo:\n",
    "    def __init__(self):\n",
    "        self.a1, self.a0 = 1.0, 4.0\n",
    "        self.y0, self.v0 = 1.0, 0.0\n",
    "        self.t_max, self.n_frames = 40., 400\n",
    "        self.g_expr = \"np.sin(2*t)\"\n",
    "        self.t_vals = np.linspace(0, self.t_max, self.n_frames)\n",
    "        self._safe_g = None\n",
    "        self.solve()\n",
    "        self._create_widgets()\n",
    "        \n",
    "    def solve(self):\n",
    "        def gfunc(t):\n",
    "            safe = dict(np=np, t=t)\n",
    "            try:\n",
    "                return eval(self.g_expr, {\"__builtins__\": {}}, safe)\n",
    "            except Exception:\n",
    "                return np.zeros_like(t)\n",
    "        self._safe_g = gfunc\n",
    "        f = lambda t, Y: [Y[1], -self.a1*Y[1] - self.a0*Y[0] + gfunc(t)]\n",
    "        sol = solve_ivp(f, [0, self.t_max], [self.y0, self.v0], t_eval=self.t_vals)\n",
    "        self.y, self.v = sol.y\n",
    "        self.a = np.gradient(self.v, self.t_vals)\n",
    "        self.max_y = 1.2 * np.max(np.abs(self.y)) or 1\n",
    "        self.max_v = 1.2 * np.max(np.abs(self.v)) or 1\n",
    "        self.max_a = 1.2 * np.max(np.abs(self.a)) or 1\n",
    "        self.max_dv = max(self.max_v, self.max_a)\n",
    "\n",
    "    def _create_widgets(self):\n",
    "        param_box = widgets.HBox([\n",
    "            widgets.FloatText(value=self.a1, description=\"a₁\", layout=widgets.Layout(width=\"160px\")),\n",
    "            widgets.FloatText(value=self.a0, description=\"a₀\", layout=widgets.Layout(width=\"160px\")),\n",
    "            widgets.FloatText(value=self.y0, description=\"y₀\", layout=widgets.Layout(width=\"160px\")),\n",
    "            widgets.FloatText(value=self.v0, description=\"v₀\", layout=widgets.Layout(width=\"160px\")),\n",
    "            widgets.FloatText(value=self.t_max, description=\"max t\", layout=widgets.Layout(width=\"160px\")),\n",
    "        ])        \n",
    "        g_box = widgets.Text(value=self.g_expr, description=\"g(t) =\", layout=widgets.Layout(width=\"350px\"), style={\"description_width\": \"60px\"})\n",
    "        update_btn = widgets.Button(description='Update Params', button_style='primary')\n",
    "        update_btn.on_click(lambda *_: self._apply_param_updates(param_box, g_box))\n",
    "        self.play_widget = widgets.Play(value=0, min=0, max=self.n_frames-1, step=1, interval=50)\n",
    "        self.play_btn  = widgets.Button(description='▶ Play',  button_style='success', layout=widgets.Layout(width='85px'))\n",
    "        self.pause_btn = widgets.Button(description='⏸ Pause', button_style='warning', layout=widgets.Layout(width='85px'))\n",
    "        self.stop_btn  = widgets.Button(description='⏹ Stop',  button_style='danger',  layout=widgets.Layout(width='85px'))\n",
    "        self.reset_btn = widgets.Button(description='⟲ Reset', button_style='info',    layout=widgets.Layout(width='85px'))\n",
    "        self.play_btn.on_click(lambda *_: setattr(self.play_widget,'playing',True))\n",
    "        self.pause_btn.on_click(lambda *_: setattr(self.play_widget,'playing',False))\n",
    "        self.stop_btn.on_click(lambda *_: self._set_play(0, stop=True))\n",
    "        self.reset_btn.on_click(lambda *_: self._set_play(0))\n",
    "        self.time_slider = widgets.FloatSlider(0, min=0, max=self.t_max,\n",
    "                                step=self.t_max/(self.n_frames-1),\n",
    "                                description='Time (s):', disabled=True,\n",
    "                                layout=widgets.Layout(width='500px'),\n",
    "                                style={'description_width':'initial'})\n",
    "        self.param_box, self.g_box, self.update_btn = param_box, g_box, update_btn\n",
    "\n",
    "    def _set_play(self, index, stop=False):\n",
    "        if stop:\n",
    "            self.play_widget.playing=False\n",
    "        self.play_widget.value=index\n",
    "\n",
    "    def _apply_param_updates(self, param_box, g_box):\n",
    "        self.a1 = float(param_box.children[0].value)\n",
    "        self.a0 = float(param_box.children[1].value)\n",
    "        self.y0 = float(param_box.children[2].value)\n",
    "        self.v0 = float(param_box.children[3].value)\n",
    "        self.t_max = float(param_box.children[4].value)\n",
    "        self.g_expr = g_box.value\n",
    "        self.t_vals = np.linspace(0, self.t_max, self.n_frames)\n",
    "        self.solve()\n",
    "        \n",
    "    def _regime(self):\n",
    "        D = self.a1**2 - 4*self.a0\n",
    "        omega0 = np.sqrt(abs(self.a0))\n",
    "        zeta = \"*\"\n",
    "        info = dict(D=D, omega0=omega0, zeta=zeta)\n",
    "        if D < 0:\n",
    "            omega_d = np.sqrt(4*self.a0 - self.a1**2)/2\n",
    "            info.update(regime='Underdamped', omega_d=omega_d)\n",
    "        elif np.isclose(D,0):\n",
    "            r = -self.a1/2\n",
    "            info.update(regime='Critically damped', r=r)\n",
    "        else:\n",
    "            sqrtD = np.sqrt(D)\n",
    "            r1 = (-self.a1 + sqrtD)/2\n",
    "            r2 = (-self.a1 - sqrtD)/2\n",
    "            info.update(regime='Overdamped', r1=r1, r2=r2)\n",
    "        return info\n",
    "\n",
    "    def _update(self, frame_idx):\n",
    "        i, t = int(frame_idx), self.t_vals[int(frame_idx)]\n",
    "        y, v, a = self.y[i], self.v[i], self.a[i]\n",
    "        self.time_slider.value = t; reg = self._regime()\n",
    "        fig = plt.figure(figsize=(14,14))\n",
    "        gs  = fig.add_gridspec(3,2, height_ratios=[1,1,0.5], hspace=0.75, wspace=0.3)\n",
    "        axY = fig.add_subplot(gs[0,0]); axY.set_title('Displacement $y(t)$'); axY.grid()\n",
    "        axY.set_xlim(0, self.t_max)\n",
    "        axY.set_ylim(-self.max_y, self.max_y)\n",
    "        axY.set_xlabel('t')\n",
    "        axY.plot(self.t_vals, self.y, 'b--', lw=1)\n",
    "        axY.plot(self.t_vals[:i+1], self.y[:i+1],'b-',lw=2)\n",
    "        axY.plot(t, y, 'bo')\n",
    "        axG = fig.add_subplot(gs[0,1])\n",
    "        axG.set_title('Forcing $g(t)$')\n",
    "        axG.set_xlim(0, self.t_max)\n",
    "        try:\n",
    "            gvals = self._safe_g(self.t_vals)\n",
    "            axG.plot(self.t_vals, gvals, 'm')\n",
    "        except:\n",
    "            axG.text(0.5, 0.5, \"Invalid g(t)\", ha='center', va='center')\n",
    "        axG.set_xlabel('t')\n",
    "        axG.grid()\n",
    "        axV = fig.add_subplot(gs[1,0]); axV.set_title('Velocity & Accel.'); axV.grid()\n",
    "        axV.set_xlim(0, self.t_max)\n",
    "        axV.set_ylim(-self.max_dv, self.max_dv)\n",
    "        axV.plot(self.t_vals[:i+1], self.v[:i+1],'g-',label=\"y'(t)\")\n",
    "        axV.plot(self.t_vals[:i+1], self.a[:i+1],'r--',label=\"y''(t)\")\n",
    "        axV.plot(t, v,'go')\n",
    "        axV.plot(t, a,'ro')\n",
    "        axV.set_xlabel('t'); axV.legend(fontsize=12)\n",
    "        axP = fig.add_subplot(gs[1,1])\n",
    "        axP.set_title('Phase Portrait (y vs y\\')')\n",
    "        axP.set_xlabel('y')\n",
    "        axP.set_ylabel('y\\'')\n",
    "        axP.set_xlim(-self.max_y, self.max_y)\n",
    "        axP.set_ylim(-self.max_v, self.max_v)\n",
    "        axP.plot(self.y[:i+1], self.v[:i+1], 'b')\n",
    "        axP.plot(y, v, 'ro')\n",
    "        axR   = fig.add_subplot(gs[2,:]); axR.axis('off')\n",
    "\n",
    "        info_lines = []\n",
    "        info_lines.append(r\"$y'' + %.2f\\,y' + %.2f\\,y = g(t)$\" % (self.a1,self.a0))\n",
    "        info_lines.append(\"\")\n",
    "        info_lines.append(reg['regime'])\n",
    "        info_lines.append(\"\")\n",
    "        if reg['regime'] == 'Underdamped':\n",
    "            info_lines.append(\"zeta = *    \" +\n",
    "                r\"$\\omega_0 = %.2f$, $\\omega_d = %.2f$\" % (reg['omega0'], reg['omega_d'])\n",
    "            )\n",
    "        elif reg['regime'] == 'Critically damped':\n",
    "            info_lines.append(\"zeta = *    \" +\n",
    "                r\"$\\omega_0 = %.2f$\" % reg['omega0']\n",
    "            )\n",
    "            info_lines.append(\"root = %.3f\" % reg['r'])\n",
    "        else:\n",
    "            info_lines.append(\"zeta = *    \" +\n",
    "                r\"$\\omega_0 = %.2f$\" % reg['omega0']\n",
    "            )\n",
    "            info_lines.append(r\"$r_1 = %.3f$, $r_2 = %.3f$\" % (reg['r1'], reg['r2']))\n",
    "\n",
    "        y0 = 0.97\n",
    "        for j, line in enumerate(info_lines):\n",
    "            axR.text(0.01, y0, line, va='top', fontsize=15 if j==0 else 13)\n",
    "            if line == \"\":\n",
    "                y0 -= 0.14\n",
    "            else:\n",
    "                y0 -= 0.07\n",
    "\n",
    "        plt.tight_layout()\n",
    "        plt.show()\n",
    "        \n",
    "    def display(self):\n",
    "        controls = widgets.VBox([\n",
    "            widgets.HBox([self.param_box, self.g_box]),\n",
    "            self.update_btn,\n",
    "            widgets.HBox([self.play_btn, self.pause_btn, self.stop_btn, self.reset_btn]),\n",
    "            widgets.Label(\"Progress,\"), self.time_slider])\n",
    "        self.play_widget.layout.display='none'\n",
    "        display(HTML(\"<b>General Forced 2nd Order ODE Demo:</b>\"))\n",
    "        display(Markdown(\"\"\"\n",
    "- Change <code>a₁</code>, <code>a₀</code> for damping/stiffness.<br>\n",
    "- Change <code>g(t)</code> to any valid Python expression (e.g. <code>np.sin(2*t)</code>, <code>4*np.exp(-0.2*t)+1</code>, <code>3*t</code>) and see immediate results.<br>\n",
    "- Initial values <code>y₀</code>, <code>v₀</code> and max simulation time also editable.<br>\n",
    "\"\"\"))\n",
    "        display(self.play_widget)\n",
    "        out = widgets.interactive_output(self._update, {'frame_idx': self.play_widget})\n",
    "        display(controls, out)\n",
    "\n",
    "def run_demo():\n",
    "    demo = General2ndOrderDEDemo()\n",
    "    demo.display()\n",
    "\n",
    "if __name__ == \"__main__\":\n",
    "    run_demo()\n",
    "\n",
    "run_demo()\n"
   ]
  }
 ],
 "metadata": {
  "kernelspec": {
   "display_name": "Python 3",
   "language": "python",
   "name": "python3"
  },
  "language_info": {
   "codemirror_mode": {
    "name": "ipython",
    "version": 3
   },
   "file_extension": ".py",
   "mimetype": "text/x-python",
   "name": "python",
   "nbconvert_exporter": "python",
   "pygments_lexer": "ipython3",
   "version": "3.13.3"
  }
 },
 "nbformat": 4,
 "nbformat_minor": 5
}
