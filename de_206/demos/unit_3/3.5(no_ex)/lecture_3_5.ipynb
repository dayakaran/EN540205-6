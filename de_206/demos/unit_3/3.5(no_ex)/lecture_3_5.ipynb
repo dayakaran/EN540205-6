{
 "cells": [
  {
   "cell_type": "code",
   "execution_count": null,
   "id": "0333a0e3",
   "metadata": {},
   "outputs": [],
   "source": [
    "from IPython.display import IFrame\n",
    "\n",
    "IFrame('Boyce_12e_PPT_ch03_5.pdf', width=800, height=600)"
   ]
  },
  {
   "cell_type": "code",
   "execution_count": 4,
   "id": "c3b7dfd2",
   "metadata": {},
   "outputs": [
    {
     "data": {
      "text/html": [
       "<b>General Forced 2nd Order ODE Demo:</b>"
      ],
      "text/plain": [
       "<IPython.core.display.HTML object>"
      ]
     },
     "metadata": {},
     "output_type": "display_data"
    },
    {
     "data": {
      "text/markdown": [
       "\n",
       "- Change <code>a₁</code>, <code>a₀</code> for damping/stiffness.<br>\n",
       "- Change <code>g(t)</code> to any valid Python expression (e.g. <code>np.sin(2*t)</code>, <code>4*np.exp(-0.2*t)+1</code>, <code>3*t</code>) and see immediate results.<br>\n",
       "- Initial values <code>y₀</code>, <code>v₀</code> and max simulation time also editable.<br>\n"
      ],
      "text/plain": [
       "<IPython.core.display.Markdown object>"
      ]
     },
     "metadata": {},
     "output_type": "display_data"
    },
    {
     "data": {
      "application/vnd.jupyter.widget-view+json": {
       "model_id": "f46115210fe342fd9970249c646104f1",
       "version_major": 2,
       "version_minor": 0
      },
      "text/plain": [
       "Play(value=0, interval=50, layout=Layout(display='none'), max=399)"
      ]
     },
     "metadata": {},
     "output_type": "display_data"
    },
    {
     "data": {
      "application/vnd.jupyter.widget-view+json": {
       "model_id": "be0afa9217804efd9fe0b6abc525d883",
       "version_major": 2,
       "version_minor": 0
      },
      "text/plain": [
       "VBox(children=(HBox(children=(HBox(children=(FloatText(value=1.0, description='a₁', layout=Layout(width='160px…"
      ]
     },
     "metadata": {},
     "output_type": "display_data"
    },
    {
     "data": {
      "application/vnd.jupyter.widget-view+json": {
       "model_id": "ec7c58650dec46a89fd6db30f9c6526a",
       "version_major": 2,
       "version_minor": 0
      },
      "text/plain": [
       "Output()"
      ]
     },
     "metadata": {},
     "output_type": "display_data"
    }
   ],
   "source": [
    "from demo import run_demo\n",
    "\n",
    "run_demo()"
   ]
  }
 ],
 "metadata": {
  "kernelspec": {
   "display_name": "Python 3",
   "language": "python",
   "name": "python3"
  },
  "language_info": {
   "codemirror_mode": {
    "name": "ipython",
    "version": 3
   },
   "file_extension": ".py",
   "mimetype": "text/x-python",
   "name": "python",
   "nbconvert_exporter": "python",
   "pygments_lexer": "ipython3",
   "version": "3.13.3"
  }
 },
 "nbformat": 4,
 "nbformat_minor": 5
}
