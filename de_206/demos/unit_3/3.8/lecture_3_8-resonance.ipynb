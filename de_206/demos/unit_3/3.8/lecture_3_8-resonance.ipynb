{
 "cells": [
  {
   "cell_type": "code",
   "execution_count": 1,
   "id": "8edd1132-0e9d-4d49-a64a-065043076dd3",
   "metadata": {},
   "outputs": [
    {
     "data": {
      "text/html": [
       "\n",
       "        <iframe\n",
       "            width=\"1000\"\n",
       "            height=\"700\"\n",
       "            src=\"Boyce_12e_PPT_ch03_8.pdf\"\n",
       "            frameborder=\"0\"\n",
       "            allowfullscreen\n",
       "            \n",
       "        ></iframe>\n",
       "        "
      ],
      "text/plain": [
       "<IPython.lib.display.IFrame at 0x1046c4830>"
      ]
     },
     "execution_count": 1,
     "metadata": {},
     "output_type": "execute_result"
    }
   ],
   "source": [
    "from IPython.display import IFrame\n",
    "\n",
    "IFrame('Boyce_12e_PPT_ch03_8.pdf', width=1000, height=700)"
   ]
  },
  {
   "cell_type": "markdown",
   "id": "e26fe0b5",
   "metadata": {},
   "source": [
    "# **Introducing an External Force**\n",
    "\n",
    "This interactive demo lets you explore the behaviour of a **forced, damped, mass-on-spring system** described by:\n",
    "\n",
    "$$\n",
    "m u''(t) + \\gamma u'(t) + k u(t) = F_0 \\cos(\\omega t)\n",
    "$$\n",
    "\n",
    "where:\n",
    "- $m$ is the mass is set to 1\n",
    "- $\\gamma$ is the damping coefficient\n",
    "- $k$ is the spring constant is set 1\n",
    "- $F_0$ is the amplitude of the sinusoidal driving force\n",
    "- $\\omega$ is the driving angular frequency\n",
    "- $\\omega_0$ the natural frequency is always 1 in this case.\n",
    "\n",
    "Unlike the unforced case (see previous notebook section), here the system can reach a **steady-state oscillation** whose amplitude and phase depend on damping and the relation between natural and driving frequencies.\n",
    "\n",
    "---\n",
    "## How to Use:\n",
    "\n",
    "- Adjust $\\Gamma = \\gamma^2/mk$ to indirectly change $\\gamma$\n",
    "- Set initial conditions $u_0$, $v_0$, force amplitude $F_0$, and driver frequency $\\omega$\n",
    "- Click **Update Params** to see their effect\n",
    "- Use animation controls to view the transient and steady-state solutions\n",
    "      \n",
    "In this forced system, the **steady-state oscillation** will have a frequency $\\omega$ (the driver) and an amplitude that exhibits **resonance enhancement** near $\\omega /\\omega_0 = 1$, increasingly sharp as damping is reduced.\n",
    "\n",
    "---\n",
    "\n",
    "> **Suggested Experimentation:**\n",
    ">\n",
    "> - Set $\\omega \\approx 1$ to see resonance (note natural frequency $\\omega_0 = 1$!\n",
    "> - Reduce $\\Gamma$ to see \"sharpness\" of the resonance peak increase.\n"
   ]
  },
  {
   "cell_type": "code",
   "execution_count": 2,
   "id": "5bee5a4e",
   "metadata": {},
   "outputs": [
    {
     "data": {
      "application/vnd.jupyter.widget-view+json": {
       "model_id": "672e5118ccbf4fe7b0c693e36364da16",
       "version_major": 2,
       "version_minor": 0
      },
      "text/plain": [
       "Play(value=0, interval=50, layout=Layout(display='none'), max=599)"
      ]
     },
     "metadata": {},
     "output_type": "display_data"
    },
    {
     "data": {
      "application/vnd.jupyter.widget-view+json": {
       "model_id": "986b96f58acd420e99bdc564eb1083ad",
       "version_major": 2,
       "version_minor": 0
      },
      "text/plain": [
       "VBox(children=(HBox(children=(Label(value='Parameters:'), BoundedFloatText(value=0.25, description='Γ', layout…"
      ]
     },
     "metadata": {},
     "output_type": "display_data"
    },
    {
     "data": {
      "application/vnd.jupyter.widget-view+json": {
       "model_id": "7792ebf202cd43a3adea246f394f2c01",
       "version_major": 2,
       "version_minor": 0
      },
      "text/plain": [
       "Output()"
      ]
     },
     "metadata": {},
     "output_type": "display_data"
    },
    {
     "data": {
      "text/plain": [
       "<demo_alt.ForcedSpringMassDemo at 0x14d56f8c0>"
      ]
     },
     "execution_count": 2,
     "metadata": {},
     "output_type": "execute_result"
    }
   ],
   "source": [
    "from demo_alt import run_demo\n",
    "run_demo()"
   ]
  },
  {
   "cell_type": "code",
   "execution_count": 3,
   "id": "e56f1d94-e004-4111-b79e-7b2d7c4aca97",
   "metadata": {},
   "outputs": [],
   "source": [
    "#run demo 1: changing only omega (freeze other parameters) --> force moves down (own graph) + v/a/F to 3rd column with phase portrrait\n",
    "#run demo 2: change everything "
   ]
  },
  {
   "cell_type": "code",
   "execution_count": null,
   "id": "255cf791-aa41-49d1-8fdc-5b7ecb9c28b3",
   "metadata": {},
   "outputs": [],
   "source": []
  }
 ],
 "metadata": {
  "kernelspec": {
   "display_name": "Python 3 (ipykernel)",
   "language": "python",
   "name": "python3"
  },
  "language_info": {
   "codemirror_mode": {
    "name": "ipython",
    "version": 3
   },
   "file_extension": ".py",
   "mimetype": "text/x-python",
   "name": "python",
   "nbconvert_exporter": "python",
   "pygments_lexer": "ipython3",
   "version": "3.13.5"
  }
 },
 "nbformat": 4,
 "nbformat_minor": 5
}
