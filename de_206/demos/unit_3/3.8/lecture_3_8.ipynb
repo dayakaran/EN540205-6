{
 "cells": [
  {
   "cell_type": "code",
   "execution_count": 1,
   "id": "8edd1132-0e9d-4d49-a64a-065043076dd3",
   "metadata": {},
   "outputs": [
    {
     "data": {
      "text/html": [
       "\n",
       "        <iframe\n",
       "            width=\"1000\"\n",
       "            height=\"700\"\n",
       "            src=\"Boyce_12e_PPT_ch03_8.pdf\"\n",
       "            frameborder=\"0\"\n",
       "            allowfullscreen\n",
       "            \n",
       "        ></iframe>\n",
       "        "
      ],
      "text/plain": [
       "<IPython.lib.display.IFrame at 0x23e5f378830>"
      ]
     },
     "execution_count": 1,
     "metadata": {},
     "output_type": "execute_result"
    }
   ],
   "source": [
    "from IPython.display import IFrame\n",
    "\n",
    "IFrame('Boyce_12e_PPT_ch03_8.pdf', width=1000, height=700)"
   ]
  },
  {
   "cell_type": "markdown",
   "id": "e26fe0b5",
   "metadata": {},
   "source": [
    "# **Introducing an External Force**\n",
    "\n",
    "This interactive demo lets you explore the behaviour of a **forced, damped, mass-on-spring system** described by:\n",
    "\n",
    "$$\n",
    "m u''(t) + \\gamma u'(t) + k u(t) = F_0 \\cos(\\omega t)\n",
    "$$\n",
    "\n",
    "where:\n",
    "- $m$ is the mass\n",
    "- $\\gamma$ is the damping coefficient\n",
    "- $k$ is the spring constant\n",
    "- $F_0$ is the amplitude of the sinusoidal driving force\n",
    "- $\\omega$ is the driving angular frequency\n",
    "\n",
    "Unlike the unforced case (see previous notebook section), here the system can reach a **steady-state oscillation** whose amplitude and phase depend on damping and the relation between natural and driving frequencies.\n",
    "\n",
    "---\n",
    "## How to Use:\n",
    "\n",
    "- Adjust $m$, $\\gamma$, $k$ (system parameters)\n",
    "- Set initial conditions $u_0$, $v_0$, force amplitude $F_0$, and driver frequency $\\omega$\n",
    "- Click **Update Params** to see their effect\n",
    "- Use animation controls to view the transient and steady-state solutions\n",
    "\n",
    "**The simulation plots:**\n",
    "- The live spring-mass cartoon (left)\n",
    "- Displacement $u(t)$ overlayed with forcing\n",
    "- Velocity, acceleration, and force vs. time\n",
    "- At lower left, a regime \"dashboard\" showing:\n",
    "  - Damping regime (under/over/critical)\n",
    "  - $\\zeta$ (damping ratio), $\\omega_0$ (undamped nat. freq), $\\omega$ (driver freq)\n",
    "  - For $\\zeta<1$, the theoretical \"resonance\" frequency\n",
    "\n",
    "---\n",
    "\n",
    "## Background:\n",
    "\n",
    "Recall from the previous section (3.7) that for the **unforced oscillator** ($F_0=0$), we saw:\n",
    "\n",
    "$$\n",
    "m u'' + \\gamma u' + k u = 0\n",
    "$$\n",
    "\n",
    "- Solution is determined by the discriminant $D = \\gamma^2 - 4km$:\n",
    "    - **Underdamped** ($\\zeta < 1$): decaying oscillations,\n",
    "      natural frequency $\\omega_0 = \\sqrt{k/m}$, damped frequency $\\omega_d$.\n",
    "    - **Critically damped** ($\\zeta = 1$): fastest non-oscillatory decay.\n",
    "    - **Overdamped** ($\\zeta > 1$): non-oscillatory decay, slower than critical.\n",
    "\n",
    "In this forced system, the **steady-state oscillation** will have a frequency $\\omega$ (the driver) and an amplitude that exhibits **resonance enhancement** near $\\omega \\approx \\omega_0$, increasingly sharp as damping is reduced.\n",
    "\n",
    "---\n",
    "\n",
    "> **Suggested Experimentation:**\n",
    ">\n",
    "> - Set $\\omega \\approx \\omega_0$ to see resonance!\n",
    "> - Reduce $\\gamma$ to see \"sharpness\" of the resonance peak increase.\n",
    "> - Compare behavior for different regimes by adjusting $\\gamma$ and $k$.\n",
    "\n",
    "---\n"
   ]
  },
  {
   "cell_type": "code",
   "execution_count": null,
   "id": "5bee5a4e",
   "metadata": {},
   "outputs": [
    {
     "data": {
      "application/vnd.jupyter.widget-view+json": {
       "model_id": "2959f04ded9e413cb2feb9d40e6fb581",
       "version_major": 2,
       "version_minor": 0
      },
      "text/plain": [
       "Play(value=0, interval=50, layout=Layout(display='none'), max=599)"
      ]
     },
     "metadata": {},
     "output_type": "display_data"
    },
    {
     "data": {
      "application/vnd.jupyter.widget-view+json": {
       "model_id": "937f180a123c4c41bdf2750eb479ab4a",
       "version_major": 2,
       "version_minor": 0
      },
      "text/plain": [
       "VBox(children=(HBox(children=(BoundedFloatText(value=1.0, description='m', layout=Layout(width='90px'), min=0.…"
      ]
     },
     "metadata": {},
     "output_type": "display_data"
    },
    {
     "data": {
      "application/vnd.jupyter.widget-view+json": {
       "model_id": "648b9b1f96824c2ca7c85ea3defe0701",
       "version_major": 2,
       "version_minor": 0
      },
      "text/plain": [
       "Output()"
      ]
     },
     "metadata": {},
     "output_type": "display_data"
    }
   ],
   "source": [
    "from demo import run_demo\n",
    "run_demo()"
   ]
  }
 ],
 "metadata": {
  "kernelspec": {
   "display_name": "Python 3",
   "language": "python",
   "name": "python3"
  },
  "language_info": {
   "codemirror_mode": {
    "name": "ipython",
    "version": 3
   },
   "file_extension": ".py",
   "mimetype": "text/x-python",
   "name": "python",
   "nbconvert_exporter": "python",
   "pygments_lexer": "ipython3",
   "version": "3.13.3"
  }
 },
 "nbformat": 4,
 "nbformat_minor": 5
}
