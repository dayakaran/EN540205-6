{
 "cells": [
  {
   "cell_type": "code",
   "execution_count": 2,
   "id": "0ae4c0e8",
   "metadata": {},
   "outputs": [
    {
     "data": {
      "text/html": [
       "\n",
       "        <iframe\n",
       "            width=\"1000\"\n",
       "            height=\"700\"\n",
       "            src=\"Boyce_12e_PPT_ch05_2.pdf\"\n",
       "            frameborder=\"0\"\n",
       "            allowfullscreen\n",
       "            \n",
       "        ></iframe>\n",
       "        "
      ],
      "text/plain": [
       "<IPython.lib.display.IFrame at 0x2eb65392a50>"
      ]
     },
     "execution_count": 2,
     "metadata": {},
     "output_type": "execute_result"
    }
   ],
   "source": [
    "from IPython.display import IFrame\n",
    "\n",
    "IFrame('Boyce_12e_PPT_ch05_2.pdf', width=1000, height=700)"
   ]
  },
  {
   "cell_type": "markdown",
   "id": "a0a24a14",
   "metadata": {},
   "source": [
    "# Series Solution Animation Demo\n",
    "\n",
    "This interactive demo visualizes the Taylor (power) series approximation to the ODE:\n",
    "\n",
    "$$\n",
    "y'' + y = 0\n",
    "$$\n",
    "\n",
    "The general solution is a linear combination of $\\cos x$ and $\\sin x$, but here it is dynamically constructed using the first $n$ terms of the Taylor series:\n",
    "\n",
    "$$\n",
    "y(x) = a_0 + a_1 x + a_2 x^2 + a_3 x^3 + \\ldots + a_n x^n\n",
    "$$\n",
    "\n",
    "The coefficients are determined by the initial conditions:\n",
    "- $y(0) = a_0$\n",
    "- $y'(0) = a_1$\n",
    "\n",
    "---\n",
    "\n",
    "## Instructions\n",
    "\n",
    "- **Series Terms ($n$):** Use the slider to set the number of Taylor series terms. Higher $n$ yields better accuracy for larger $x$.\n",
    "- **Initial Conditions:** \n",
    "    - For $\\cos x$: $y(0) = 1$, $y'(0) = 0$\n",
    "    - For $\\sin x$: $y(0) = 0$, $y'(0) = 1$\n",
    "- **Plots:** \n",
    "  \n",
    "  Left plot: true and series solution traces.  \n",
    "  Right plot: error, i.e., |$Series $-$ True$|.\n",
    "\n",
    "---\n",
    "\n",
    "**Questions to explore:**\n",
    "- How many terms does it take for a \"good\" approximation on $[0, 20]$?\n",
    "- Which initial condition gives $\\cos x$? Which gives $\\sin x$?\n",
    "- Compare the series and true solution for $\\cos x$ and $\\sin x$.\n",
    "\n",
    "---\n"
   ]
  },
  {
   "cell_type": "code",
   "execution_count": 1,
   "id": "183ef715",
   "metadata": {},
   "outputs": [
    {
     "name": "stderr",
     "output_type": "stream",
     "text": [
      "c:\\Users\\ihuss\\Manim_Fellowship_2025\\EN540205-6\\de_206\\demos\\unit_5\\5.2\\demo.py:124: SyntaxWarning: invalid escape sequence '\\!'\n",
      "  \"<li>Set $y(0)\\!=\\!1, y'(0)\\!=\\!0$ for $\\\\cos x$ ; $y(0)\\!=\\!0, y'(0)\\!=\\!1$ for $\\\\sin x$\"\n"
     ]
    },
    {
     "data": {
      "text/markdown": [
       "<b>Equation:</b> $y'' + y = 0$<br>This demo traces the approximation of $\\cos x$ or $\\sin x$ using a truncated Taylor series (power series) solution.<ul><li>Select number of terms (n): higher n gives wider, more accurate approximation<li>Set $y(0)\\!=\\!1, y'(0)\\!=\\!0$ for $\\cos x$ ; $y(0)\\!=\\!0, y'(0)\\!=\\!1$ for $\\sin x$</ul>"
      ],
      "text/plain": [
       "<IPython.core.display.Markdown object>"
      ]
     },
     "metadata": {},
     "output_type": "display_data"
    },
    {
     "data": {
      "application/vnd.jupyter.widget-view+json": {
       "model_id": "010877ec1ce5490a9a9735c54358f136",
       "version_major": 2,
       "version_minor": 0
      },
      "text/plain": [
       "HBox(children=(IntSlider(value=8, continuous_update=False, description='Series Terms (n):', layout=Layout(widt…"
      ]
     },
     "metadata": {},
     "output_type": "display_data"
    },
    {
     "data": {
      "application/vnd.jupyter.widget-view+json": {
       "model_id": "9d9c7e20f75348458d071f8a3155abb2",
       "version_major": 2,
       "version_minor": 0
      },
      "text/plain": [
       "HBox(children=(Button(button_style='success', description='▶ Play', layout=Layout(width='85px'), style=ButtonS…"
      ]
     },
     "metadata": {},
     "output_type": "display_data"
    },
    {
     "data": {
      "application/vnd.jupyter.widget-view+json": {
       "model_id": "de9f14c3d49249cd95b8f5caa56208cf",
       "version_major": 2,
       "version_minor": 0
      },
      "text/plain": [
       "FloatSlider(value=0.0, description='x:', disabled=True, layout=Layout(width='600px'), max=20.0, step=0.0250312…"
      ]
     },
     "metadata": {},
     "output_type": "display_data"
    },
    {
     "data": {
      "application/vnd.jupyter.widget-view+json": {
       "model_id": "e81f294478ac486ea4e9a3f193549fa1",
       "version_major": 2,
       "version_minor": 0
      },
      "text/plain": [
       "Play(value=0, interval=30, layout=Layout(display='none'), max=799)"
      ]
     },
     "metadata": {},
     "output_type": "display_data"
    },
    {
     "data": {
      "application/vnd.jupyter.widget-view+json": {
       "model_id": "e75ddd4cb6c44c57b3d5ad3a52f86d99",
       "version_major": 2,
       "version_minor": 0
      },
      "text/plain": [
       "Output()"
      ]
     },
     "metadata": {},
     "output_type": "display_data"
    }
   ],
   "source": [
    "from demo import run_demo \n",
    "\n",
    "run_demo()"
   ]
  }
 ],
 "metadata": {
  "kernelspec": {
   "display_name": "Python 3",
   "language": "python",
   "name": "python3"
  },
  "language_info": {
   "codemirror_mode": {
    "name": "ipython",
    "version": 3
   },
   "file_extension": ".py",
   "mimetype": "text/x-python",
   "name": "python",
   "nbconvert_exporter": "python",
   "pygments_lexer": "ipython3",
   "version": "3.13.3"
  }
 },
 "nbformat": 4,
 "nbformat_minor": 5
}
