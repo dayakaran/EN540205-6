{
 "cells": [
  {
   "cell_type": "code",
   "execution_count": 1,
   "id": "18cfb1fe",
   "metadata": {},
   "outputs": [
    {
     "data": {
      "text/html": [
       "\n",
       "        <iframe\n",
       "            width=\"1000\"\n",
       "            height=\"700\"\n",
       "            src=\"Boyce_12e_PPT_ch05_3.pdf\"\n",
       "            frameborder=\"0\"\n",
       "            allowfullscreen\n",
       "            \n",
       "        ></iframe>\n",
       "        "
      ],
      "text/plain": [
       "<IPython.lib.display.IFrame at 0x2d91ebf8830>"
      ]
     },
     "execution_count": 1,
     "metadata": {},
     "output_type": "execute_result"
    }
   ],
   "source": [
    "from IPython.display import IFrame\n",
    "\n",
    "IFrame('Boyce_12e_PPT_ch05_3.pdf', width=1000, height=700)"
   ]
  },
  {
   "cell_type": "code",
   "execution_count": null,
   "id": "92499e9f",
   "metadata": {},
   "outputs": [
    {
     "data": {
      "text/markdown": [
       "<b>Equation:</b> y'' + 1/(1-x^2) y = 0<br>This demo shows the Taylor series approximation for this ODE, centered at x0.<ul><li>Select number of terms (n) and the ordinary point x0 (the series center).</li><li>The blue region is the radius of convergence (distance to nearest singularity at x=1 or x=-1).</li><li>If the traced point leaves this region, it turns bold magenta and a warning will appear.</li><li>Initial conditions: y(x0)=1, y'(x0)=0.</li></ul>"
      ],
      "text/plain": [
       "<IPython.core.display.Markdown object>"
      ]
     },
     "metadata": {},
     "output_type": "display_data"
    },
    {
     "data": {
      "application/vnd.jupyter.widget-view+json": {
       "model_id": "4229d1d403be40beb1a525d25923751d",
       "version_major": 2,
       "version_minor": 0
      },
      "text/plain": [
       "HBox(children=(IntSlider(value=8, continuous_update=False, description='Series Terms (n):', layout=Layout(widt…"
      ]
     },
     "metadata": {},
     "output_type": "display_data"
    },
    {
     "data": {
      "application/vnd.jupyter.widget-view+json": {
       "model_id": "4de3e52e0c234c75ae3d07d3fb7fc2a0",
       "version_major": 2,
       "version_minor": 0
      },
      "text/plain": [
       "HBox(children=(Button(button_style='success', description='▶ Play', layout=Layout(width='85px'), style=ButtonS…"
      ]
     },
     "metadata": {},
     "output_type": "display_data"
    },
    {
     "data": {
      "application/vnd.jupyter.widget-view+json": {
       "model_id": "1eea43cba88b4043a6b2a48a8333b9ed",
       "version_major": 2,
       "version_minor": 0
      },
      "text/plain": [
       "FloatSlider(value=-2.0, description='x:', disabled=True, layout=Layout(width='600px'), max=2.0, min=-2.0, step…"
      ]
     },
     "metadata": {},
     "output_type": "display_data"
    },
    {
     "data": {
      "application/vnd.jupyter.widget-view+json": {
       "model_id": "c71c4408259e4daa9a072bb7368205f8",
       "version_major": 2,
       "version_minor": 0
      },
      "text/plain": [
       "Play(value=0, interval=30, layout=Layout(display='none'), max=999)"
      ]
     },
     "metadata": {},
     "output_type": "display_data"
    },
    {
     "data": {
      "application/vnd.jupyter.widget-view+json": {
       "model_id": "ed1a3ba7edac4ba3921996b6a1777aa6",
       "version_major": 2,
       "version_minor": 0
      },
      "text/plain": [
       "Output()"
      ]
     },
     "metadata": {},
     "output_type": "display_data"
    }
   ],
   "source": [
    "import numpy as np\n",
    "import matplotlib.pyplot as plt\n",
    "import seaborn as sns\n",
    "import ipywidgets as widgets\n",
    "from IPython.display import display, Markdown\n",
    "from scipy.integrate import solve_ivp\n",
    "from matplotlib.patches import Rectangle\n",
    "sns.set_context('poster')\n",
    "import warnings\n",
    "warnings.filterwarnings(\"ignore\")\n",
    "\n",
    "class SeriesSolutionPlayDemo:\n",
    "    def __init__(self):\n",
    "        self.t_min, self.t_max, self.n_points = -5.0, 5.0, 1000\n",
    "        self.x_vals = np.linspace(self.t_min, self.t_max, self.n_points)\n",
    "        self.n_terms = 8\n",
    "        self.y0 = 1.0\n",
    "        self.dy0 = 0.0\n",
    "        self.x0 = 0.0\n",
    "        self._compute_radius()\n",
    "        self.solve()\n",
    "        self._create_widgets()\n",
    "\n",
    "    def _compute_radius(self):\n",
    "        self.radius = min(abs(self.x0 - 1), abs(self.x0 + 1))\n",
    "\n",
    "    def solve(self):\n",
    "        x0 = self.x0\n",
    "        n_terms = self.n_terms\n",
    "        a = [self.y0, self.dy0]\n",
    "        for n in range(2, n_terms+1):\n",
    "            denom = (n)*(n-1)\n",
    "            if abs(1 - x0**2) < 1e-13:\n",
    "                a_next = 0.0\n",
    "            else:\n",
    "                a_next = -a[n-2] / (denom * (1 - x0**2))\n",
    "            a.append(a_next)\n",
    "        self.coeffs = np.array(a)\n",
    "        dx = self.x_vals - x0\n",
    "        powers = np.vstack([dx**k for k in range(len(self.coeffs))])\n",
    "        self.series_vals = np.dot(self.coeffs, powers)\n",
    "\n",
    "        radius = self.radius\n",
    "        mask_in_radius = np.abs(self.x_vals - x0) < (radius - 1e-6)\n",
    "        x_for_ivp = self.x_vals[mask_in_radius]\n",
    "        if len(x_for_ivp) < 2:\n",
    "            self.analytic_vals = np.nan * np.ones_like(self.x_vals)\n",
    "            return\n",
    "        def ode(t, y):\n",
    "            fac = 1/(1-t**2) if abs(1-t**2) >= 1e-13 else 0\n",
    "            return [y[1], -fac * y[0]]\n",
    "        try:\n",
    "            analytic_sol = solve_ivp(\n",
    "                ode, [x_for_ivp[0], x_for_ivp[-1]], [self.y0, self.dy0],\n",
    "                t_eval=x_for_ivp, rtol=2e-8, atol=1e-10\n",
    "            )\n",
    "            analytic_vals = np.nan * np.ones_like(self.x_vals)\n",
    "            if analytic_sol.status == 0 or analytic_sol.status == 1:\n",
    "                analytic_vals[mask_in_radius] = analytic_sol.y[0]\n",
    "            self.analytic_vals = analytic_vals\n",
    "        except Exception:\n",
    "            self.analytic_vals = np.nan * np.ones_like(self.x_vals)\n",
    "\n",
    "    def _create_widgets(self):\n",
    "        self.n_slider = widgets.IntSlider(\n",
    "            min=2, max=30, value=8, step=2,\n",
    "            description=\"Series Terms (n):\",\n",
    "            layout=widgets.Layout(width='330px'),\n",
    "            style={'description_width': 'initial'},\n",
    "            continuous_update=False\n",
    "        )\n",
    "        self.x0_slider = widgets.FloatSlider(\n",
    "            min=-0.99, max=0.99, value=0.0, step=0.01,\n",
    "            description=\"Ordinary point x0:\",\n",
    "            layout=widgets.Layout(width='350px'),\n",
    "            style={'description_width': 'initial'},\n",
    "            continuous_update=False\n",
    "        )\n",
    "        self.play_widget = widgets.Play(\n",
    "            value=0, min=0, max=self.n_points-1, step=1, interval=30\n",
    "        )\n",
    "        self.play_widget.layout.display = 'none'\n",
    "        self.play_btn  = widgets.Button(description='▶ Play',  button_style='success', layout=widgets.Layout(width='85px'))\n",
    "        self.pause_btn = widgets.Button(description='⏸ Pause', button_style='warning',layout=widgets.Layout(width='85px'))\n",
    "        self.stop_btn  = widgets.Button(description='⏹ Stop',  button_style='danger', layout=widgets.Layout(width='85px'))\n",
    "        self.reset_btn = widgets.Button(description='⟲ Reset', button_style='info', layout=widgets.Layout(width='85px'))\n",
    "        self.play_btn.on_click(lambda *_: setattr(self.play_widget, 'playing', True))\n",
    "        self.pause_btn.on_click(lambda *_: setattr(self.play_widget, 'playing', False))\n",
    "        self.stop_btn.on_click(self._stop)\n",
    "        self.reset_btn.on_click(lambda *_: setattr(self.play_widget, 'value', 0))\n",
    "        self.x_slider = widgets.FloatSlider(\n",
    "            value=self.x_vals[0], min=self.t_min, max=self.t_max,\n",
    "            step=(self.t_max - self.t_min)/(self.n_points-1),\n",
    "            description='x:', disabled=True,\n",
    "            layout=widgets.Layout(width=\"600px\"),\n",
    "            style={'description_width':'initial'}\n",
    "        )\n",
    "        def _param_change(*_):\n",
    "            self.n_terms = self.n_slider.value\n",
    "            self.x0 = self.x0_slider.value\n",
    "            self._compute_radius()\n",
    "            self.solve()\n",
    "            self._stop()\n",
    "        self.n_slider.observe(_param_change, names='value')\n",
    "        self.x0_slider.observe(_param_change, names='value')\n",
    "\n",
    "    def _stop(self, *_):\n",
    "        self.play_widget.playing = False\n",
    "        self.play_widget.value = 0\n",
    "\n",
    "    def _update(self, frame_idx):\n",
    "        i = int(frame_idx)\n",
    "        x = self.x_vals\n",
    "        y_series = self.series_vals\n",
    "        y_true = self.analytic_vals\n",
    "        error = np.abs(y_series - y_true)\n",
    "        x0 = self.x0\n",
    "        radius = self.radius\n",
    "        xi = x[i]\n",
    "        self.x_slider.value = xi\n",
    "        fig, axes = plt.subplots(1,2, figsize=(17,6), gridspec_kw={'width_ratios': [1.2, 1]}, sharex=True)\n",
    "        ax = axes[0]\n",
    "        ax.plot(x, y_true, '--', lw=2, color='green', label='Numerical Solution')\n",
    "        ax.plot(x, y_series, color='#196BBD', lw=2, label=f\"Series (n={self.n_terms})\")\n",
    "        ax.plot(x[:i+1], y_series[:i+1], color='crimson', lw=4, alpha=.85, label='Traced Series')\n",
    "        if np.isfinite(radius):\n",
    "            ax.add_patch(Rectangle((x0-radius, -8), 2*radius, 16, color='royalblue', alpha=0.09, zorder=0))\n",
    "            ax.axvline(x0-radius, color=\"royalblue\", ls=':', lw=2, alpha=0.75)\n",
    "            ax.axvline(x0+radius, color=\"royalblue\", ls=':', lw=2, alpha=0.75)\n",
    "            ax.text(x0, 7.1, f\"Radius of Convergence = {radius:.2f}\", color=\"royalblue\", fontsize=14, ha='center', va='bottom')\n",
    "        if np.isfinite(radius) and abs(xi - x0) > radius:\n",
    "            ax.plot(xi, y_series[i], marker='o', color='magenta', ms=17, markeredgecolor='k', zorder=10)\n",
    "        else:\n",
    "            ax.plot(xi, y_series[i], marker='o', color='crimson', ms=10, zorder=10)\n",
    "        ax.set_xlim(self.t_min, self.t_max)\n",
    "        ax.set_ylim(-8, 8)\n",
    "        ax.set_xlabel('x', fontsize=18)\n",
    "        ax.set_ylabel('y(x)', fontsize=18)\n",
    "        ax.axhline(0, color='k', lw=0.75)\n",
    "        ax.axvline(0, color='grey', lw=0.75)\n",
    "        ax.grid(True, alpha=0.22)\n",
    "        ax.legend(loc='upper right', fontsize=13)\n",
    "        ax2 = axes[1]\n",
    "        ax2.plot(x, error, color='orange', lw=3, label=\"|Series - Numerical|\")\n",
    "        ax2.fill_between(x, 0, error, color='orange', alpha=0.22)\n",
    "        ax2.set_xlim(self.t_min, self.t_max)\n",
    "        ax2.set_ylim(0, min(max(0.02, np.nanmax(error)*1.13), 8))\n",
    "        ax2.set_xlabel('x', fontsize=16)\n",
    "        ax2.set_title(\"Error vs. x\", fontsize=16)\n",
    "        ax2.grid(True, alpha=0.2)\n",
    "        ax2.legend(fontsize=12, loc='upper left')\n",
    "        if np.isfinite(radius):\n",
    "            for a in [ax, ax2]:\n",
    "                a.axvline(x0-radius, color=\"royalblue\", ls=':', lw=2, alpha=0.75)\n",
    "                a.axvline(x0+radius, color=\"royalblue\", ls=':', lw=2, alpha=0.75)\n",
    "        if np.isfinite(radius) and abs(xi - x0) > radius:\n",
    "            fig.suptitle(\"Warning: x is beyond the radius of convergence!\", color='magenta', fontsize=22, fontweight='bold', y=1.04)\n",
    "        plt.tight_layout()\n",
    "        plt.show()\n",
    "\n",
    "    def display(self):\n",
    "        descr = (\n",
    "            \"<b>Equation:</b> y'' + 1/(1-x^2) y = 0<br>\"\n",
    "            \"This demo shows the Taylor series approximation for this ODE, centered at x0.<ul>\"\n",
    "            \"<li>Select number of terms (n) and the ordinary point x0 (the series center).</li>\"\n",
    "            \"<li>The blue region is the radius of convergence (distance to nearest singularity at x=1 or x=-1).</li>\"\n",
    "            \"<li>If the traced point leaves this region, it turns bold magenta and a warning will appear.</li>\"\n",
    "            \"<li>Initial conditions: y(x0)=1, y'(x0)=0.</li>\"\n",
    "            \"</ul>\"\n",
    "        )\n",
    "        display(Markdown(descr))\n",
    "        param_box = widgets.HBox([self.n_slider, self.x0_slider])\n",
    "        controls = widgets.HBox([\n",
    "            self.play_btn, self.pause_btn, self.stop_btn, self.reset_btn\n",
    "        ])\n",
    "        display(param_box, controls, self.x_slider)\n",
    "        display(self.play_widget)\n",
    "        out = widgets.interactive_output(self._update, {'frame_idx': self.play_widget})\n",
    "        display(out)\n",
    "        self._stop()\n",
    "\n",
    "def run_demo():\n",
    "    demo = SeriesSolutionPlayDemo()\n",
    "    demo.display()\n",
    "\n",
    "run_demo()"
   ]
  }
 ],
 "metadata": {
  "kernelspec": {
   "display_name": "Python 3",
   "language": "python",
   "name": "python3"
  },
  "language_info": {
   "codemirror_mode": {
    "name": "ipython",
    "version": 3
   },
   "file_extension": ".py",
   "mimetype": "text/x-python",
   "name": "python",
   "nbconvert_exporter": "python",
   "pygments_lexer": "ipython3",
   "version": "3.13.3"
  }
 },
 "nbformat": 4,
 "nbformat_minor": 5
}
