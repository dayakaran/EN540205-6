{
 "cells": [
  {
   "cell_type": "code",
   "execution_count": 1,
   "id": "b395fb64-ecd4-4f17-8038-6852506d0af8",
   "metadata": {},
   "outputs": [
    {
     "data": {
      "text/html": [
       "\n",
       "        <iframe\n",
       "            width=\"800\"\n",
       "            height=\"600\"\n",
       "            src=\"Boyce_12e_PPT_ch01_3.pdf\"\n",
       "            frameborder=\"0\"\n",
       "            allowfullscreen\n",
       "            \n",
       "        ></iframe>\n",
       "        "
      ],
      "text/plain": [
       "<IPython.lib.display.IFrame at 0x10711c830>"
      ]
     },
     "execution_count": 1,
     "metadata": {},
     "output_type": "execute_result"
    }
   ],
   "source": [
    "from IPython.display import IFrame\n",
    "IFrame(\"Boyce_12e_PPT_ch01_3.pdf\", width=800, height=600)"
   ]
  },
  {
   "cell_type": "markdown",
   "id": "974809f7-ddb9-481b-91ca-faa93136d4aa",
   "metadata": {},
   "source": [
    "### Here is a slightly modified version of the demo you saw last lecture."
   ]
  },
  {
   "cell_type": "markdown",
   "id": "447d81f1",
   "metadata": {},
   "source": [
    "## Comparing Linear and Quadratic Air Resistance in Free Fall\n",
    "\n",
    "This demo animates and compares the motion of a ball dropped from $h_0 = 600$ m under two drag models:\n",
    "\n",
    "- **Linear drag:** Air resistance force is proportional to velocity, $F_{\\text{drag}} = kv$.\n",
    "- **Quadratic drag:** Air resistance force is proportional to velocity squared, $F_{\\text{drag}} = k v^2$.\n",
    "\n",
    "In both cases, the ball starts at rest and falls under gravity.\n",
    "\n",
    "### The Equations Modeled\n",
    "\n",
    "- **Linear drag:**\n",
    "  $$\n",
    "  \\frac{dv}{dt} = g - k v\n",
    "  $$\n",
    "  for $g = 9.8$ m/s², $k = 0.2$.\n",
    "\n",
    "- **Quadratic drag:**\n",
    "  $$\n",
    "  \\frac{dv}{dt} = \\frac{g^2 - v^2}{g/k}\n",
    "  $$\n",
    "\n",
    "You can watch the animation for each scenario:\n",
    "\n",
    "- **Left side/pole:** Linear drag case, showing $v(t)$ and position over time.\n",
    "- **Right side/pole:** Quadratic drag case, showing $v(t)$ and position over time.\n"
   ]
  },
  {
   "cell_type": "code",
   "execution_count": 2,
   "id": "7bd8cebc-df42-434b-93e2-e2b77a29a1e3",
   "metadata": {},
   "outputs": [
    {
     "data": {
      "application/vnd.jupyter.widget-view+json": {
       "model_id": "8bd2c5a593b5443bb6210c9ee2d2de41",
       "version_major": 2,
       "version_minor": 0
      },
      "text/plain": [
       "VBox(children=(Button(description='Generate movie', style=ButtonStyle()), Output()))"
      ]
     },
     "metadata": {},
     "output_type": "display_data"
    }
   ],
   "source": [
    "from movie import make_movie\n",
    "make_movie()"
   ]
  },
  {
   "cell_type": "code",
   "execution_count": null,
   "id": "60ded572-033e-411c-be80-09eacafe6b39",
   "metadata": {},
   "outputs": [],
   "source": []
  }
 ],
 "metadata": {
  "kernelspec": {
   "display_name": "Python 3",
   "language": "python",
   "name": "python3"
  },
  "language_info": {
   "codemirror_mode": {
    "name": "ipython",
    "version": 3
   },
   "file_extension": ".py",
   "mimetype": "text/x-python",
   "name": "python",
   "nbconvert_exporter": "python",
   "pygments_lexer": "ipython3",
   "version": "3.13.3"
  }
 },
 "nbformat": 4,
 "nbformat_minor": 5
}
