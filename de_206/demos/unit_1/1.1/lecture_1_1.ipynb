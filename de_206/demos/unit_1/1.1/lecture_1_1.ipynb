{
 "cells": [
  {
   "cell_type": "code",
   "execution_count": 1,
   "id": "b395fb64-ecd4-4f17-8038-6852506d0af8",
   "metadata": {},
   "outputs": [
    {
     "data": {
      "text/html": [
       "\n",
       "        <iframe\n",
       "            width=\"800\"\n",
       "            height=\"600\"\n",
       "            src=\"Boyce_12e_PPT_ch01_1.pdf\"\n",
       "            frameborder=\"0\"\n",
       "            allowfullscreen\n",
       "            \n",
       "        ></iframe>\n",
       "        "
      ],
      "text/plain": [
       "<IPython.lib.display.IFrame at 0x104b1c830>"
      ]
     },
     "execution_count": 1,
     "metadata": {},
     "output_type": "execute_result"
    }
   ],
   "source": [
    "from IPython.display import IFrame\n",
    "IFrame(\"Boyce_12e_PPT_ch01_1.pdf\", width=800, height=600)"
   ]
  },
  {
   "cell_type": "markdown",
   "id": "abeef86d",
   "metadata": {},
   "source": [
    "## Differential Equation Demo: $$\\frac{dp}{dt} = 0.5p - 450$$\n",
    "\n",
    "This interactive demo visualizes the solution to the differential equation\n",
    "\n",
    "$$\n",
    "\\frac{dp}{dt} = 0.5p - 450\n",
    "$$\n",
    "\n",
    "This equation describes a process (for example, population growth with limited resources) where the rate of change of $p$ at time $t$ depends on the current value of $p$ and a constant. There is an **equilibrium** at $$p = 900$$ where the rate of change is zero.\n",
    "\n",
    "### How to use the demo\n",
    "\n",
    "- **Initial Value ($p_0$) slider:** Adjusts the starting value $p(0)$ at time $t=0$.\n",
    "- **Show Equilibrium Line:** Toggles a horizontal line at $p=900$ representing the equilibrium.\n",
    "- **Show Direction Field:** Displays a vector field showing the slope $\\frac{dp}{dt}$ for various $p$ values and times.\n",
    "\n",
    "### Insights\n",
    "\n",
    "- If $p_0 > 900$, the population will grow exponentially.\n",
    "- If $p_0 < 900$, the population will rise or fall toward the equilibrium.\n",
    "- If $p_0 = 900$, the population remains constant.\n"
   ]
  },
  {
   "cell_type": "code",
   "execution_count": 2,
   "id": "7bd8cebc-df42-434b-93e2-e2b77a29a1e3",
   "metadata": {},
   "outputs": [
    {
     "data": {
      "text/html": [
       "\n",
       "    <div style=\"text-align: center; margin-bottom: 15px;\">\n",
       "    <h2>📈 Differential Equation Demo</h2>\n",
       "    </div>\n",
       "    "
      ],
      "text/plain": [
       "<IPython.core.display.HTML object>"
      ]
     },
     "metadata": {},
     "output_type": "display_data"
    },
    {
     "data": {
      "text/latex": [
       "$$\\frac{dp}{dt} = 0.5p - 450$$"
      ],
      "text/plain": [
       "<IPython.core.display.Latex object>"
      ]
     },
     "metadata": {},
     "output_type": "display_data"
    },
    {
     "data": {
      "application/vnd.jupyter.widget-view+json": {
       "model_id": "50de0875403c45da8e59f9b916758868",
       "version_major": 2,
       "version_minor": 0
      },
      "text/plain": [
       "VBox(children=(VBox(children=(HTML(value='<h3> Controls</h3>'), FloatSlider(value=910.0, description='Initial …"
      ]
     },
     "metadata": {},
     "output_type": "display_data"
    }
   ],
   "source": [
    "from demo import run_demo\n",
    "run_demo()"
   ]
  },
  {
   "cell_type": "code",
   "execution_count": null,
   "id": "60ded572-033e-411c-be80-09eacafe6b39",
   "metadata": {},
   "outputs": [],
   "source": []
  }
 ],
 "metadata": {
  "kernelspec": {
   "display_name": "Python 3",
   "language": "python",
   "name": "python3"
  },
  "language_info": {
   "codemirror_mode": {
    "name": "ipython",
    "version": 3
   },
   "file_extension": ".py",
   "mimetype": "text/x-python",
   "name": "python",
   "nbconvert_exporter": "python",
   "pygments_lexer": "ipython3",
   "version": "3.13.3"
  }
 },
 "nbformat": 4,
 "nbformat_minor": 5
}
