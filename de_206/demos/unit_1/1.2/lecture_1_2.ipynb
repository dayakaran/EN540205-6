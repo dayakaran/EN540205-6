{
 "cells": [
  {
   "cell_type": "code",
   "execution_count": 1,
   "id": "b395fb64-ecd4-4f17-8038-6852506d0af8",
   "metadata": {},
   "outputs": [
    {
     "data": {
      "text/html": [
       "\n",
       "        <iframe\n",
       "            width=\"800\"\n",
       "            height=\"600\"\n",
       "            src=\"Boyce_12e_PPT_ch01_2.pdf\"\n",
       "            frameborder=\"0\"\n",
       "            allowfullscreen\n",
       "            \n",
       "        ></iframe>\n",
       "        "
      ],
      "text/plain": [
       "<IPython.lib.display.IFrame at 0x107660830>"
      ]
     },
     "execution_count": 1,
     "metadata": {},
     "output_type": "execute_result"
    }
   ],
   "source": [
    "from IPython.display import IFrame\n",
    "IFrame(\"Boyce_12e_PPT_ch01_2.pdf\", width=800, height=600)"
   ]
  },
  {
   "cell_type": "markdown",
   "id": "974809f7-ddb9-481b-91ca-faa93136d4aa",
   "metadata": {},
   "source": [
    "### A demo of example 1.2.1 can be found in the folder titled 1.1 ( previous lecture ).\n",
    "\n",
    "### Below you can find a demo of Example 1.2.2 "
   ]
  },
  {
   "cell_type": "markdown",
   "id": "48c67399",
   "metadata": {},
   "source": [
    "\n",
    "This demo animates the motion of a ball dropped (or thrown down) from $h_0 = 300$ m, taking into account air resistance.\n",
    "\n",
    "The vertical motion is governed by the equation:\n",
    "$$\n",
    "m\\frac{dv}{dt} = mg - kv\n",
    "$$\n",
    "where $m$ is mass, $g = 9.8$ m/s$^2$ (gravity), $k = 0.2$ (air resistance constant), and $v$ is the velocity.\n",
    "\n",
    "The height as a function of time is:\n",
    "$$\n",
    "h(t) = h_0 - \\frac{g}{k} t - \\frac{v_0 - g/k}{k} \\left(1 - e^{-kt} \\right)\n",
    "$$\n",
    "\n",
    "**Controls and How To Use:**\n",
    "- Use the slider to set the initial velocity $v_0$ (0 to 25 m/s).\n",
    "- Click \"Generate movie\" to see the animation.\n",
    "\n",
    "**What you'll see:**\n",
    "- **Left:** The velocity vs. time plot, approaching the terminal velocity $v_{\\text{term}} = g/k$.\n",
    "- **Right:** The pole and ball, with real-time height and velocity information.\n",
    "\n",
    "Try varying $v_0$ to see the effect of different starting speeds!"
   ]
  },
  {
   "cell_type": "code",
   "execution_count": 1,
   "id": "7bd8cebc-df42-434b-93e2-e2b77a29a1e3",
   "metadata": {},
   "outputs": [
    {
     "name": "stderr",
     "output_type": "stream",
     "text": [
      "c:\\Users\\ihuss\\AppData\\Local\\Programs\\Python\\Python313\\Lib\\site-packages\\pydub\\utils.py:170: RuntimeWarning: Couldn't find ffmpeg or avconv - defaulting to ffmpeg, but may not work\n",
      "  warn(\"Couldn't find ffmpeg or avconv - defaulting to ffmpeg, but may not work\", RuntimeWarning)\n"
     ]
    },
    {
     "data": {
      "application/vnd.jupyter.widget-view+json": {
       "model_id": "0711d362a2314584bfe99b5e9da0225c",
       "version_major": 2,
       "version_minor": 0
      },
      "text/plain": [
       "VBox(children=(FloatSlider(value=0.0, continuous_update=False, description='v0 (m/s):', max=25.0, step=5.0), B…"
      ]
     },
     "metadata": {},
     "output_type": "display_data"
    }
   ],
   "source": [
    "from movie import make_movie\n",
    "make_movie()\n",
    "\n",
    "# Hit the scrollbar toggle on the left to view the entire video without scrolling"
   ]
  },
  {
   "cell_type": "code",
   "execution_count": null,
   "id": "60ded572-033e-411c-be80-09eacafe6b39",
   "metadata": {},
   "outputs": [],
   "source": []
  }
 ],
 "metadata": {
  "kernelspec": {
   "display_name": "Python 3",
   "language": "python",
   "name": "python3"
  },
  "language_info": {
   "codemirror_mode": {
    "name": "ipython",
    "version": 3
   },
   "file_extension": ".py",
   "mimetype": "text/x-python",
   "name": "python",
   "nbconvert_exporter": "python",
   "pygments_lexer": "ipython3",
   "version": "3.13.3"
  }
 },
 "nbformat": 4,
 "nbformat_minor": 5
}
