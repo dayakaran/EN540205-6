{
 "cells": [
  {
   "cell_type": "code",
   "execution_count": 1,
   "id": "b099b82b",
   "metadata": {},
   "outputs": [],
   "source": [
    "%load_ext autoreload\n",
    "%autoreload 2"
   ]
  },
  {
   "cell_type": "code",
   "execution_count": 2,
   "id": "8edd1132-0e9d-4d49-a64a-065043076dd3",
   "metadata": {},
   "outputs": [
    {
     "data": {
      "text/html": [
       "\n",
       "        <iframe\n",
       "            width=\"1000\"\n",
       "            height=\"700\"\n",
       "            src=\"Boyce_12e_PPT_ch02_3.pdf\"\n",
       "            frameborder=\"0\"\n",
       "            allowfullscreen\n",
       "            \n",
       "        ></iframe>\n",
       "        "
      ],
      "text/plain": [
       "<IPython.lib.display.IFrame at 0x104335e20>"
      ]
     },
     "execution_count": 2,
     "metadata": {},
     "output_type": "execute_result"
    }
   ],
   "source": [
    "from IPython.display import IFrame\n",
    "\n",
    "IFrame('Boyce_12e_PPT_ch02_3.pdf', width=1000, height=700)"
   ]
  },
  {
   "cell_type": "markdown",
   "id": "56073896",
   "metadata": {},
   "source": [
    "## Interactive Model: Toxic Waste in a Well-Mixed Pond\n",
    "\n",
    "\n",
    "- **Left plot:** $Q(t)$, the total toxic waste over time.\n",
    "    - The black dashed curve: Solution if the inflow were constant at $2$ g/gal (for comparison).\n",
    "    - The red curve and dot: The actual $Q(t)$ up to the selected time.\n",
    "    - The horizontal dashed line: Long-term (equilibrium) value for constant inflow.\n",
    "- **Right plot:** A schematic of the pond:\n",
    "    - **Color:** Varies to show concentration of toxic waste.\n",
    "    - **Red inflow arrow:** Width varies with inflow concentration ($c_{\\text{in}}(t)$).\n",
    "    - **Grey outflow arrow:** Constant width due to fixed outflow.\n",
    "\n",
    "### How to Use\n",
    "\n",
    "- Use the time slider to move forward and backward in time.\n",
    "- Observe how spikes in $c_{\\text{in}}(t)$ (high inflow concentration) translate into increased toxic load in the pond, and how the pond eventually \"forgets\" old inflow as the waste is flushed out.\n",
    "\n",
    "---\n"
   ]
  },
  {
   "cell_type": "code",
   "execution_count": 1,
   "id": "c1b7ccb7-50fb-4831-8e59-64960a29a1e6",
   "metadata": {},
   "outputs": [
    {
     "data": {
      "application/vnd.jupyter.widget-view+json": {
       "model_id": "99a2ac12246c40cfa2b305e200dea5ca",
       "version_major": 2,
       "version_minor": 0
      },
      "text/plain": [
       "Play(value=0, interval=50, layout=Layout(display='none'), max=799)"
      ]
     },
     "metadata": {},
     "output_type": "display_data"
    },
    {
     "data": {
      "application/vnd.jupyter.widget-view+json": {
       "model_id": "055df65934e24166928f71b87922bd4a",
       "version_major": 2,
       "version_minor": 0
      },
      "text/plain": [
       "HTML(value='\\n        <h3>Toxic Waste in a Pond</h3>\\n        <p><b>Model:</b> dQ/dt = F·c<sub>in</sub>(t) − (…"
      ]
     },
     "metadata": {},
     "output_type": "display_data"
    },
    {
     "data": {
      "application/vnd.jupyter.widget-view+json": {
       "model_id": "81274e7b4e9448019e7c0c142d168b7c",
       "version_major": 2,
       "version_minor": 0
      },
      "text/plain": [
       "VBox(children=(HBox(children=(Button(button_style='success', description='▶ Play', layout=Layout(width='85px')…"
      ]
     },
     "metadata": {},
     "output_type": "display_data"
    },
    {
     "data": {
      "application/vnd.jupyter.widget-view+json": {
       "model_id": "015877a24d11458eae2ba1862345106a",
       "version_major": 2,
       "version_minor": 0
      },
      "text/plain": [
       "Output()"
      ]
     },
     "metadata": {},
     "output_type": "display_data"
    }
   ],
   "source": [
    "from demo import run_demo\n",
    "\n",
    "run_demo()"
   ]
  },
  {
   "cell_type": "code",
   "execution_count": null,
   "id": "fbdfb390-e8ad-4ec4-8308-0bca9922c094",
   "metadata": {},
   "outputs": [],
   "source": []
  }
 ],
 "metadata": {
  "kernelspec": {
   "display_name": "Python 3",
   "language": "python",
   "name": "python3"
  },
  "language_info": {
   "codemirror_mode": {
    "name": "ipython",
    "version": 3
   },
   "file_extension": ".py",
   "mimetype": "text/x-python",
   "name": "python",
   "nbconvert_exporter": "python",
   "pygments_lexer": "ipython3",
   "version": "3.13.3"
  }
 },
 "nbformat": 4,
 "nbformat_minor": 5
}
