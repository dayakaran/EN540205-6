{
 "cells": [
  {
   "cell_type": "code",
   "execution_count": 1,
   "id": "8edd1132-0e9d-4d49-a64a-065043076dd3",
   "metadata": {},
   "outputs": [
    {
     "data": {
      "text/html": [
       "\n",
       "        <iframe\n",
       "            width=\"1000\"\n",
       "            height=\"700\"\n",
       "            src=\"Boyce_12e_PPT_ch02_5.pdf\"\n",
       "            frameborder=\"0\"\n",
       "            allowfullscreen\n",
       "            \n",
       "        ></iframe>\n",
       "        "
      ],
      "text/plain": [
       "<IPython.lib.display.IFrame at 0x107d7ee10>"
      ]
     },
     "execution_count": 1,
     "metadata": {},
     "output_type": "execute_result"
    }
   ],
   "source": [
    "from IPython.display import IFrame\n",
    "\n",
    "IFrame('Boyce_12e_PPT_ch02_5.pdf', width=1000, height=700)"
   ]
  },
  {
   "cell_type": "markdown",
   "id": "dcf82652",
   "metadata": {},
   "source": [
    "# Interactive Logistic Equation Visualizer\n",
    "\n",
    "Explore the population model:\n",
    "\n",
    "$$\n",
    "\\frac{dy}{dt} = r \\left(1 - \\frac{y}{K}\\right) y\n",
    "$$\n",
    "\n",
    "- $r$ = growth rate ($r$ positive: population grows; negative: decays)\n",
    "- $K$ = carrying capacity (environmental limit)\n",
    "- $y_0$ = initial value, $y(0)$\n",
    "\n",
    "---\n",
    "\n",
    "## **Controls**\n",
    "\n",
    "- **Growth rate ($r$):** Increase for faster growth, negative for decay.\n",
    "- **Carrying capacity ($K$):** Limit that $y$ will approach.\n",
    "- **Initial value ($y_0$):** Starting population.\n",
    "- **Options:** Show stability arrows, vector field, equilibria.\n",
    "\n",
    "Left: **Phase portrait** ($f(y)$ vs $y$, equilibria, stability)  \n",
    "Right: **Time series** ($y(t)$ for your chosen $y_0$ and some standard values)\n",
    "\n",
    "---\n",
    "\n",
    "## Examples to Try\n",
    "\n",
    "- **1. Logistic Growth:**  \n",
    "  $r=1.2$, $K=8$, $y_0=2$ (standard case, $y$ grows to a plateau)\n",
    "\n",
    "- **2. Overpopulation:**  \n",
    "  $r=1.0$, $K=5$, $y_0=12$ ($y_0 > K$, population will decrease toward $K$)\n",
    "\n",
    "- **3. Extinction:**  \n",
    "  $r=-1.0$, $K=6$, $y_0=3$ ($r$ negative, population shrinks to zero)\n",
    "\n",
    "- **4. No Growth:**  \n",
    "  $r=0$, any $K$, any $y_0$ ($y$ remains constant)\n",
    "\n",
    "- **5. Small positive $r$, large $K$:**\n",
    "  $r=0.2$, $K=15$, $y_0=5$\n",
    "\n",
    "---\n",
    "\n",
    "### Analytical Solution\n",
    "\n",
    "$$\n",
    "y(t) = \\frac{y_0 K}{y_0 + (K - y_0) e^{-rt}}\n",
    "$$\n",
    "\n",
    "---\n"
   ]
  },
  {
   "cell_type": "code",
   "execution_count": null,
   "id": "c1b7ccb7-50fb-4831-8e59-64960a29a1e6",
   "metadata": {},
   "outputs": [
    {
     "data": {
      "application/vnd.jupyter.widget-view+json": {
       "model_id": "5e3dc52146404cf1b394916d3c2fba03",
       "version_major": 2,
       "version_minor": 0
      },
      "text/plain": [
       "HTML(value='\\n            <h3>Logistic Equation: dy/dt = r(1 - y/K)y</h3>\\n            <p><b>Instructions:</b>…"
      ]
     },
     "metadata": {},
     "output_type": "display_data"
    },
    {
     "data": {
      "application/vnd.jupyter.widget-view+json": {
       "model_id": "e8f74d7685ee44d2a51f6acd6696e113",
       "version_major": 2,
       "version_minor": 0
      },
      "text/plain": [
       "interactive(children=(FloatSlider(value=1.0, description='Growth rate (r):', layout=Layout(width='400px'), max…"
      ]
     },
     "metadata": {},
     "output_type": "display_data"
    }
   ],
   "source": [
    "from demo import run_demo\n",
    "\n",
    "run_demo()"
   ]
  },
  {
   "cell_type": "code",
   "execution_count": null,
   "id": "4f5d5e2f-aecc-483f-89f3-326d537f6ff8",
   "metadata": {},
   "outputs": [],
   "source": []
  }
 ],
 "metadata": {
  "kernelspec": {
   "display_name": "Python 3",
   "language": "python",
   "name": "python3"
  },
  "language_info": {
   "codemirror_mode": {
    "name": "ipython",
    "version": 3
   },
   "file_extension": ".py",
   "mimetype": "text/x-python",
   "name": "python",
   "nbconvert_exporter": "python",
   "pygments_lexer": "ipython3",
   "version": "3.13.3"
  }
 },
 "nbformat": 4,
 "nbformat_minor": 5
}
