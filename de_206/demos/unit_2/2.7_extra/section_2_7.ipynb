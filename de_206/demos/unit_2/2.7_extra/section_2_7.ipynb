{
 "cells": [
  {
   "cell_type": "markdown",
   "id": "acf6e4b8",
   "metadata": {},
   "source": [
    "# Section 2.7 Problem #19\n",
    "\n",
    "Consider the initial value problem\n",
    "\n",
    "$y' = y^2 - t^2, \\ \\ y(0) = \\alpha$\n",
    "\n",
    "where $\\alpha$ is a given number.\n",
    "\n",
    "(a) Use the code below to draw a direction field for the differential equation. "
   ]
  },
  {
   "cell_type": "code",
   "execution_count": 12,
   "id": "906872d4",
   "metadata": {},
   "outputs": [
    {
     "ename": "ImportError",
     "evalue": "cannot import name 'make_movie_1' from 'movie' (c:\\Users\\ihuss\\Manim_Fellowship_2025\\EN540205-6\\de_206\\demos\\unit_2\\2.7_extra\\movie.py)",
     "output_type": "error",
     "traceback": [
      "\u001b[31m---------------------------------------------------------------------------\u001b[39m",
      "\u001b[31mImportError\u001b[39m                               Traceback (most recent call last)",
      "\u001b[36mCell\u001b[39m\u001b[36m \u001b[39m\u001b[32mIn[12]\u001b[39m\u001b[32m, line 1\u001b[39m\n\u001b[32m----> \u001b[39m\u001b[32m1\u001b[39m \u001b[38;5;28;01mfrom\u001b[39;00m\u001b[38;5;250m \u001b[39m\u001b[34;01mmovie\u001b[39;00m\u001b[38;5;250m \u001b[39m\u001b[38;5;28;01mimport\u001b[39;00m make_movie_1\n\u001b[32m      3\u001b[39m make_movie_1()\n",
      "\u001b[31mImportError\u001b[39m: cannot import name 'make_movie_1' from 'movie' (c:\\Users\\ihuss\\Manim_Fellowship_2025\\EN540205-6\\de_206\\demos\\unit_2\\2.7_extra\\movie.py)"
     ]
    }
   ],
   "source": [
    "from movie import make_movie_1\n",
    "\n",
    "make_movie_1()"
   ]
  },
  {
   "cell_type": "markdown",
   "id": "a9b6180c",
   "metadata": {},
   "source": [
    "Observe that there is a critical value of $\\alpha$ in the interval $0 \\leq \\alpha \\leq 1$ that separates converging solutions from diverging solutions. Call this critical value $\\alpha_0$."
   ]
  },
  {
   "cell_type": "markdown",
   "id": "82935775",
   "metadata": {},
   "source": [
    "We can \"see\" the solution with $= 0$ on the direction field above. It starts with the two solutions we plotted, then bends up in a somewhat symmetric rounded \"V\" shape as $t$ crosses $0$. Our job now is to pinpoint this value of $0$ using Euler's method."
   ]
  },
  {
   "cell_type": "code",
   "execution_count": 18,
   "id": "a24238c8",
   "metadata": {},
   "outputs": [
    {
     "ename": "ImportError",
     "evalue": "cannot import name 'make_movie_2' from 'movie' (c:\\Users\\ihuss\\Manim_Fellowship_2025\\EN540205-6\\de_206\\demos\\unit_2\\2.7_extra\\movie.py)",
     "output_type": "error",
     "traceback": [
      "\u001b[31m---------------------------------------------------------------------------\u001b[39m",
      "\u001b[31mImportError\u001b[39m                               Traceback (most recent call last)",
      "\u001b[36mCell\u001b[39m\u001b[36m \u001b[39m\u001b[32mIn[18]\u001b[39m\u001b[32m, line 1\u001b[39m\n\u001b[32m----> \u001b[39m\u001b[32m1\u001b[39m \u001b[38;5;28;01mfrom\u001b[39;00m\u001b[38;5;250m \u001b[39m\u001b[34;01mmovie\u001b[39;00m\u001b[38;5;250m \u001b[39m\u001b[38;5;28;01mimport\u001b[39;00m make_movie_2\n\u001b[32m      3\u001b[39m make_movie_2(alpha_values=[\u001b[32m0\u001b[39m, \u001b[32m1\u001b[39m])\n",
      "\u001b[31mImportError\u001b[39m: cannot import name 'make_movie_2' from 'movie' (c:\\Users\\ihuss\\Manim_Fellowship_2025\\EN540205-6\\de_206\\demos\\unit_2\\2.7_extra\\movie.py)"
     ]
    }
   ],
   "source": [
    "from movie import make_movie_2\n",
    "\n",
    "make_movie_2(alpha_values=[0, 1])"
   ]
  },
  {
   "cell_type": "markdown",
   "id": "327272ed",
   "metadata": {},
   "source": [
    "(b) Use Euler's method with $h = 0.01$ to estimate $0$.\n",
    "\n",
    "(Start by restricting $\\alpha_0$ to an interval $[a,b]$, where $b - a = 0.1$)"
   ]
  },
  {
   "cell_type": "code",
   "execution_count": null,
   "id": "0dccfd89",
   "metadata": {},
   "outputs": [
    {
     "data": {
      "text/html": [
       "<pre style=\"white-space:pre;overflow-x:auto;line-height:normal;font-family:Menlo,'DejaVu Sans Mono',consolas,'Courier New',monospace\">Manim Community <span style=\"color: #008000; text-decoration-color: #008000\">v0.19.0</span>\n",
       "\n",
       "</pre>\n"
      ],
      "text/plain": [
       "Manim Community \u001b[32mv0.\u001b[0m\u001b[32m19.0\u001b[0m\n",
       "\n"
      ]
     },
     "metadata": {},
     "output_type": "display_data"
    },
    {
     "name": "stderr",
     "output_type": "stream",
     "text": [
      "                                                            \r"
     ]
    },
    {
     "data": {
      "text/html": [
       "<pre style=\"white-space:pre;overflow-x:auto;line-height:normal;font-family:Menlo,'DejaVu Sans Mono',consolas,'Courier New',monospace\"><span style=\"color: #7fbfbf; text-decoration-color: #7fbfbf\">[06/30/25 18:51:16] </span><span style=\"color: #008000; text-decoration-color: #008000\">INFO    </span> Animation <span style=\"color: #008000; text-decoration-color: #008000\">0</span> : Partial movie file written in                   <a href=\"file://c:\\Users\\zadon\\AppData\\Local\\Programs\\Python\\Python313\\Lib\\site-packages\\manim\\scene\\scene_file_writer.py\" target=\"_blank\"><span style=\"color: #7f7f7f; text-decoration-color: #7f7f7f\">scene_file_writer.py</span></a><span style=\"color: #7f7f7f; text-decoration-color: #7f7f7f\">:</span><a href=\"file://c:\\Users\\zadon\\AppData\\Local\\Programs\\Python\\Python313\\Lib\\site-packages\\manim\\scene\\scene_file_writer.py#588\" target=\"_blank\"><span style=\"color: #7f7f7f; text-decoration-color: #7f7f7f\">588</span></a>\n",
       "<span style=\"color: #7fbfbf; text-decoration-color: #7fbfbf\">                    </span>         <span style=\"color: #008000; text-decoration-color: #008000\">'C:\\Users\\zadon\\Manim\\EN540205-6\\de_206\\jupyter_notebooks\\med</span> <span style=\"color: #7f7f7f; text-decoration-color: #7f7f7f\">                        </span>\n",
       "<span style=\"color: #7fbfbf; text-decoration-color: #7fbfbf\">                    </span>         <span style=\"color: #008000; text-decoration-color: #008000\">ia\\videos\\jupyter_notebooks\\720p30\\partial_movie_files\\Stream</span> <span style=\"color: #7f7f7f; text-decoration-color: #7f7f7f\">                        </span>\n",
       "<span style=\"color: #7fbfbf; text-decoration-color: #7fbfbf\">                    </span>         <span style=\"color: #008000; text-decoration-color: #008000\">WithSolutions\\2016333726_2093786124_1968241430.mp4'</span>           <span style=\"color: #7f7f7f; text-decoration-color: #7f7f7f\">                        </span>\n",
       "</pre>\n"
      ],
      "text/plain": [
       "\u001b[2;36m[06/30/25 18:51:16]\u001b[0m\u001b[2;36m \u001b[0m\u001b[32mINFO    \u001b[0m Animation \u001b[32m0\u001b[0m : Partial movie file written in                   \u001b]8;id=662942;file://c:\\Users\\zadon\\AppData\\Local\\Programs\\Python\\Python313\\Lib\\site-packages\\manim\\scene\\scene_file_writer.py\u001b\\\u001b[2mscene_file_writer.py\u001b[0m\u001b]8;;\u001b\\\u001b[2m:\u001b[0m\u001b]8;id=947727;file://c:\\Users\\zadon\\AppData\\Local\\Programs\\Python\\Python313\\Lib\\site-packages\\manim\\scene\\scene_file_writer.py#588\u001b\\\u001b[2m588\u001b[0m\u001b]8;;\u001b\\\n",
       "\u001b[2;36m                    \u001b[0m         \u001b[32m'C:\\Users\\zadon\\Manim\\EN540205-6\\de_206\\jupyter_notebooks\\med\u001b[0m \u001b[2m                        \u001b[0m\n",
       "\u001b[2;36m                    \u001b[0m         \u001b[32mia\\videos\\jupyter_notebooks\\720p30\\partial_movie_files\\Stream\u001b[0m \u001b[2m                        \u001b[0m\n",
       "\u001b[2;36m                    \u001b[0m         \u001b[32mWithSolutions\\2016333726_2093786124_1968241430.mp4'\u001b[0m           \u001b[2m                        \u001b[0m\n"
      ]
     },
     "metadata": {},
     "output_type": "display_data"
    },
    {
     "data": {
      "text/html": [
       "<pre style=\"white-space:pre;overflow-x:auto;line-height:normal;font-family:Menlo,'DejaVu Sans Mono',consolas,'Courier New',monospace\"><span style=\"color: #7fbfbf; text-decoration-color: #7fbfbf\">                    </span><span style=\"color: #008000; text-decoration-color: #008000\">INFO    </span> Combining to Movie file.                                      <a href=\"file://c:\\Users\\zadon\\AppData\\Local\\Programs\\Python\\Python313\\Lib\\site-packages\\manim\\scene\\scene_file_writer.py\" target=\"_blank\"><span style=\"color: #7f7f7f; text-decoration-color: #7f7f7f\">scene_file_writer.py</span></a><span style=\"color: #7f7f7f; text-decoration-color: #7f7f7f\">:</span><a href=\"file://c:\\Users\\zadon\\AppData\\Local\\Programs\\Python\\Python313\\Lib\\site-packages\\manim\\scene\\scene_file_writer.py#739\" target=\"_blank\"><span style=\"color: #7f7f7f; text-decoration-color: #7f7f7f\">739</span></a>\n",
       "</pre>\n"
      ],
      "text/plain": [
       "\u001b[2;36m                   \u001b[0m\u001b[2;36m \u001b[0m\u001b[32mINFO    \u001b[0m Combining to Movie file.                                      \u001b]8;id=99803;file://c:\\Users\\zadon\\AppData\\Local\\Programs\\Python\\Python313\\Lib\\site-packages\\manim\\scene\\scene_file_writer.py\u001b\\\u001b[2mscene_file_writer.py\u001b[0m\u001b]8;;\u001b\\\u001b[2m:\u001b[0m\u001b]8;id=351607;file://c:\\Users\\zadon\\AppData\\Local\\Programs\\Python\\Python313\\Lib\\site-packages\\manim\\scene\\scene_file_writer.py#739\u001b\\\u001b[2m739\u001b[0m\u001b]8;;\u001b\\\n"
      ]
     },
     "metadata": {},
     "output_type": "display_data"
    },
    {
     "data": {
      "text/html": [
       "<pre style=\"white-space:pre;overflow-x:auto;line-height:normal;font-family:Menlo,'DejaVu Sans Mono',consolas,'Courier New',monospace\"><span style=\"color: #7fbfbf; text-decoration-color: #7fbfbf\">                    </span><span style=\"color: #008000; text-decoration-color: #008000\">INFO    </span>                                                               <a href=\"file://c:\\Users\\zadon\\AppData\\Local\\Programs\\Python\\Python313\\Lib\\site-packages\\manim\\scene\\scene_file_writer.py\" target=\"_blank\"><span style=\"color: #7f7f7f; text-decoration-color: #7f7f7f\">scene_file_writer.py</span></a><span style=\"color: #7f7f7f; text-decoration-color: #7f7f7f\">:</span><a href=\"file://c:\\Users\\zadon\\AppData\\Local\\Programs\\Python\\Python313\\Lib\\site-packages\\manim\\scene\\scene_file_writer.py#886\" target=\"_blank\"><span style=\"color: #7f7f7f; text-decoration-color: #7f7f7f\">886</span></a>\n",
       "<span style=\"color: #7fbfbf; text-decoration-color: #7fbfbf\">                    </span>         <span style=\"color: #808000; text-decoration-color: #808000; font-weight: bold\">File</span> ready at                                                 <span style=\"color: #7f7f7f; text-decoration-color: #7f7f7f\">                        </span>\n",
       "<span style=\"color: #7fbfbf; text-decoration-color: #7fbfbf\">                    </span>         <span style=\"color: #008000; text-decoration-color: #008000\">'C:\\Users\\zadon\\Manim\\EN540205-6\\de_206\\jupyter_notebooks\\med</span> <span style=\"color: #7f7f7f; text-decoration-color: #7f7f7f\">                        </span>\n",
       "<span style=\"color: #7fbfbf; text-decoration-color: #7fbfbf\">                    </span>         <span style=\"color: #008000; text-decoration-color: #008000\">ia\\videos\\jupyter_notebooks\\720p30\\StreamWithSolutions.mp4'</span>   <span style=\"color: #7f7f7f; text-decoration-color: #7f7f7f\">                        </span>\n",
       "<span style=\"color: #7fbfbf; text-decoration-color: #7fbfbf\">                    </span>                                                                       <span style=\"color: #7f7f7f; text-decoration-color: #7f7f7f\">                        </span>\n",
       "</pre>\n"
      ],
      "text/plain": [
       "\u001b[2;36m                   \u001b[0m\u001b[2;36m \u001b[0m\u001b[32mINFO    \u001b[0m                                                               \u001b]8;id=322165;file://c:\\Users\\zadon\\AppData\\Local\\Programs\\Python\\Python313\\Lib\\site-packages\\manim\\scene\\scene_file_writer.py\u001b\\\u001b[2mscene_file_writer.py\u001b[0m\u001b]8;;\u001b\\\u001b[2m:\u001b[0m\u001b]8;id=219638;file://c:\\Users\\zadon\\AppData\\Local\\Programs\\Python\\Python313\\Lib\\site-packages\\manim\\scene\\scene_file_writer.py#886\u001b\\\u001b[2m886\u001b[0m\u001b]8;;\u001b\\\n",
       "\u001b[2;36m                    \u001b[0m         \u001b[1;33mFile\u001b[0m ready at                                                 \u001b[2m                        \u001b[0m\n",
       "\u001b[2;36m                    \u001b[0m         \u001b[32m'C:\\Users\\zadon\\Manim\\EN540205-6\\de_206\\jupyter_notebooks\\med\u001b[0m \u001b[2m                        \u001b[0m\n",
       "\u001b[2;36m                    \u001b[0m         \u001b[32mia\\videos\\jupyter_notebooks\\720p30\\StreamWithSolutions.mp4'\u001b[0m   \u001b[2m                        \u001b[0m\n",
       "\u001b[2;36m                    \u001b[0m                                                                       \u001b[2m                        \u001b[0m\n"
      ]
     },
     "metadata": {},
     "output_type": "display_data"
    },
    {
     "data": {
      "text/html": [
       "<pre style=\"white-space:pre;overflow-x:auto;line-height:normal;font-family:Menlo,'DejaVu Sans Mono',consolas,'Courier New',monospace\"><span style=\"color: #7fbfbf; text-decoration-color: #7fbfbf\">                    </span><span style=\"color: #008000; text-decoration-color: #008000\">INFO    </span> <span style=\"color: #808000; text-decoration-color: #808000; font-weight: bold\">Rendered</span> StreamWithSolutions                                              <a href=\"file://c:\\Users\\zadon\\AppData\\Local\\Programs\\Python\\Python313\\Lib\\site-packages\\manim\\scene\\scene.py\" target=\"_blank\"><span style=\"color: #7f7f7f; text-decoration-color: #7f7f7f\">scene.py</span></a><span style=\"color: #7f7f7f; text-decoration-color: #7f7f7f\">:</span><a href=\"file://c:\\Users\\zadon\\AppData\\Local\\Programs\\Python\\Python313\\Lib\\site-packages\\manim\\scene\\scene.py#255\" target=\"_blank\"><span style=\"color: #7f7f7f; text-decoration-color: #7f7f7f\">255</span></a>\n",
       "<span style=\"color: #7fbfbf; text-decoration-color: #7fbfbf\">                    </span>         <span style=\"color: #808000; text-decoration-color: #808000; font-weight: bold\">Played</span> <span style=\"color: #008000; text-decoration-color: #008000\">1</span> <span style=\"color: #808000; text-decoration-color: #808000; font-weight: bold\">animations</span>                                                       <span style=\"color: #7f7f7f; text-decoration-color: #7f7f7f\">            </span>\n",
       "</pre>\n"
      ],
      "text/plain": [
       "\u001b[2;36m                   \u001b[0m\u001b[2;36m \u001b[0m\u001b[32mINFO    \u001b[0m \u001b[1;33mRendered\u001b[0m StreamWithSolutions                                              \u001b]8;id=77680;file://c:\\Users\\zadon\\AppData\\Local\\Programs\\Python\\Python313\\Lib\\site-packages\\manim\\scene\\scene.py\u001b\\\u001b[2mscene.py\u001b[0m\u001b]8;;\u001b\\\u001b[2m:\u001b[0m\u001b]8;id=600533;file://c:\\Users\\zadon\\AppData\\Local\\Programs\\Python\\Python313\\Lib\\site-packages\\manim\\scene\\scene.py#255\u001b\\\u001b[2m255\u001b[0m\u001b]8;;\u001b\\\n",
       "\u001b[2;36m                    \u001b[0m         \u001b[1;33mPlayed\u001b[0m \u001b[32m1\u001b[0m \u001b[1;33manimations\u001b[0m                                                       \u001b[2m            \u001b[0m\n"
      ]
     },
     "metadata": {},
     "output_type": "display_data"
    },
    {
     "data": {
      "text/html": [
       "<video src=\"media\\jupyter\\StreamWithSolutions@2025-06-30@18-51-16.mp4\" controls autoplay loop style=\"max-width: 60%;\"  >\n",
       "      Your browser does not support the <code>video</code> element.\n",
       "    </video>"
      ],
      "text/plain": [
       "<IPython.core.display.Video object>"
      ]
     },
     "metadata": {},
     "output_type": "display_data"
    }
   ],
   "source": [
    "from movie import make_movie_2\n",
    "\n",
    "make_movie_2(alpha_values=[0.6, 0.7])"
   ]
  },
  {
   "cell_type": "markdown",
   "id": "b1f02377",
   "metadata": {},
   "source": [
    "If you found the correct interval, you would have noticed that if $\\alpha = 0.6$, the solution curve converges, and if $\\alpha = 0.7$ the solution curve diverges. \n",
    "\n",
    "We will want to use this information to try to pin down the value of $\\alpha_0$. "
   ]
  },
  {
   "cell_type": "code",
   "execution_count": 19,
   "id": "1db50e6e",
   "metadata": {},
   "outputs": [
    {
     "ename": "ImportError",
     "evalue": "cannot import name 'make_movie_3' from 'movie' (c:\\Users\\ihuss\\Manim_Fellowship_2025\\EN540205-6\\de_206\\demos\\unit_2\\2.7_extra\\movie.py)",
     "output_type": "error",
     "traceback": [
      "\u001b[31m---------------------------------------------------------------------------\u001b[39m",
      "\u001b[31mImportError\u001b[39m                               Traceback (most recent call last)",
      "\u001b[36mCell\u001b[39m\u001b[36m \u001b[39m\u001b[32mIn[19]\u001b[39m\u001b[32m, line 1\u001b[39m\n\u001b[32m----> \u001b[39m\u001b[32m1\u001b[39m \u001b[38;5;28;01mfrom\u001b[39;00m\u001b[38;5;250m \u001b[39m\u001b[34;01mmovie\u001b[39;00m\u001b[38;5;250m \u001b[39m\u001b[38;5;28;01mimport\u001b[39;00m make_movie_3\n\u001b[32m      3\u001b[39m make_movie_3(alpha_values=[\u001b[32m0.63\u001b[39m, \u001b[32m0.65\u001b[39m, \u001b[32m0.67\u001b[39m])\n",
      "\u001b[31mImportError\u001b[39m: cannot import name 'make_movie_3' from 'movie' (c:\\Users\\ihuss\\Manim_Fellowship_2025\\EN540205-6\\de_206\\demos\\unit_2\\2.7_extra\\movie.py)"
     ]
    }
   ],
   "source": [
    "from movie import make_movie_3\n",
    "\n",
    "make_movie_3(alpha_values=[0.63, 0.65, 0.67])"
   ]
  }
 ],
 "metadata": {
  "kernelspec": {
   "display_name": "Python 3",
   "language": "python",
   "name": "python3"
  },
  "language_info": {
   "codemirror_mode": {
    "name": "ipython",
    "version": 3
   },
   "file_extension": ".py",
   "mimetype": "text/x-python",
   "name": "python",
   "nbconvert_exporter": "python",
   "pygments_lexer": "ipython3",
   "version": "3.13.3"
  }
 },
 "nbformat": 4,
 "nbformat_minor": 5
}
