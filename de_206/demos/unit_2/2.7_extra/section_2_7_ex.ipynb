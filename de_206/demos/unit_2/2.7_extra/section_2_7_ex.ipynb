{
 "cells": [
  {
   "cell_type": "markdown",
   "id": "acf6e4b8",
   "metadata": {},
   "source": [
    "# Section 2.7 Problem #19\n",
    "\n",
    "Consider the initial value problem\n",
    "\n",
    "$y' = y^2 - t^2, \\ \\ y(0) = \\alpha$\n",
    "\n",
    "where $\\alpha$ is a given number.\n",
    "\n",
    "(a) Use the code below to draw a direction field for the differential equation. "
   ]
  },
  {
   "cell_type": "code",
   "execution_count": 4,
   "id": "906872d4",
   "metadata": {},
   "outputs": [
    {
     "data": {
      "text/html": [
       "\n",
       "        <iframe\n",
       "            width=\"800\"\n",
       "            height=\"600\"\n",
       "            src=\"2_7_ex_movie1.mp4\"\n",
       "            frameborder=\"0\"\n",
       "            allowfullscreen\n",
       "            \n",
       "        ></iframe>\n",
       "        "
      ],
      "text/plain": [
       "<IPython.lib.display.IFrame at 0x1df6984cd60>"
      ]
     },
     "execution_count": 4,
     "metadata": {},
     "output_type": "execute_result"
    }
   ],
   "source": [
    "from IPython.display import IFrame\n",
    "\n",
    "IFrame('2_7_ex_movie1.mp4', width=800, height=600)"
   ]
  },
  {
   "cell_type": "markdown",
   "id": "a9b6180c",
   "metadata": {},
   "source": [
    "Observe that there is a critical value of $\\alpha$ in the interval $0 \\leq \\alpha \\leq 1$ that separates converging solutions from diverging solutions. Call this critical value $\\alpha_0$."
   ]
  },
  {
   "cell_type": "markdown",
   "id": "82935775",
   "metadata": {},
   "source": [
    "We can \"see\" the solution with $= 0$ on the direction field above. It starts with the two solutions we plotted, then bends up in a somewhat symmetric rounded \"V\" shape as $t$ crosses $0$. Our job now is to pinpoint this value of $0$ using Euler's method."
   ]
  },
  {
   "cell_type": "code",
   "execution_count": 5,
   "id": "a24238c8",
   "metadata": {},
   "outputs": [
    {
     "data": {
      "text/html": [
       "\n",
       "        <iframe\n",
       "            width=\"800\"\n",
       "            height=\"600\"\n",
       "            src=\"2_7_ex_movie2.mp4\"\n",
       "            frameborder=\"0\"\n",
       "            allowfullscreen\n",
       "            \n",
       "        ></iframe>\n",
       "        "
      ],
      "text/plain": [
       "<IPython.lib.display.IFrame at 0x1df6984d220>"
      ]
     },
     "execution_count": 5,
     "metadata": {},
     "output_type": "execute_result"
    }
   ],
   "source": [
    "from IPython.display import IFrame\n",
    "\n",
    "IFrame('2_7_ex_movie2.mp4', width=800, height=600)"
   ]
  },
  {
   "cell_type": "markdown",
   "id": "327272ed",
   "metadata": {},
   "source": [
    "(b) Use Euler's method with $h = 0.01$ to estimate $0$.\n",
    "\n",
    "(Start by restricting $\\alpha_0$ to an interval $[a,b]$, where $b - a = 0.1$)"
   ]
  },
  {
   "cell_type": "code",
   "execution_count": 6,
   "id": "0dccfd89",
   "metadata": {},
   "outputs": [
    {
     "data": {
      "text/html": [
       "\n",
       "        <iframe\n",
       "            width=\"800\"\n",
       "            height=\"600\"\n",
       "            src=\"2_7_ex_movie3.mp4\"\n",
       "            frameborder=\"0\"\n",
       "            allowfullscreen\n",
       "            \n",
       "        ></iframe>\n",
       "        "
      ],
      "text/plain": [
       "<IPython.lib.display.IFrame at 0x1df6983f410>"
      ]
     },
     "execution_count": 6,
     "metadata": {},
     "output_type": "execute_result"
    }
   ],
   "source": [
    "from IPython.display import IFrame\n",
    "\n",
    "IFrame('2_7_ex_movie3.mp4', width=800, height=600)"
   ]
  },
  {
   "cell_type": "markdown",
   "id": "b1f02377",
   "metadata": {},
   "source": [
    "If you found the correct interval, you would have noticed that if $\\alpha = 0.6$, the solution curve converges, and if $\\alpha = 0.7$ the solution curve diverges. \n",
    "\n",
    "We will want to use this information to try to pin down the value of $\\alpha_0$. "
   ]
  },
  {
   "cell_type": "code",
   "execution_count": 7,
   "id": "1db50e6e",
   "metadata": {},
   "outputs": [
    {
     "data": {
      "text/html": [
       "\n",
       "        <iframe\n",
       "            width=\"800\"\n",
       "            height=\"600\"\n",
       "            src=\"2_7_ex_movie4.mp4\"\n",
       "            frameborder=\"0\"\n",
       "            allowfullscreen\n",
       "            \n",
       "        ></iframe>\n",
       "        "
      ],
      "text/plain": [
       "<IPython.lib.display.IFrame at 0x1df69815ae0>"
      ]
     },
     "execution_count": 7,
     "metadata": {},
     "output_type": "execute_result"
    }
   ],
   "source": [
    "from IPython.display import IFrame\n",
    "\n",
    "IFrame('2_7_ex_movie4.mp4', width=800, height=600)"
   ]
  }
 ],
 "metadata": {
  "kernelspec": {
   "display_name": "Python 3 (ipykernel)",
   "language": "python",
   "name": "python3"
  },
  "language_info": {
   "codemirror_mode": {
    "name": "ipython",
    "version": 3
   },
   "file_extension": ".py",
   "mimetype": "text/x-python",
   "name": "python",
   "nbconvert_exporter": "python",
   "pygments_lexer": "ipython3",
   "version": "3.13.3"
  }
 },
 "nbformat": 4,
 "nbformat_minor": 5
}
