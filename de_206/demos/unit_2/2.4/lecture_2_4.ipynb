{
 "cells": [
  {
   "cell_type": "code",
   "execution_count": 1,
   "id": "b099b82b",
   "metadata": {},
   "outputs": [],
   "source": [
    "%load_ext autoreload\n",
    "%autoreload 2"
   ]
  },
  {
   "cell_type": "code",
   "execution_count": null,
   "id": "8edd1132-0e9d-4d49-a64a-065043076dd3",
   "metadata": {},
   "outputs": [
    {
     "data": {
      "text/html": [
       "\n",
       "        <iframe\n",
       "            width=\"1000\"\n",
       "            height=\"700\"\n",
       "            src=\"Boyce_12e_PPT_ch02_2.pdf\"\n",
       "            frameborder=\"0\"\n",
       "            allowfullscreen\n",
       "            \n",
       "        ></iframe>\n",
       "        "
      ],
      "text/plain": [
       "<IPython.lib.display.IFrame at 0x17af2efc2f0>"
      ]
     },
     "execution_count": 4,
     "metadata": {},
     "output_type": "execute_result"
    }
   ],
   "source": [
    "from IPython.display import IFrame\n",
    "\n",
    "IFrame('Boyce_12e_PPT_ch02_3.pdf', width=1000, height=700)"
   ]
  },
  {
   "cell_type": "markdown",
   "id": "4f276721",
   "metadata": {},
   "source": [
    "# IVP where the Existence Criteria Fails (Linear)\n",
    "\n",
    "Consider the following first-order linear ODE:\n",
    "\n",
    "$\\frac{dy}{dx} + \\frac{1}{x} y = 0$\n",
    "\n",
    "Let us pose this as an initial value problem (IVP):\n",
    "\n",
    "\n",
    "\\begin{cases}\n",
    "\\displaystyle \\frac{dy}{dx} + \\frac{1}{x} y = 0, \\\\[1.2em]\n",
    "y(x_0) = y_0\n",
    "\\end{cases}\n",
    "\n",
    "Notice that the coefficient $\\frac{1}{x}$ is **not defined at \\(x = 0\\)**.\n",
    "According to the Existence and Uniqueness Theorem, a solution is guaranteed only where the coefficients are continuous.  "
   ]
  },
  {
   "cell_type": "code",
   "execution_count": null,
   "id": "0c062df1",
   "metadata": {},
   "outputs": [
    {
     "data": {
      "application/vnd.jupyter.widget-view+json": {
       "model_id": "fd059585b45549a392bdbce31eb88cd9",
       "version_major": 2,
       "version_minor": 0
      },
      "text/plain": [
       "interactive(children=(Dropdown(description='Initial Value', options={'(-1, 2)': (-1.0, 2.0), '(-1.5, 1.5)': (-…"
      ]
     },
     "metadata": {},
     "output_type": "display_data"
    }
   ],
   "source": [
    "from demo import run_demo \n",
    "\n",
    "run_demo()"
   ]
  },
  {
   "cell_type": "markdown",
   "id": "ed85f093",
   "metadata": {},
   "source": [
    "IF we had an IVP at $(0, y_0)$ then the it would fail the test for existence (no solution could exist through that initial value)! As such, we restrict the domain of other initial values to not include that point. "
   ]
  }
 ],
 "metadata": {
  "kernelspec": {
   "display_name": "Python 3",
   "language": "python",
   "name": "python3"
  },
  "language_info": {
   "codemirror_mode": {
    "name": "ipython",
    "version": 3
   },
   "file_extension": ".py",
   "mimetype": "text/x-python",
   "name": "python",
   "nbconvert_exporter": "python",
   "pygments_lexer": "ipython3",
   "version": "3.13.5"
  }
 },
 "nbformat": 4,
 "nbformat_minor": 5
}
