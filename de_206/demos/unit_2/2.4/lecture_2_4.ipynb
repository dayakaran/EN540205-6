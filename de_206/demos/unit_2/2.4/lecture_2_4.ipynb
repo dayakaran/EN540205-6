{
 "cells": [
  {
   "cell_type": "code",
   "execution_count": 1,
   "id": "b099b82b",
   "metadata": {},
   "outputs": [],
   "source": [
    "%load_ext autoreload\n",
    "%autoreload 2"
   ]
  },
  {
   "cell_type": "code",
   "execution_count": 21,
   "id": "8edd1132-0e9d-4d49-a64a-065043076dd3",
   "metadata": {},
   "outputs": [
    {
     "data": {
      "text/html": [
       "\n",
       "        <iframe\n",
       "            width=\"1000\"\n",
       "            height=\"700\"\n",
       "            src=\"Boyce_12e_PPT_ch02_4.pdf\"\n",
       "            frameborder=\"0\"\n",
       "            allowfullscreen\n",
       "            \n",
       "        ></iframe>\n",
       "        "
      ],
      "text/plain": [
       "<IPython.lib.display.IFrame at 0x1e50e56acf0>"
      ]
     },
     "execution_count": 21,
     "metadata": {},
     "output_type": "execute_result"
    }
   ],
   "source": [
    "from IPython.display import IFrame\n",
    "\n",
    "IFrame('Boyce_12e_PPT_ch02_4.pdf', width=1000, height=700)"
   ]
  },
  {
   "cell_type": "markdown",
   "id": "4f276721",
   "metadata": {},
   "source": [
    "# IVP where the **Existence** Criteria Fails (Linear)\n",
    "\n",
    "Consider the following first-order linear ODE:\n",
    "\n",
    "$\\frac{dy}{dx} + \\frac{1}{x} y = 0$\n",
    "\n",
    "Let us pose this as an initial value problem (IVP):\n",
    "\n",
    "\n",
    "\\begin{cases}\n",
    "\\displaystyle \\frac{dy}{dx} + \\frac{1}{x} y = 0, \\\\[1.2em]\n",
    "y(x_0) = y_0\n",
    "\\end{cases}\n",
    "\n",
    "Notice that the coefficient $\\frac{1}{x}$ is **not defined at \\(x = 0\\)**.\n",
    "According to the Existence and Uniqueness Theorem, a solution is guaranteed only where the coefficients are continuous. \n",
    "\n",
    "The general solution to the above IVP takes the form of:\n",
    "\n",
    "$y = \\frac{C}{x}$"
   ]
  },
  {
   "cell_type": "code",
   "execution_count": 22,
   "id": "0c062df1",
   "metadata": {},
   "outputs": [
    {
     "data": {
      "application/vnd.jupyter.widget-view+json": {
       "model_id": "218178de1f3c4727addb51f99fc38e3c",
       "version_major": 2,
       "version_minor": 0
      },
      "text/plain": [
       "interactive(children=(Dropdown(description='Initial Value', options={'(-1, 2)': (-1.0, 2.0), '(-1.5, 1.5)': (-…"
      ]
     },
     "metadata": {},
     "output_type": "display_data"
    }
   ],
   "source": [
    "from demo import run_demo \n",
    "\n",
    "run_demo()"
   ]
  },
  {
   "cell_type": "markdown",
   "id": "ed85f093",
   "metadata": {},
   "source": [
    "IF we had an IVP at $(0,  y_0)$ then the it would fail the test for existence (no solution could exist through that initial value)! As such, we restrict the domain of other particular solutions to not include that point. "
   ]
  },
  {
   "cell_type": "code",
   "execution_count": 23,
   "id": "75725bc0",
   "metadata": {},
   "outputs": [],
   "source": [
    "### Context specific title + remove redundancy "
   ]
  },
  {
   "cell_type": "markdown",
   "id": "ec76ab29",
   "metadata": {},
   "source": [
    "# IVP where the **Uniqueness** Criteria Fails (Linear)\n",
    "\n",
    "Consider the following initial value problem:\n",
    "\n",
    "\n",
    "\\begin{cases}\n",
    "\\displaystyle \\frac{dy}{dx} = y^{1/3}, \\\\[1.2em]\n",
    "y(0) = 0\n",
    "\\end{cases}\n",
    "\n",
    "\n",
    "Here, the term $f(x,y) = y^{1/3}$ is **continuous** near $y=0$, so the existence of a solution is guaranteed by the Existence and Uniqueness Theorem.\n",
    "\n",
    "However, the partial derivative $\\frac{\\partial f}{\\partial y} =  \\frac{y^{-2/3}}{3} = \\frac{1}{3y^{2/3}}$ is **not continuous at \\(y=0\\)**, so the uniqueness criteria does **not** hold at the initial value.\n",
    "\n"
   ]
  },
  {
   "cell_type": "markdown",
   "id": "ca3146ee",
   "metadata": {},
   "source": [
    "Try solving the IVP manually and consider possible solutions that pass through $y = 0$. Once you have a guess, play around with various initial conditions and see if you can spot non-unique solutions that pass through $(0,0)$!"
   ]
  },
  {
   "cell_type": "code",
   "execution_count": 39,
   "id": "8cc67612",
   "metadata": {},
   "outputs": [
    {
     "data": {
      "application/vnd.jupyter.widget-view+json": {
       "model_id": "cd5d5ab73b3a4adf8d8aeb3f49630f30",
       "version_major": 2,
       "version_minor": 0
      },
      "text/plain": [
       "interactive(children=(FloatText(value=0.0, description='initial x', step=0.1), FloatText(value=1.0, descriptio…"
      ]
     },
     "metadata": {},
     "output_type": "display_data"
    }
   ],
   "source": [
    "import numpy as np\n",
    "import matplotlib.pyplot as plt\n",
    "from ipywidgets import interact, FloatText, Checkbox\n",
    "\n",
    "def run_demo():\n",
    "    @interact(\n",
    "        x0=FloatText(value=0.0, description='initial x', step=0.1),\n",
    "        y0=FloatText(value=1.0, description='initial y', step=0.1),\n",
    "        show_positive=Checkbox(value=False, description='Show positive branch'),\n",
    "        show_negative=Checkbox(value=False, description='Show negative branch'),\n",
    "    )\n",
    "    def plot_ivp(x0, y0, show_positive, show_negative):\n",
    "        x = np.linspace(x0 - 5, x0 + 5, 400)\n",
    "\n",
    "        plt.figure(figsize=(8, 5))\n",
    "        plt.axhline(0, color='grey', lw=1, alpha=0.5)\n",
    "        plt.axvline(0, color='grey', lw=1, alpha=0.5)\n",
    "\n",
    "        # Always show the trivial solution\n",
    "        plt.plot(x, np.zeros_like(x), 'k--', lw=2, label=\"$y(x) \\\\equiv 0$\")\n",
    "\n",
    "        C = (3/2) * abs(y0)**(2/3) - x0\n",
    "        x_valid = x[x + C >= 0]\n",
    "        base = ((2/3) * (x_valid + C))**(3/2)\n",
    "\n",
    "        if show_positive:\n",
    "            plt.plot(x_valid, base, 'crimson', lw=2.3, label=\"Positive branch\")\n",
    "\n",
    "        if show_negative:\n",
    "            plt.plot(x_valid, -base, 'teal', lw=2.3, label=\"Negative branch\")\n",
    "\n",
    "\n",
    "        # Mark the initial condition\n",
    "        plt.plot([x0], [y0], 'ro', ms=10, label=f\"Initial value $({x0}, {y0})$\")\n",
    "\n",
    "        plt.title(r\"Solution Branches of $\\frac{dy}{dx}=y^{1/3}$\")\n",
    "        plt.xlabel(\"$x$\")\n",
    "        plt.ylabel(\"$y$\")\n",
    "        plt.legend()\n",
    "        plt.grid(True, alpha=0.4)\n",
    "        plt.ylim(-max(2.5, abs(y0)+2), max(2.5, abs(y0)+2))\n",
    "        plt.xlim(x[0], x[-1])\n",
    "        plt.show()\n",
    "\n",
    "run_demo()\n"
   ]
  },
  {
   "cell_type": "markdown",
   "id": "7417a887",
   "metadata": {},
   "source": [
    "Notice that there is both a positive and negative branch to the particular solution $y = \\pm {(\\frac{2}{3}x)}^{3/2}$. We can spot three different solutions via the initial value $(0,0)$, allowing us to conclude a solution through $(0,0)$ is not unique. "
   ]
  }
 ],
 "metadata": {
  "kernelspec": {
   "display_name": "Python 3",
   "language": "python",
   "name": "python3"
  },
  "language_info": {
   "codemirror_mode": {
    "name": "ipython",
    "version": 3
   },
   "file_extension": ".py",
   "mimetype": "text/x-python",
   "name": "python",
   "nbconvert_exporter": "python",
   "pygments_lexer": "ipython3",
   "version": "3.13.5"
  }
 },
 "nbformat": 4,
 "nbformat_minor": 5
}
