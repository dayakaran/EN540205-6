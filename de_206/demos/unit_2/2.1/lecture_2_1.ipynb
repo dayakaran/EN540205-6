{
 "cells": [
  {
   "cell_type": "code",
   "execution_count": 1,
   "id": "8edd1132-0e9d-4d49-a64a-065043076dd3",
   "metadata": {},
   "outputs": [
    {
     "data": {
      "text/html": [
       "\n",
       "        <iframe\n",
       "            width=\"1000\"\n",
       "            height=\"700\"\n",
       "            src=\"Boyce_12e_PPT_ch02_1.pdf\"\n",
       "            frameborder=\"0\"\n",
       "            allowfullscreen\n",
       "            \n",
       "        ></iframe>\n",
       "        "
      ],
      "text/plain": [
       "<IPython.lib.display.IFrame at 0x1a3e9c68830>"
      ]
     },
     "execution_count": 1,
     "metadata": {},
     "output_type": "execute_result"
    }
   ],
   "source": [
    "from IPython.display import IFrame\n",
    "\n",
    "IFrame('Boyce_12e_PPT_ch02_1.pdf', width=1000, height=700)"
   ]
  },
  {
   "cell_type": "markdown",
   "id": "8ad0f0f6",
   "metadata": {},
   "source": [
    "## Interactive Solution Plot for a First-Order Linear ODE\n",
    "\n",
    "This notebook explores the family of solutions to the first-order linear ordinary differential equation:\n",
    "\n",
    "$\\frac{dy}{dt} + \\frac{2}{t}y = 4t$\n",
    "\n",
    "\n",
    "### General Solution\n",
    "\n",
    "As in the slides, the ODE can be solved by the integrating factor method, yielding the general solution:\n",
    "\n",
    "$y(t) = t^2 + \\frac{C}{t^2}$\n",
    "\n",
    "where $(C)$ is a constant determined by the initial condition.\n",
    "\n",
    "### Exploring the Solution Family\n",
    "\n",
    "- The plot below shows several solution curves corresponding to different initial values $(y(1) = y_0)$.\n",
    "\n",
    "- The other (faint) curves show solutions for a range of other initial conditions, illustrating how the general solution changes with $(C)$.\n",
    "\n",
    "---\n",
    "_Adjust the slider to see how the initial value $y(1)$ affects the solution curve!_"
   ]
  },
  {
   "cell_type": "code",
   "execution_count": 5,
   "id": "b63d0270",
   "metadata": {},
   "outputs": [
    {
     "data": {
      "text/html": [
       "\n",
       "    <div style=\"text-align: center; margin-bottom: 10px;\">\n",
       "      <h2>📈 ODE Interactive Solution Demo</h2>\n",
       "    </div>\n",
       "    "
      ],
      "text/plain": [
       "<IPython.core.display.HTML object>"
      ]
     },
     "metadata": {},
     "output_type": "display_data"
    },
    {
     "data": {
      "text/latex": [
       "$$ y' + \\frac{2}{t}y = 4t \\qquad \\Rightarrow \\qquad y(t) = t^2 + \\dfrac{c}{t^2} $$"
      ],
      "text/plain": [
       "<IPython.core.display.Latex object>"
      ]
     },
     "metadata": {},
     "output_type": "display_data"
    },
    {
     "data": {
      "application/vnd.jupyter.widget-view+json": {
       "model_id": "7d5824f1ae5647d19471ab2e6b218f9a",
       "version_major": 2,
       "version_minor": 0
      },
      "text/plain": [
       "VBox(children=(VBox(children=(HTML(value='<h3>Controls</h3>'), FloatSlider(value=2.0, description='y(1):', lay…"
      ]
     },
     "metadata": {},
     "output_type": "display_data"
    }
   ],
   "source": [
    "from demo import run_demo\n",
    "\n",
    "run_demo()"
   ]
  },
  {
   "cell_type": "markdown",
   "id": "8ed97707",
   "metadata": {},
   "source": [
    "# There is also a movie version:"
   ]
  },
  {
   "cell_type": "code",
   "execution_count": 1,
   "id": "11632f0a",
   "metadata": {},
   "outputs": [
    {
     "data": {
      "text/html": [
       "\n",
       "        <iframe\n",
       "            width=\"1000\"\n",
       "            height=\"700\"\n",
       "            src=\"2_1_movie.mp4\"\n",
       "            frameborder=\"0\"\n",
       "            allowfullscreen\n",
       "            \n",
       "        ></iframe>\n",
       "        "
      ],
      "text/plain": [
       "<IPython.lib.display.IFrame at 0x267245186e0>"
      ]
     },
     "execution_count": 1,
     "metadata": {},
     "output_type": "execute_result"
    }
   ],
   "source": [
    "from IPython.display import Video\n",
    "\n",
    "Video('2_1_movie.mp4', width=800, height=600)"
   ]
  }
 ],
 "metadata": {
  "kernelspec": {
   "display_name": "Python 3 (ipykernel)",
   "language": "python",
   "name": "python3"
  },
  "language_info": {
   "codemirror_mode": {
    "name": "ipython",
    "version": 3
   },
   "file_extension": ".py",
   "mimetype": "text/x-python",
   "name": "python",
   "nbconvert_exporter": "python",
   "pygments_lexer": "ipython3",
   "version": "3.12.11"
  }
 },
 "nbformat": 4,
 "nbformat_minor": 5
}
