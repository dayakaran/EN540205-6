{
 "cells": [
  {
   "cell_type": "code",
   "execution_count": 1,
   "id": "b099b82b",
   "metadata": {},
   "outputs": [],
   "source": [
    "%load_ext autoreload\n",
    "%autoreload 2"
   ]
  },
  {
   "cell_type": "code",
   "execution_count": 1,
   "id": "8edd1132-0e9d-4d49-a64a-065043076dd3",
   "metadata": {},
   "outputs": [
    {
     "data": {
      "text/html": [
       "\n",
       "        <iframe\n",
       "            width=\"1000\"\n",
       "            height=\"700\"\n",
       "            src=\"Boyce_12e_PPT_ch02_7.pdf\"\n",
       "            frameborder=\"0\"\n",
       "            allowfullscreen\n",
       "            \n",
       "        ></iframe>\n",
       "        "
      ],
      "text/plain": [
       "<IPython.lib.display.IFrame at 0x158774f4590>"
      ]
     },
     "execution_count": 1,
     "metadata": {},
     "output_type": "execute_result"
    }
   ],
   "source": [
    "from IPython.display import IFrame\n",
    "\n",
    "IFrame('Boyce_12e_PPT_ch02_7.pdf', width=1000, height=700)"
   ]
  },
  {
   "cell_type": "markdown",
   "id": "2b832ff6",
   "metadata": {},
   "source": [
    "# Euler's Method: Changing Step Size $(h)$\n",
    "\n",
    "This video displays the use of Euler's method to approximate the solution to the following initial value problem:\n",
    "\n",
    "\\begin{cases}\n",
    "\\displaystyle \\frac{dy}{dt} = 3t^2 - y, \\\\[1.2em]\n",
    "y(0) = 0.5\n",
    "\\end{cases}\n",
    "\n",
    "- Yellow dots/line: Euler's method approximation\n",
    "- Blue line: Exact (analytical) solution\n",
    "\n",
    "\n",
    "\n"
   ]
  },
  {
   "cell_type": "code",
   "execution_count": null,
   "id": "73d3fa9c",
   "metadata": {},
   "outputs": [
    {
     "name": "stderr",
     "output_type": "stream",
     "text": [
      "c:\\Users\\ihuss\\AppData\\Local\\Programs\\Python\\Python313\\Lib\\site-packages\\pydub\\utils.py:170: RuntimeWarning: Couldn't find ffmpeg or avconv - defaulting to ffmpeg, but may not work\n",
      "  warn(\"Couldn't find ffmpeg or avconv - defaulting to ffmpeg, but may not work\", RuntimeWarning)\n"
     ]
    },
    {
     "data": {
      "application/vnd.jupyter.widget-view+json": {
       "model_id": "c2e9cd2ca7454faa92af40665b556b41",
       "version_major": 2,
       "version_minor": 0
      },
      "text/plain": [
       "Output()"
      ]
     },
     "metadata": {},
     "output_type": "display_data"
    }
   ],
   "source": [
    "from movie import make_movie\n",
    "\n",
    "make_movie()"
   ]
  },
  {
   "cell_type": "markdown",
   "id": "651f22ec",
   "metadata": {},
   "source": [
    "The automatic slider at the bottom changes the step size, $h$, used in Euler's method.\n",
    "\n",
    "When $h$ is small (e.g., $h=0.1$):\n",
    "- The Euler approximation matches the exact solution closely.\n",
    "- The yellow curve almost overlaps with the blue curve.\n",
    "\n",
    "When $h$ is large (e.g., $h=0.5$):\n",
    "- The Euler approximation becomes less accurate.\n",
    "- The yellow curve noticeably deviates from the blue curve."
   ]
  }
 ],
 "metadata": {
  "kernelspec": {
   "display_name": "Python 3",
   "language": "python",
   "name": "python3"
  },
  "language_info": {
   "codemirror_mode": {
    "name": "ipython",
    "version": 3
   },
   "file_extension": ".py",
   "mimetype": "text/x-python",
   "name": "python",
   "nbconvert_exporter": "python",
   "pygments_lexer": "ipython3",
   "version": "3.13.3"
  }
 },
 "nbformat": 4,
 "nbformat_minor": 5
}
