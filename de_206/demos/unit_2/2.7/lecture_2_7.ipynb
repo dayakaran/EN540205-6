{
 "cells": [
  {
   "cell_type": "code",
   "execution_count": 1,
   "id": "b099b82b",
   "metadata": {},
   "outputs": [],
   "source": [
    "%load_ext autoreload\n",
    "%autoreload 2"
   ]
  },
  {
   "cell_type": "code",
   "execution_count": 1,
   "id": "8edd1132-0e9d-4d49-a64a-065043076dd3",
   "metadata": {},
   "outputs": [
    {
     "data": {
      "text/html": [
       "\n",
       "        <iframe\n",
       "            width=\"1000\"\n",
       "            height=\"700\"\n",
       "            src=\"Boyce_12e_PPT_ch02_7.pdf\"\n",
       "            frameborder=\"0\"\n",
       "            allowfullscreen\n",
       "            \n",
       "        ></iframe>\n",
       "        "
      ],
      "text/plain": [
       "<IPython.lib.display.IFrame at 0x158774f4590>"
      ]
     },
     "execution_count": 1,
     "metadata": {},
     "output_type": "execute_result"
    }
   ],
   "source": [
    "from IPython.display import IFrame\n",
    "\n",
    "IFrame('Boyce_12e_PPT_ch02_7.pdf', width=1000, height=700)"
   ]
  },
  {
   "cell_type": "markdown",
   "id": "2b832ff6",
   "metadata": {},
   "source": [
    "# Euler's Method: Changing Step Size $(h)$\n",
    "\n",
    "This video displays the use of Euler's method to approximate the solution to the following initial value problem:\n",
    "\n",
    "\\begin{cases}\n",
    "\\displaystyle \\frac{dy}{dt} = 3t^2 - y, \\\\[1.2em]\n",
    "y(0) = 0.5\n",
    "\\end{cases}\n",
    "\n",
    "- Yellow dots/line: Euler's method approximation\n",
    "- Blue line: Exact (analytical) solution\n",
    "\n",
    "\n",
    "\n"
   ]
  },
  {
   "cell_type": "code",
   "execution_count": 2,
   "id": "73d3fa9c",
   "metadata": {},
   "outputs": [
    {
     "data": {
      "text/html": [
       "\n",
       "        <iframe\n",
       "            width=\"800\"\n",
       "            height=\"600\"\n",
       "            src=\"2_7_movie.mp4\"\n",
       "            frameborder=\"0\"\n",
       "            allowfullscreen\n",
       "            \n",
       "        ></iframe>\n",
       "        "
      ],
      "text/plain": [
       "<IPython.lib.display.IFrame at 0x1f26d38b610>"
      ]
     },
     "execution_count": 2,
     "metadata": {},
     "output_type": "execute_result"
    }
   ],
   "source": [
    "from IPython.display import IFrame\n",
    "\n",
    "IFrame('2_7_movie.mp4', width=800, height=600)"
   ]
  },
  {
   "cell_type": "markdown",
   "id": "651f22ec",
   "metadata": {},
   "source": [
    "The automatic slider at the bottom changes the step size, $h$, used in Euler's method.\n",
    "\n",
    "When $h$ is small (e.g., $h=0.1$):\n",
    "- The Euler approximation matches the exact solution closely.\n",
    "- The yellow curve almost overlaps with the blue curve.\n",
    "\n",
    "When $h$ is large (e.g., $h=0.5$):\n",
    "- The Euler approximation becomes less accurate.\n",
    "- The yellow curve noticeably deviates from the blue curve."
   ]
  }
 ],
 "metadata": {
  "kernelspec": {
   "display_name": "Python 3",
   "language": "python",
   "name": "python3"
  },
  "language_info": {
   "codemirror_mode": {
    "name": "ipython",
    "version": 3
   },
   "file_extension": ".py",
   "mimetype": "text/x-python",
   "name": "python",
   "nbconvert_exporter": "python",
   "pygments_lexer": "ipython3",
   "version": "3.13.3"
  }
 },
 "nbformat": 4,
 "nbformat_minor": 5
}
