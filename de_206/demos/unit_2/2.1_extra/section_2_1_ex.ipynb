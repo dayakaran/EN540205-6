{
 "cells": [
  {
   "cell_type": "markdown",
   "id": "5f7c0c7e",
   "metadata": {},
   "source": [
    "# Section 2.1 Problem #21\n",
    "\n",
    "(a) Draw a direction field for the differential equation $y' - \\frac{y}{2} = 2\\cos(t)$."
   ]
  },
  {
   "cell_type": "markdown",
   "id": "e74dfeee",
   "metadata": {},
   "source": [
    "The below demo shows a static version of the direction field with multiple particular solutions:\n"
   ]
  },
  {
   "cell_type": "code",
   "execution_count": 12,
   "id": "d62cfa86",
   "metadata": {},
   "outputs": [
    {
     "data": {
      "text/html": [
       "<h2>Static Direction Field Demo</h2>"
      ],
      "text/plain": [
       "<IPython.core.display.HTML object>"
      ]
     },
     "metadata": {},
     "output_type": "display_data"
    },
    {
     "data": {
      "application/vnd.jupyter.widget-view+json": {
       "model_id": "b5b9073ad3ba4433ae7664f5a5fe059d",
       "version_major": 2,
       "version_minor": 0
      },
      "text/plain": [
       "HBox(children=(VBox(children=(FloatSlider(value=0.0, description='t₀ (initial t):', layout=Layout(width='300px…"
      ]
     },
     "metadata": {},
     "output_type": "display_data"
    }
   ],
   "source": [
    "from demo import run_demo\n",
    "\n",
    "run_demo()"
   ]
  },
  {
   "cell_type": "markdown",
   "id": "f67a8066",
   "metadata": {},
   "source": [
    "We can also visualize this direction field dynamically. We can see the \"flow\" of particular solutions with the following movie:"
   ]
  },
  {
   "cell_type": "code",
   "execution_count": 2,
   "id": "6fe73aa0",
   "metadata": {},
   "outputs": [
    {
     "name": "stderr",
     "output_type": "stream",
     "text": [
      "c:\\Users\\ihuss\\AppData\\Local\\Programs\\Python\\Python313\\Lib\\site-packages\\pydub\\utils.py:170: RuntimeWarning: Couldn't find ffmpeg or avconv - defaulting to ffmpeg, but may not work\n",
      "  warn(\"Couldn't find ffmpeg or avconv - defaulting to ffmpeg, but may not work\", RuntimeWarning)\n"
     ]
    },
    {
     "data": {
      "application/vnd.jupyter.widget-view+json": {
       "model_id": "67b8e3cece60424fac9e63849ca235f4",
       "version_major": 2,
       "version_minor": 0
      },
      "text/plain": [
       "Output()"
      ]
     },
     "metadata": {},
     "output_type": "display_data"
    }
   ],
   "source": [
    "from movie import make_movie_1\n",
    "\n",
    "make_movie_1()"
   ]
  },
  {
   "cell_type": "markdown",
   "id": "36b00394",
   "metadata": {},
   "source": [
    "How do solutions appear to behave as $t$ becomes large? Does the behavior depend on the choice of the initial value $a$? "
   ]
  },
  {
   "cell_type": "markdown",
   "id": "2370abe0",
   "metadata": {},
   "source": [
    "Let $a_0$ be the value of $a$ for which the transition from one type of behavior to another occurs. Estimate the value of $a_0$ using the animation tool below.\n"
   ]
  },
  {
   "cell_type": "code",
   "execution_count": 1,
   "id": "ad32fdc1",
   "metadata": {},
   "outputs": [
    {
     "name": "stderr",
     "output_type": "stream",
     "text": [
      "c:\\Users\\ihuss\\AppData\\Local\\Programs\\Python\\Python313\\Lib\\site-packages\\pydub\\utils.py:170: RuntimeWarning: Couldn't find ffmpeg or avconv - defaulting to ffmpeg, but may not work\n",
      "  warn(\"Couldn't find ffmpeg or avconv - defaulting to ffmpeg, but may not work\", RuntimeWarning)\n"
     ]
    },
    {
     "data": {
      "application/vnd.jupyter.widget-view+json": {
       "model_id": "c4f8c913d398441cb5c5d81791a04a07",
       "version_major": 2,
       "version_minor": 0
      },
      "text/plain": [
       "VBox(children=(Button(description='Generate Movie', style=ButtonStyle()), Output()))"
      ]
     },
     "metadata": {},
     "output_type": "display_data"
    }
   ],
   "source": [
    "from movie import make_movie_2\n",
    "\n",
    "make_movie_2(a0_values = [-1.2, -1.0, -0.9, -0.85, -0.8, -0.75, -0.7])"
   ]
  },
  {
   "cell_type": "markdown",
   "id": "4fbe539b",
   "metadata": {},
   "source": [
    "From this direction field, we can see that the solution curves appear to oscillate like sine/cosine waves for awhile, then zip off either upwards or downwards from the central sine/cosine wave. \n",
    "\n",
    "We need to try to pinpoint the value of $a$ so that the solution with initial condition $t_0 = 0$, $y_0 = a$ is this central sinusoidal curve that we can \"see\". \n",
    "\n"
   ]
  },
  {
   "cell_type": "code",
   "execution_count": 3,
   "id": "61baa525",
   "metadata": {},
   "outputs": [
    {
     "data": {
      "application/vnd.jupyter.widget-view+json": {
       "model_id": "1a2411a8565e449dacb1cb13561b1f27",
       "version_major": 2,
       "version_minor": 0
      },
      "text/plain": [
       "VBox(children=(Button(description='Generate Movie', style=ButtonStyle()), Output()))"
      ]
     },
     "metadata": {},
     "output_type": "display_data"
    }
   ],
   "source": [
    "from movie import make_movie_2\n",
    "\n",
    "make_movie_2(a0_values=[-0.8])"
   ]
  },
  {
   "cell_type": "markdown",
   "id": "a44345a5",
   "metadata": {},
   "source": [
    "The equilibrium solution appears to have $a = -0.8$, but we can't really tell for sure, since we're only looking at a small part of this curve: $t$-values between $-10$ and $10$. \n",
    "\n",
    "At this point, we should actually solve the equation and see if we are close with our guess of $a = -0.8$. It is recommended to solve this manually prior to checking with the code."
   ]
  },
  {
   "cell_type": "markdown",
   "id": "72ccc71b",
   "metadata": {},
   "source": [
    "(b) Solve the inital value problem and find the critical value $a_0$ exactly."
   ]
  },
  {
   "cell_type": "code",
   "execution_count": 23,
   "id": "21bf3d97",
   "metadata": {},
   "outputs": [
    {
     "data": {
      "text/latex": [
       "$\\displaystyle y{\\left(t \\right)} = C_{1} e^{0.5 t} + 1.6 \\sin{\\left(t \\right)} - 0.8 \\cos{\\left(t \\right)}$"
      ],
      "text/plain": [
       "Eq(y(t), C1*exp(0.5*t) + 1.6*sin(t) - 0.8*cos(t))"
      ]
     },
     "execution_count": 23,
     "metadata": {},
     "output_type": "execute_result"
    }
   ],
   "source": [
    "from sympy import symbols, Function, dsolve, Eq, cos, exp, simplify\n",
    "\n",
    "t = symbols('t')\n",
    "y = Function('y')(t)\n",
    "\n",
    "ode = Eq(y.diff(t), 0.5*y + 2*cos(t))   # <-- Define the differential equation y' = 0.5*y + 2*cos(t)\n",
    "\n",
    "sol = dsolve(ode, y)\n",
    "sol = simplify(sol)\n",
    "sol"
   ]
  },
  {
   "cell_type": "markdown",
   "id": "03a7fd7f",
   "metadata": {},
   "source": [
    "(c) Find the critical value $a_0$ exactly. Describe the behavior of the solution corresponding to the initial value $a_0$."
   ]
  },
  {
   "cell_type": "code",
   "execution_count": 24,
   "id": "e7f411cf",
   "metadata": {},
   "outputs": [
    {
     "data": {
      "text/latex": [
       "$\\displaystyle C - 0.8$"
      ],
      "text/plain": [
       "C - 0.8"
      ]
     },
     "execution_count": 24,
     "metadata": {},
     "output_type": "execute_result"
    }
   ],
   "source": [
    "from sympy import symbols, exp, sin, cos\n",
    "\n",
    "t, C = symbols('t C')\n",
    "\n",
    "y_general = exp(0.5*t)*C + 1.6 * sin(t) - 0.8 * cos(t)  # <-- Use the outputted general equation from the last question\n",
    "\n",
    "a0 = y_general.subs(t, 0)\n",
    "\n",
    "a0\n"
   ]
  },
  {
   "cell_type": "markdown",
   "id": "7eaa214c",
   "metadata": {},
   "source": [
    "The various solutions to the differential equation arise from different choices of $C$.\n",
    "\n",
    "- If $C > 0$, then the solutions will initially oscillate, then zoom upward exponentially toward $\\infty$. \n",
    "- If $C < 0$, then the solutions will initially oscillate, then zoom downward exponentially to -$\\infty$.  \n",
    "- If $C = 0$, then the particular solution is $y(t) = -0.8cos(t) + 1.6sin(t)$, which has initial condition $y_0 = a = -0.8$, which agrees with the value of  which we found experimentally."
   ]
  }
 ],
 "metadata": {
  "kernelspec": {
   "display_name": "Python 3",
   "language": "python",
   "name": "python3"
  },
  "language_info": {
   "codemirror_mode": {
    "name": "ipython",
    "version": 3
   },
   "file_extension": ".py",
   "mimetype": "text/x-python",
   "name": "python",
   "nbconvert_exporter": "python",
   "pygments_lexer": "ipython3",
   "version": "3.13.3"
  }
 },
 "nbformat": 4,
 "nbformat_minor": 5
}
