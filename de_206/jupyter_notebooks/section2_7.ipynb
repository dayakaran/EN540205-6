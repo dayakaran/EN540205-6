{
 "cells": [
  {
   "cell_type": "markdown",
   "id": "acf6e4b8",
   "metadata": {},
   "source": [
    "# Section 2.7 Problem #19\n",
    "\n",
    "Consider the initial value problem\n",
    "\n",
    "$y' = y^2 - t^2, \\ \\ y(0) = \\alpha$\n",
    "\n",
    "where $\\alpha$ is a given number.\n",
    "\n",
    "(a) Use the code below to draw a direction field for the differential equation. "
   ]
  },
  {
   "cell_type": "code",
   "execution_count": 1,
   "id": "dd11dae1",
   "metadata": {},
   "outputs": [
    {
     "name": "stderr",
     "output_type": "stream",
     "text": [
      "UsageError: Cell magic `%%manim` not found.\n"
     ]
    }
   ],
   "source": [
    "%%manim -qm StreamWithSolutions\n",
    "\n",
    "from manim import *\n",
    "import numpy as np\n",
    "from scipy.integrate import solve_ivp\n",
    "\n",
    "class StreamWithSolutions(Scene):\n",
    "    def construct(self):\n",
    "        axes = Axes(\n",
    "            x_range=[-5, 5],\n",
    "            y_range=[-5, 5],\n",
    "        )\n",
    "\n",
    "        def func(pos):\n",
    "            t, y = axes.p2c(pos)[:2]  \n",
    "            dydt = y**2 - t**2                              # <-- Add the differential equation here\n",
    "            return axes.c2p(1, dydt) - axes.c2p(0, 0)  \n",
    "\n",
    "        stream_lines = StreamLines(\n",
    "            func,\n",
    "            x_range=[-5, 5],\n",
    "            y_range=[-5, 5],\n",
    "            padding=0.5,\n",
    "            stroke_width=2,\n",
    "            max_anchors_per_line=50,\n",
    "            color=BLUE,\n",
    "        )\n",
    "\n",
    "        self.add(axes, stream_lines)\n",
    "        stream_lines.start_animation(warm_up=False, flow_speed=1.5)\n",
    "\n",
    "        self.wait(8)\n"
   ]
  },
  {
   "cell_type": "markdown",
   "id": "a9b6180c",
   "metadata": {},
   "source": [
    "Observe that there is a critical value of $\\alpha$ in the interval $0 \\leq \\alpha \\leq 1$ that separates converging solutions from diverging solutions. Call this critical value $\\alpha_0$."
   ]
  },
  {
   "cell_type": "markdown",
   "id": "82935775",
   "metadata": {},
   "source": [
    "We can \"see\" the solution with $= 0$ on the direction field above. It starts with the two solutions we plotted, then bends up in a somewhat symmetric rounded \"V\" shape as $t$ crosses $0$. Our job now is to pinpoint this value of $0$ using Euler's method."
   ]
  },
  {
   "cell_type": "code",
   "execution_count": null,
   "id": "a24238c8",
   "metadata": {},
   "outputs": [
    {
     "data": {
      "text/html": [
       "<pre style=\"white-space:pre;overflow-x:auto;line-height:normal;font-family:Menlo,'DejaVu Sans Mono',consolas,'Courier New',monospace\">Manim Community <span style=\"color: #008000; text-decoration-color: #008000\">v0.19.0</span>\n",
       "\n",
       "</pre>\n"
      ],
      "text/plain": [
       "Manim Community \u001b[32mv0.\u001b[0m\u001b[32m19.0\u001b[0m\n",
       "\n"
      ]
     },
     "metadata": {},
     "output_type": "display_data"
    },
    {
     "name": "stderr",
     "output_type": "stream",
     "text": [
      "                                                            \r"
     ]
    },
    {
     "data": {
      "text/html": [
       "<pre style=\"white-space:pre;overflow-x:auto;line-height:normal;font-family:Menlo,'DejaVu Sans Mono',consolas,'Courier New',monospace\"><span style=\"color: #7fbfbf; text-decoration-color: #7fbfbf\">[06/30/25 18:50:52] </span><span style=\"color: #008000; text-decoration-color: #008000\">INFO    </span> Animation <span style=\"color: #008000; text-decoration-color: #008000\">0</span> : Partial movie file written in                   <a href=\"file://c:\\Users\\zadon\\AppData\\Local\\Programs\\Python\\Python313\\Lib\\site-packages\\manim\\scene\\scene_file_writer.py\" target=\"_blank\"><span style=\"color: #7f7f7f; text-decoration-color: #7f7f7f\">scene_file_writer.py</span></a><span style=\"color: #7f7f7f; text-decoration-color: #7f7f7f\">:</span><a href=\"file://c:\\Users\\zadon\\AppData\\Local\\Programs\\Python\\Python313\\Lib\\site-packages\\manim\\scene\\scene_file_writer.py#588\" target=\"_blank\"><span style=\"color: #7f7f7f; text-decoration-color: #7f7f7f\">588</span></a>\n",
       "<span style=\"color: #7fbfbf; text-decoration-color: #7fbfbf\">                    </span>         <span style=\"color: #008000; text-decoration-color: #008000\">'C:\\Users\\zadon\\Manim\\EN540205-6\\de_206\\jupyter_notebooks\\med</span> <span style=\"color: #7f7f7f; text-decoration-color: #7f7f7f\">                        </span>\n",
       "<span style=\"color: #7fbfbf; text-decoration-color: #7fbfbf\">                    </span>         <span style=\"color: #008000; text-decoration-color: #008000\">ia\\videos\\jupyter_notebooks\\720p30\\partial_movie_files\\Stream</span> <span style=\"color: #7f7f7f; text-decoration-color: #7f7f7f\">                        </span>\n",
       "<span style=\"color: #7fbfbf; text-decoration-color: #7fbfbf\">                    </span>         <span style=\"color: #008000; text-decoration-color: #008000\">WithSolutions\\2016333726_2093786124_980745118.mp4'</span>            <span style=\"color: #7f7f7f; text-decoration-color: #7f7f7f\">                        </span>\n",
       "</pre>\n"
      ],
      "text/plain": [
       "\u001b[2;36m[06/30/25 18:50:52]\u001b[0m\u001b[2;36m \u001b[0m\u001b[32mINFO    \u001b[0m Animation \u001b[32m0\u001b[0m : Partial movie file written in                   \u001b]8;id=929934;file://c:\\Users\\zadon\\AppData\\Local\\Programs\\Python\\Python313\\Lib\\site-packages\\manim\\scene\\scene_file_writer.py\u001b\\\u001b[2mscene_file_writer.py\u001b[0m\u001b]8;;\u001b\\\u001b[2m:\u001b[0m\u001b]8;id=878440;file://c:\\Users\\zadon\\AppData\\Local\\Programs\\Python\\Python313\\Lib\\site-packages\\manim\\scene\\scene_file_writer.py#588\u001b\\\u001b[2m588\u001b[0m\u001b]8;;\u001b\\\n",
       "\u001b[2;36m                    \u001b[0m         \u001b[32m'C:\\Users\\zadon\\Manim\\EN540205-6\\de_206\\jupyter_notebooks\\med\u001b[0m \u001b[2m                        \u001b[0m\n",
       "\u001b[2;36m                    \u001b[0m         \u001b[32mia\\videos\\jupyter_notebooks\\720p30\\partial_movie_files\\Stream\u001b[0m \u001b[2m                        \u001b[0m\n",
       "\u001b[2;36m                    \u001b[0m         \u001b[32mWithSolutions\\2016333726_2093786124_980745118.mp4'\u001b[0m            \u001b[2m                        \u001b[0m\n"
      ]
     },
     "metadata": {},
     "output_type": "display_data"
    },
    {
     "data": {
      "text/html": [
       "<pre style=\"white-space:pre;overflow-x:auto;line-height:normal;font-family:Menlo,'DejaVu Sans Mono',consolas,'Courier New',monospace\"><span style=\"color: #7fbfbf; text-decoration-color: #7fbfbf\">                    </span><span style=\"color: #008000; text-decoration-color: #008000\">INFO    </span> Combining to Movie file.                                      <a href=\"file://c:\\Users\\zadon\\AppData\\Local\\Programs\\Python\\Python313\\Lib\\site-packages\\manim\\scene\\scene_file_writer.py\" target=\"_blank\"><span style=\"color: #7f7f7f; text-decoration-color: #7f7f7f\">scene_file_writer.py</span></a><span style=\"color: #7f7f7f; text-decoration-color: #7f7f7f\">:</span><a href=\"file://c:\\Users\\zadon\\AppData\\Local\\Programs\\Python\\Python313\\Lib\\site-packages\\manim\\scene\\scene_file_writer.py#739\" target=\"_blank\"><span style=\"color: #7f7f7f; text-decoration-color: #7f7f7f\">739</span></a>\n",
       "</pre>\n"
      ],
      "text/plain": [
       "\u001b[2;36m                   \u001b[0m\u001b[2;36m \u001b[0m\u001b[32mINFO    \u001b[0m Combining to Movie file.                                      \u001b]8;id=678109;file://c:\\Users\\zadon\\AppData\\Local\\Programs\\Python\\Python313\\Lib\\site-packages\\manim\\scene\\scene_file_writer.py\u001b\\\u001b[2mscene_file_writer.py\u001b[0m\u001b]8;;\u001b\\\u001b[2m:\u001b[0m\u001b]8;id=542258;file://c:\\Users\\zadon\\AppData\\Local\\Programs\\Python\\Python313\\Lib\\site-packages\\manim\\scene\\scene_file_writer.py#739\u001b\\\u001b[2m739\u001b[0m\u001b]8;;\u001b\\\n"
      ]
     },
     "metadata": {},
     "output_type": "display_data"
    },
    {
     "data": {
      "text/html": [
       "<pre style=\"white-space:pre;overflow-x:auto;line-height:normal;font-family:Menlo,'DejaVu Sans Mono',consolas,'Courier New',monospace\"><span style=\"color: #7fbfbf; text-decoration-color: #7fbfbf\">                    </span><span style=\"color: #008000; text-decoration-color: #008000\">INFO    </span>                                                               <a href=\"file://c:\\Users\\zadon\\AppData\\Local\\Programs\\Python\\Python313\\Lib\\site-packages\\manim\\scene\\scene_file_writer.py\" target=\"_blank\"><span style=\"color: #7f7f7f; text-decoration-color: #7f7f7f\">scene_file_writer.py</span></a><span style=\"color: #7f7f7f; text-decoration-color: #7f7f7f\">:</span><a href=\"file://c:\\Users\\zadon\\AppData\\Local\\Programs\\Python\\Python313\\Lib\\site-packages\\manim\\scene\\scene_file_writer.py#886\" target=\"_blank\"><span style=\"color: #7f7f7f; text-decoration-color: #7f7f7f\">886</span></a>\n",
       "<span style=\"color: #7fbfbf; text-decoration-color: #7fbfbf\">                    </span>         <span style=\"color: #808000; text-decoration-color: #808000; font-weight: bold\">File</span> ready at                                                 <span style=\"color: #7f7f7f; text-decoration-color: #7f7f7f\">                        </span>\n",
       "<span style=\"color: #7fbfbf; text-decoration-color: #7fbfbf\">                    </span>         <span style=\"color: #008000; text-decoration-color: #008000\">'C:\\Users\\zadon\\Manim\\EN540205-6\\de_206\\jupyter_notebooks\\med</span> <span style=\"color: #7f7f7f; text-decoration-color: #7f7f7f\">                        </span>\n",
       "<span style=\"color: #7fbfbf; text-decoration-color: #7fbfbf\">                    </span>         <span style=\"color: #008000; text-decoration-color: #008000\">ia\\videos\\jupyter_notebooks\\720p30\\StreamWithSolutions.mp4'</span>   <span style=\"color: #7f7f7f; text-decoration-color: #7f7f7f\">                        </span>\n",
       "<span style=\"color: #7fbfbf; text-decoration-color: #7fbfbf\">                    </span>                                                                       <span style=\"color: #7f7f7f; text-decoration-color: #7f7f7f\">                        </span>\n",
       "</pre>\n"
      ],
      "text/plain": [
       "\u001b[2;36m                   \u001b[0m\u001b[2;36m \u001b[0m\u001b[32mINFO    \u001b[0m                                                               \u001b]8;id=834733;file://c:\\Users\\zadon\\AppData\\Local\\Programs\\Python\\Python313\\Lib\\site-packages\\manim\\scene\\scene_file_writer.py\u001b\\\u001b[2mscene_file_writer.py\u001b[0m\u001b]8;;\u001b\\\u001b[2m:\u001b[0m\u001b]8;id=107583;file://c:\\Users\\zadon\\AppData\\Local\\Programs\\Python\\Python313\\Lib\\site-packages\\manim\\scene\\scene_file_writer.py#886\u001b\\\u001b[2m886\u001b[0m\u001b]8;;\u001b\\\n",
       "\u001b[2;36m                    \u001b[0m         \u001b[1;33mFile\u001b[0m ready at                                                 \u001b[2m                        \u001b[0m\n",
       "\u001b[2;36m                    \u001b[0m         \u001b[32m'C:\\Users\\zadon\\Manim\\EN540205-6\\de_206\\jupyter_notebooks\\med\u001b[0m \u001b[2m                        \u001b[0m\n",
       "\u001b[2;36m                    \u001b[0m         \u001b[32mia\\videos\\jupyter_notebooks\\720p30\\StreamWithSolutions.mp4'\u001b[0m   \u001b[2m                        \u001b[0m\n",
       "\u001b[2;36m                    \u001b[0m                                                                       \u001b[2m                        \u001b[0m\n"
      ]
     },
     "metadata": {},
     "output_type": "display_data"
    },
    {
     "data": {
      "text/html": [
       "<pre style=\"white-space:pre;overflow-x:auto;line-height:normal;font-family:Menlo,'DejaVu Sans Mono',consolas,'Courier New',monospace\"><span style=\"color: #7fbfbf; text-decoration-color: #7fbfbf\">                    </span><span style=\"color: #008000; text-decoration-color: #008000\">INFO    </span> <span style=\"color: #808000; text-decoration-color: #808000; font-weight: bold\">Rendered</span> StreamWithSolutions                                              <a href=\"file://c:\\Users\\zadon\\AppData\\Local\\Programs\\Python\\Python313\\Lib\\site-packages\\manim\\scene\\scene.py\" target=\"_blank\"><span style=\"color: #7f7f7f; text-decoration-color: #7f7f7f\">scene.py</span></a><span style=\"color: #7f7f7f; text-decoration-color: #7f7f7f\">:</span><a href=\"file://c:\\Users\\zadon\\AppData\\Local\\Programs\\Python\\Python313\\Lib\\site-packages\\manim\\scene\\scene.py#255\" target=\"_blank\"><span style=\"color: #7f7f7f; text-decoration-color: #7f7f7f\">255</span></a>\n",
       "<span style=\"color: #7fbfbf; text-decoration-color: #7fbfbf\">                    </span>         <span style=\"color: #808000; text-decoration-color: #808000; font-weight: bold\">Played</span> <span style=\"color: #008000; text-decoration-color: #008000\">1</span> <span style=\"color: #808000; text-decoration-color: #808000; font-weight: bold\">animations</span>                                                       <span style=\"color: #7f7f7f; text-decoration-color: #7f7f7f\">            </span>\n",
       "</pre>\n"
      ],
      "text/plain": [
       "\u001b[2;36m                   \u001b[0m\u001b[2;36m \u001b[0m\u001b[32mINFO    \u001b[0m \u001b[1;33mRendered\u001b[0m StreamWithSolutions                                              \u001b]8;id=465473;file://c:\\Users\\zadon\\AppData\\Local\\Programs\\Python\\Python313\\Lib\\site-packages\\manim\\scene\\scene.py\u001b\\\u001b[2mscene.py\u001b[0m\u001b]8;;\u001b\\\u001b[2m:\u001b[0m\u001b]8;id=67257;file://c:\\Users\\zadon\\AppData\\Local\\Programs\\Python\\Python313\\Lib\\site-packages\\manim\\scene\\scene.py#255\u001b\\\u001b[2m255\u001b[0m\u001b]8;;\u001b\\\n",
       "\u001b[2;36m                    \u001b[0m         \u001b[1;33mPlayed\u001b[0m \u001b[32m1\u001b[0m \u001b[1;33manimations\u001b[0m                                                       \u001b[2m            \u001b[0m\n"
      ]
     },
     "metadata": {},
     "output_type": "display_data"
    },
    {
     "data": {
      "text/html": [
       "<video src=\"media\\jupyter\\StreamWithSolutions@2025-06-30@18-50-52.mp4\" controls autoplay loop style=\"max-width: 60%;\"  >\n",
       "      Your browser does not support the <code>video</code> element.\n",
       "    </video>"
      ],
      "text/plain": [
       "<IPython.core.display.Video object>"
      ]
     },
     "metadata": {},
     "output_type": "display_data"
    }
   ],
   "source": [
    "%%manim -qm StreamWithSolutions\n",
    "\n",
    "from manim import *\n",
    "import numpy as np\n",
    "from scipy.integrate import solve_ivp\n",
    "\n",
    "class StreamWithSolutions(Scene):\n",
    "    def construct(self):\n",
    "        axes = Axes(\n",
    "            x_range=[-5, 5],\n",
    "            y_range=[-5, 5],\n",
    "        )\n",
    "\n",
    "        def func(pos):\n",
    "            t, y = axes.p2c(pos)[:2]  \n",
    "            dydt = y**2 - t**2\n",
    "            return axes.c2p(1, dydt) - axes.c2p(0, 0)  \n",
    "\n",
    "        stream_lines = StreamLines(\n",
    "            func,\n",
    "            x_range=[-5, 5],\n",
    "            y_range=[-5, 5],\n",
    "            padding=0.5,\n",
    "            stroke_width=2,\n",
    "            max_anchors_per_line=50,\n",
    "            color=BLUE,\n",
    "        )\n",
    "\n",
    "        self.add(axes, stream_lines)\n",
    "        stream_lines.start_animation(warm_up=False, flow_speed=1.5)\n",
    "\n",
    "        def solution(t0, y0):\n",
    "            sol_fwd = solve_ivp(\n",
    "                lambda t, y: y**2 - t**2,\n",
    "                [t0, 10],\n",
    "                [y0],\n",
    "                t_eval=np.linspace(t0, 10, 200)\n",
    "            )\n",
    "            points_fwd = [axes.c2p(t, y[0]) for t, y in zip(sol_fwd.t, sol_fwd.y.T)]\n",
    "\n",
    "            sol_bwd = solve_ivp(\n",
    "                lambda t, y: y**2 - t**2,\n",
    "                [t0, -10],\n",
    "                [y0],\n",
    "                t_eval=np.linspace(t0, -10, 200)\n",
    "            )\n",
    "            points_bwd = [axes.c2p(t, y[0]) for t, y in zip(sol_bwd.t, sol_bwd.y.T)]\n",
    "\n",
    "            all_points = list(reversed(points_bwd)) + points_fwd\n",
    "            return VMobject().set_points_smoothly(all_points).set_color(ORANGE)\n",
    "\n",
    "\n",
    "        alpha_values = [0, 1]        # <-- Alpha values\n",
    "        for y0 in alpha_values:\n",
    "            curve = solution(0, y0)\n",
    "            self.add(curve)\n",
    "\n",
    "        self.wait(8)\n"
   ]
  },
  {
   "cell_type": "markdown",
   "id": "327272ed",
   "metadata": {},
   "source": [
    "(b) Use Euler's method with $h = 0.01$ to estimate $0$.\n",
    "\n",
    "(Start by restricting $\\alpha_0$ to an interval $[a,b]$, where $b - a = 0.1$)"
   ]
  },
  {
   "cell_type": "code",
   "execution_count": null,
   "id": "0dccfd89",
   "metadata": {},
   "outputs": [
    {
     "data": {
      "text/html": [
       "<pre style=\"white-space:pre;overflow-x:auto;line-height:normal;font-family:Menlo,'DejaVu Sans Mono',consolas,'Courier New',monospace\">Manim Community <span style=\"color: #008000; text-decoration-color: #008000\">v0.19.0</span>\n",
       "\n",
       "</pre>\n"
      ],
      "text/plain": [
       "Manim Community \u001b[32mv0.\u001b[0m\u001b[32m19.0\u001b[0m\n",
       "\n"
      ]
     },
     "metadata": {},
     "output_type": "display_data"
    },
    {
     "name": "stderr",
     "output_type": "stream",
     "text": [
      "                                                            \r"
     ]
    },
    {
     "data": {
      "text/html": [
       "<pre style=\"white-space:pre;overflow-x:auto;line-height:normal;font-family:Menlo,'DejaVu Sans Mono',consolas,'Courier New',monospace\"><span style=\"color: #7fbfbf; text-decoration-color: #7fbfbf\">[06/30/25 18:51:16] </span><span style=\"color: #008000; text-decoration-color: #008000\">INFO    </span> Animation <span style=\"color: #008000; text-decoration-color: #008000\">0</span> : Partial movie file written in                   <a href=\"file://c:\\Users\\zadon\\AppData\\Local\\Programs\\Python\\Python313\\Lib\\site-packages\\manim\\scene\\scene_file_writer.py\" target=\"_blank\"><span style=\"color: #7f7f7f; text-decoration-color: #7f7f7f\">scene_file_writer.py</span></a><span style=\"color: #7f7f7f; text-decoration-color: #7f7f7f\">:</span><a href=\"file://c:\\Users\\zadon\\AppData\\Local\\Programs\\Python\\Python313\\Lib\\site-packages\\manim\\scene\\scene_file_writer.py#588\" target=\"_blank\"><span style=\"color: #7f7f7f; text-decoration-color: #7f7f7f\">588</span></a>\n",
       "<span style=\"color: #7fbfbf; text-decoration-color: #7fbfbf\">                    </span>         <span style=\"color: #008000; text-decoration-color: #008000\">'C:\\Users\\zadon\\Manim\\EN540205-6\\de_206\\jupyter_notebooks\\med</span> <span style=\"color: #7f7f7f; text-decoration-color: #7f7f7f\">                        </span>\n",
       "<span style=\"color: #7fbfbf; text-decoration-color: #7fbfbf\">                    </span>         <span style=\"color: #008000; text-decoration-color: #008000\">ia\\videos\\jupyter_notebooks\\720p30\\partial_movie_files\\Stream</span> <span style=\"color: #7f7f7f; text-decoration-color: #7f7f7f\">                        </span>\n",
       "<span style=\"color: #7fbfbf; text-decoration-color: #7fbfbf\">                    </span>         <span style=\"color: #008000; text-decoration-color: #008000\">WithSolutions\\2016333726_2093786124_1968241430.mp4'</span>           <span style=\"color: #7f7f7f; text-decoration-color: #7f7f7f\">                        </span>\n",
       "</pre>\n"
      ],
      "text/plain": [
       "\u001b[2;36m[06/30/25 18:51:16]\u001b[0m\u001b[2;36m \u001b[0m\u001b[32mINFO    \u001b[0m Animation \u001b[32m0\u001b[0m : Partial movie file written in                   \u001b]8;id=662942;file://c:\\Users\\zadon\\AppData\\Local\\Programs\\Python\\Python313\\Lib\\site-packages\\manim\\scene\\scene_file_writer.py\u001b\\\u001b[2mscene_file_writer.py\u001b[0m\u001b]8;;\u001b\\\u001b[2m:\u001b[0m\u001b]8;id=947727;file://c:\\Users\\zadon\\AppData\\Local\\Programs\\Python\\Python313\\Lib\\site-packages\\manim\\scene\\scene_file_writer.py#588\u001b\\\u001b[2m588\u001b[0m\u001b]8;;\u001b\\\n",
       "\u001b[2;36m                    \u001b[0m         \u001b[32m'C:\\Users\\zadon\\Manim\\EN540205-6\\de_206\\jupyter_notebooks\\med\u001b[0m \u001b[2m                        \u001b[0m\n",
       "\u001b[2;36m                    \u001b[0m         \u001b[32mia\\videos\\jupyter_notebooks\\720p30\\partial_movie_files\\Stream\u001b[0m \u001b[2m                        \u001b[0m\n",
       "\u001b[2;36m                    \u001b[0m         \u001b[32mWithSolutions\\2016333726_2093786124_1968241430.mp4'\u001b[0m           \u001b[2m                        \u001b[0m\n"
      ]
     },
     "metadata": {},
     "output_type": "display_data"
    },
    {
     "data": {
      "text/html": [
       "<pre style=\"white-space:pre;overflow-x:auto;line-height:normal;font-family:Menlo,'DejaVu Sans Mono',consolas,'Courier New',monospace\"><span style=\"color: #7fbfbf; text-decoration-color: #7fbfbf\">                    </span><span style=\"color: #008000; text-decoration-color: #008000\">INFO    </span> Combining to Movie file.                                      <a href=\"file://c:\\Users\\zadon\\AppData\\Local\\Programs\\Python\\Python313\\Lib\\site-packages\\manim\\scene\\scene_file_writer.py\" target=\"_blank\"><span style=\"color: #7f7f7f; text-decoration-color: #7f7f7f\">scene_file_writer.py</span></a><span style=\"color: #7f7f7f; text-decoration-color: #7f7f7f\">:</span><a href=\"file://c:\\Users\\zadon\\AppData\\Local\\Programs\\Python\\Python313\\Lib\\site-packages\\manim\\scene\\scene_file_writer.py#739\" target=\"_blank\"><span style=\"color: #7f7f7f; text-decoration-color: #7f7f7f\">739</span></a>\n",
       "</pre>\n"
      ],
      "text/plain": [
       "\u001b[2;36m                   \u001b[0m\u001b[2;36m \u001b[0m\u001b[32mINFO    \u001b[0m Combining to Movie file.                                      \u001b]8;id=99803;file://c:\\Users\\zadon\\AppData\\Local\\Programs\\Python\\Python313\\Lib\\site-packages\\manim\\scene\\scene_file_writer.py\u001b\\\u001b[2mscene_file_writer.py\u001b[0m\u001b]8;;\u001b\\\u001b[2m:\u001b[0m\u001b]8;id=351607;file://c:\\Users\\zadon\\AppData\\Local\\Programs\\Python\\Python313\\Lib\\site-packages\\manim\\scene\\scene_file_writer.py#739\u001b\\\u001b[2m739\u001b[0m\u001b]8;;\u001b\\\n"
      ]
     },
     "metadata": {},
     "output_type": "display_data"
    },
    {
     "data": {
      "text/html": [
       "<pre style=\"white-space:pre;overflow-x:auto;line-height:normal;font-family:Menlo,'DejaVu Sans Mono',consolas,'Courier New',monospace\"><span style=\"color: #7fbfbf; text-decoration-color: #7fbfbf\">                    </span><span style=\"color: #008000; text-decoration-color: #008000\">INFO    </span>                                                               <a href=\"file://c:\\Users\\zadon\\AppData\\Local\\Programs\\Python\\Python313\\Lib\\site-packages\\manim\\scene\\scene_file_writer.py\" target=\"_blank\"><span style=\"color: #7f7f7f; text-decoration-color: #7f7f7f\">scene_file_writer.py</span></a><span style=\"color: #7f7f7f; text-decoration-color: #7f7f7f\">:</span><a href=\"file://c:\\Users\\zadon\\AppData\\Local\\Programs\\Python\\Python313\\Lib\\site-packages\\manim\\scene\\scene_file_writer.py#886\" target=\"_blank\"><span style=\"color: #7f7f7f; text-decoration-color: #7f7f7f\">886</span></a>\n",
       "<span style=\"color: #7fbfbf; text-decoration-color: #7fbfbf\">                    </span>         <span style=\"color: #808000; text-decoration-color: #808000; font-weight: bold\">File</span> ready at                                                 <span style=\"color: #7f7f7f; text-decoration-color: #7f7f7f\">                        </span>\n",
       "<span style=\"color: #7fbfbf; text-decoration-color: #7fbfbf\">                    </span>         <span style=\"color: #008000; text-decoration-color: #008000\">'C:\\Users\\zadon\\Manim\\EN540205-6\\de_206\\jupyter_notebooks\\med</span> <span style=\"color: #7f7f7f; text-decoration-color: #7f7f7f\">                        </span>\n",
       "<span style=\"color: #7fbfbf; text-decoration-color: #7fbfbf\">                    </span>         <span style=\"color: #008000; text-decoration-color: #008000\">ia\\videos\\jupyter_notebooks\\720p30\\StreamWithSolutions.mp4'</span>   <span style=\"color: #7f7f7f; text-decoration-color: #7f7f7f\">                        </span>\n",
       "<span style=\"color: #7fbfbf; text-decoration-color: #7fbfbf\">                    </span>                                                                       <span style=\"color: #7f7f7f; text-decoration-color: #7f7f7f\">                        </span>\n",
       "</pre>\n"
      ],
      "text/plain": [
       "\u001b[2;36m                   \u001b[0m\u001b[2;36m \u001b[0m\u001b[32mINFO    \u001b[0m                                                               \u001b]8;id=322165;file://c:\\Users\\zadon\\AppData\\Local\\Programs\\Python\\Python313\\Lib\\site-packages\\manim\\scene\\scene_file_writer.py\u001b\\\u001b[2mscene_file_writer.py\u001b[0m\u001b]8;;\u001b\\\u001b[2m:\u001b[0m\u001b]8;id=219638;file://c:\\Users\\zadon\\AppData\\Local\\Programs\\Python\\Python313\\Lib\\site-packages\\manim\\scene\\scene_file_writer.py#886\u001b\\\u001b[2m886\u001b[0m\u001b]8;;\u001b\\\n",
       "\u001b[2;36m                    \u001b[0m         \u001b[1;33mFile\u001b[0m ready at                                                 \u001b[2m                        \u001b[0m\n",
       "\u001b[2;36m                    \u001b[0m         \u001b[32m'C:\\Users\\zadon\\Manim\\EN540205-6\\de_206\\jupyter_notebooks\\med\u001b[0m \u001b[2m                        \u001b[0m\n",
       "\u001b[2;36m                    \u001b[0m         \u001b[32mia\\videos\\jupyter_notebooks\\720p30\\StreamWithSolutions.mp4'\u001b[0m   \u001b[2m                        \u001b[0m\n",
       "\u001b[2;36m                    \u001b[0m                                                                       \u001b[2m                        \u001b[0m\n"
      ]
     },
     "metadata": {},
     "output_type": "display_data"
    },
    {
     "data": {
      "text/html": [
       "<pre style=\"white-space:pre;overflow-x:auto;line-height:normal;font-family:Menlo,'DejaVu Sans Mono',consolas,'Courier New',monospace\"><span style=\"color: #7fbfbf; text-decoration-color: #7fbfbf\">                    </span><span style=\"color: #008000; text-decoration-color: #008000\">INFO    </span> <span style=\"color: #808000; text-decoration-color: #808000; font-weight: bold\">Rendered</span> StreamWithSolutions                                              <a href=\"file://c:\\Users\\zadon\\AppData\\Local\\Programs\\Python\\Python313\\Lib\\site-packages\\manim\\scene\\scene.py\" target=\"_blank\"><span style=\"color: #7f7f7f; text-decoration-color: #7f7f7f\">scene.py</span></a><span style=\"color: #7f7f7f; text-decoration-color: #7f7f7f\">:</span><a href=\"file://c:\\Users\\zadon\\AppData\\Local\\Programs\\Python\\Python313\\Lib\\site-packages\\manim\\scene\\scene.py#255\" target=\"_blank\"><span style=\"color: #7f7f7f; text-decoration-color: #7f7f7f\">255</span></a>\n",
       "<span style=\"color: #7fbfbf; text-decoration-color: #7fbfbf\">                    </span>         <span style=\"color: #808000; text-decoration-color: #808000; font-weight: bold\">Played</span> <span style=\"color: #008000; text-decoration-color: #008000\">1</span> <span style=\"color: #808000; text-decoration-color: #808000; font-weight: bold\">animations</span>                                                       <span style=\"color: #7f7f7f; text-decoration-color: #7f7f7f\">            </span>\n",
       "</pre>\n"
      ],
      "text/plain": [
       "\u001b[2;36m                   \u001b[0m\u001b[2;36m \u001b[0m\u001b[32mINFO    \u001b[0m \u001b[1;33mRendered\u001b[0m StreamWithSolutions                                              \u001b]8;id=77680;file://c:\\Users\\zadon\\AppData\\Local\\Programs\\Python\\Python313\\Lib\\site-packages\\manim\\scene\\scene.py\u001b\\\u001b[2mscene.py\u001b[0m\u001b]8;;\u001b\\\u001b[2m:\u001b[0m\u001b]8;id=600533;file://c:\\Users\\zadon\\AppData\\Local\\Programs\\Python\\Python313\\Lib\\site-packages\\manim\\scene\\scene.py#255\u001b\\\u001b[2m255\u001b[0m\u001b]8;;\u001b\\\n",
       "\u001b[2;36m                    \u001b[0m         \u001b[1;33mPlayed\u001b[0m \u001b[32m1\u001b[0m \u001b[1;33manimations\u001b[0m                                                       \u001b[2m            \u001b[0m\n"
      ]
     },
     "metadata": {},
     "output_type": "display_data"
    },
    {
     "data": {
      "text/html": [
       "<video src=\"media\\jupyter\\StreamWithSolutions@2025-06-30@18-51-16.mp4\" controls autoplay loop style=\"max-width: 60%;\"  >\n",
       "      Your browser does not support the <code>video</code> element.\n",
       "    </video>"
      ],
      "text/plain": [
       "<IPython.core.display.Video object>"
      ]
     },
     "metadata": {},
     "output_type": "display_data"
    }
   ],
   "source": [
    "%%manim -qm StreamWithSolutions\n",
    "\n",
    "from manim import *\n",
    "import numpy as np\n",
    "from scipy.integrate import solve_ivp\n",
    "\n",
    "class StreamWithSolutions(Scene):\n",
    "    def construct(self):\n",
    "        axes = Axes(\n",
    "            x_range=[-5, 5],\n",
    "            y_range=[-5, 5],\n",
    "        )\n",
    "\n",
    "        def func(pos):\n",
    "            t, y = axes.p2c(pos)[:2]  \n",
    "            dydt = y**2 - t**2\n",
    "            return axes.c2p(1, dydt) - axes.c2p(0, 0)  \n",
    "\n",
    "        stream_lines = StreamLines(\n",
    "            func,\n",
    "            x_range=[-5, 5],\n",
    "            y_range=[-5, 5],\n",
    "            padding=0.5,\n",
    "            stroke_width=2,\n",
    "            max_anchors_per_line=50,\n",
    "            color=BLUE,\n",
    "        )\n",
    "\n",
    "        self.add(axes, stream_lines)\n",
    "        stream_lines.start_animation(warm_up=False, flow_speed=1.5)\n",
    "\n",
    "        def solution(t0, y0):\n",
    "            sol_fwd = solve_ivp(\n",
    "                lambda t, y: y**2 - t**2,\n",
    "                [t0, 10],\n",
    "                [y0],\n",
    "                t_eval=np.linspace(t0, 10, 200)\n",
    "            )\n",
    "            points_fwd = [axes.c2p(t, y[0]) for t, y in zip(sol_fwd.t, sol_fwd.y.T)]\n",
    "\n",
    "            sol_bwd = solve_ivp(\n",
    "                lambda t, y: y**2 - t**2,\n",
    "                [t0, -10],\n",
    "                [y0],\n",
    "                t_eval=np.linspace(t0, -10, 200)\n",
    "            )\n",
    "            points_bwd = [axes.c2p(t, y[0]) for t, y in zip(sol_bwd.t, sol_bwd.y.T)]\n",
    "\n",
    "            all_points = list(reversed(points_bwd)) + points_fwd\n",
    "            return VMobject().set_points_smoothly(all_points).set_color(ORANGE)\n",
    "\n",
    "\n",
    "        alpha_values = [0.6, 0.7]        # <-- Adjust alpha values to meet the interval of 0.1\n",
    "        for y0 in alpha_values:\n",
    "            curve = solution(0, y0)\n",
    "            self.add(curve)\n",
    "\n",
    "        self.wait(8)\n"
   ]
  },
  {
   "cell_type": "markdown",
   "id": "b1f02377",
   "metadata": {},
   "source": [
    "If you found the correct interval, you would have noticed that if $\\alpha = 0.6$, the solution curve converges, and if $\\alpha = 0.7$ the solution curve diverges. \n",
    "\n",
    "We will want to use this information to try to pin down the value of $\\alpha_0$. "
   ]
  },
  {
   "cell_type": "code",
   "execution_count": null,
   "id": "1db50e6e",
   "metadata": {},
   "outputs": [
    {
     "data": {
      "text/html": [
       "<pre style=\"white-space:pre;overflow-x:auto;line-height:normal;font-family:Menlo,'DejaVu Sans Mono',consolas,'Courier New',monospace\">Manim Community <span style=\"color: #008000; text-decoration-color: #008000\">v0.19.0</span>\n",
       "\n",
       "</pre>\n"
      ],
      "text/plain": [
       "Manim Community \u001b[32mv0.\u001b[0m\u001b[32m19.0\u001b[0m\n",
       "\n"
      ]
     },
     "metadata": {},
     "output_type": "display_data"
    },
    {
     "name": "stderr",
     "output_type": "stream",
     "text": [
      "                                                            \r"
     ]
    },
    {
     "data": {
      "text/html": [
       "<pre style=\"white-space:pre;overflow-x:auto;line-height:normal;font-family:Menlo,'DejaVu Sans Mono',consolas,'Courier New',monospace\"><span style=\"color: #7fbfbf; text-decoration-color: #7fbfbf\">[06/30/25 19:30:39] </span><span style=\"color: #008000; text-decoration-color: #008000\">INFO    </span> Animation <span style=\"color: #008000; text-decoration-color: #008000\">0</span> : Partial movie file written in                   <a href=\"file://c:\\Users\\zadon\\AppData\\Local\\Programs\\Python\\Python313\\Lib\\site-packages\\manim\\scene\\scene_file_writer.py\" target=\"_blank\"><span style=\"color: #7f7f7f; text-decoration-color: #7f7f7f\">scene_file_writer.py</span></a><span style=\"color: #7f7f7f; text-decoration-color: #7f7f7f\">:</span><a href=\"file://c:\\Users\\zadon\\AppData\\Local\\Programs\\Python\\Python313\\Lib\\site-packages\\manim\\scene\\scene_file_writer.py#588\" target=\"_blank\"><span style=\"color: #7f7f7f; text-decoration-color: #7f7f7f\">588</span></a>\n",
       "<span style=\"color: #7fbfbf; text-decoration-color: #7fbfbf\">                    </span>         <span style=\"color: #008000; text-decoration-color: #008000\">'C:\\Users\\zadon\\Manim\\EN540205-6\\de_206\\jupyter_notebooks\\med</span> <span style=\"color: #7f7f7f; text-decoration-color: #7f7f7f\">                        </span>\n",
       "<span style=\"color: #7fbfbf; text-decoration-color: #7fbfbf\">                    </span>         <span style=\"color: #008000; text-decoration-color: #008000\">ia\\videos\\jupyter_notebooks\\720p30\\partial_movie_files\\EulerS</span> <span style=\"color: #7f7f7f; text-decoration-color: #7f7f7f\">                        </span>\n",
       "<span style=\"color: #7fbfbf; text-decoration-color: #7fbfbf\">                    </span>         <span style=\"color: #008000; text-decoration-color: #008000\">treamWithSolutions\\2016333726_2093786124_2039879297.mp4'</span>      <span style=\"color: #7f7f7f; text-decoration-color: #7f7f7f\">                        </span>\n",
       "</pre>\n"
      ],
      "text/plain": [
       "\u001b[2;36m[06/30/25 19:30:39]\u001b[0m\u001b[2;36m \u001b[0m\u001b[32mINFO    \u001b[0m Animation \u001b[32m0\u001b[0m : Partial movie file written in                   \u001b]8;id=676260;file://c:\\Users\\zadon\\AppData\\Local\\Programs\\Python\\Python313\\Lib\\site-packages\\manim\\scene\\scene_file_writer.py\u001b\\\u001b[2mscene_file_writer.py\u001b[0m\u001b]8;;\u001b\\\u001b[2m:\u001b[0m\u001b]8;id=64177;file://c:\\Users\\zadon\\AppData\\Local\\Programs\\Python\\Python313\\Lib\\site-packages\\manim\\scene\\scene_file_writer.py#588\u001b\\\u001b[2m588\u001b[0m\u001b]8;;\u001b\\\n",
       "\u001b[2;36m                    \u001b[0m         \u001b[32m'C:\\Users\\zadon\\Manim\\EN540205-6\\de_206\\jupyter_notebooks\\med\u001b[0m \u001b[2m                        \u001b[0m\n",
       "\u001b[2;36m                    \u001b[0m         \u001b[32mia\\videos\\jupyter_notebooks\\720p30\\partial_movie_files\\EulerS\u001b[0m \u001b[2m                        \u001b[0m\n",
       "\u001b[2;36m                    \u001b[0m         \u001b[32mtreamWithSolutions\\2016333726_2093786124_2039879297.mp4'\u001b[0m      \u001b[2m                        \u001b[0m\n"
      ]
     },
     "metadata": {},
     "output_type": "display_data"
    },
    {
     "data": {
      "text/html": [
       "<pre style=\"white-space:pre;overflow-x:auto;line-height:normal;font-family:Menlo,'DejaVu Sans Mono',consolas,'Courier New',monospace\"><span style=\"color: #7fbfbf; text-decoration-color: #7fbfbf\">                    </span><span style=\"color: #008000; text-decoration-color: #008000\">INFO    </span> Combining to Movie file.                                      <a href=\"file://c:\\Users\\zadon\\AppData\\Local\\Programs\\Python\\Python313\\Lib\\site-packages\\manim\\scene\\scene_file_writer.py\" target=\"_blank\"><span style=\"color: #7f7f7f; text-decoration-color: #7f7f7f\">scene_file_writer.py</span></a><span style=\"color: #7f7f7f; text-decoration-color: #7f7f7f\">:</span><a href=\"file://c:\\Users\\zadon\\AppData\\Local\\Programs\\Python\\Python313\\Lib\\site-packages\\manim\\scene\\scene_file_writer.py#739\" target=\"_blank\"><span style=\"color: #7f7f7f; text-decoration-color: #7f7f7f\">739</span></a>\n",
       "</pre>\n"
      ],
      "text/plain": [
       "\u001b[2;36m                   \u001b[0m\u001b[2;36m \u001b[0m\u001b[32mINFO    \u001b[0m Combining to Movie file.                                      \u001b]8;id=729934;file://c:\\Users\\zadon\\AppData\\Local\\Programs\\Python\\Python313\\Lib\\site-packages\\manim\\scene\\scene_file_writer.py\u001b\\\u001b[2mscene_file_writer.py\u001b[0m\u001b]8;;\u001b\\\u001b[2m:\u001b[0m\u001b]8;id=482887;file://c:\\Users\\zadon\\AppData\\Local\\Programs\\Python\\Python313\\Lib\\site-packages\\manim\\scene\\scene_file_writer.py#739\u001b\\\u001b[2m739\u001b[0m\u001b]8;;\u001b\\\n"
      ]
     },
     "metadata": {},
     "output_type": "display_data"
    },
    {
     "data": {
      "text/html": [
       "<pre style=\"white-space:pre;overflow-x:auto;line-height:normal;font-family:Menlo,'DejaVu Sans Mono',consolas,'Courier New',monospace\"><span style=\"color: #7fbfbf; text-decoration-color: #7fbfbf\">                    </span><span style=\"color: #008000; text-decoration-color: #008000\">INFO    </span>                                                               <a href=\"file://c:\\Users\\zadon\\AppData\\Local\\Programs\\Python\\Python313\\Lib\\site-packages\\manim\\scene\\scene_file_writer.py\" target=\"_blank\"><span style=\"color: #7f7f7f; text-decoration-color: #7f7f7f\">scene_file_writer.py</span></a><span style=\"color: #7f7f7f; text-decoration-color: #7f7f7f\">:</span><a href=\"file://c:\\Users\\zadon\\AppData\\Local\\Programs\\Python\\Python313\\Lib\\site-packages\\manim\\scene\\scene_file_writer.py#886\" target=\"_blank\"><span style=\"color: #7f7f7f; text-decoration-color: #7f7f7f\">886</span></a>\n",
       "<span style=\"color: #7fbfbf; text-decoration-color: #7fbfbf\">                    </span>         <span style=\"color: #808000; text-decoration-color: #808000; font-weight: bold\">File</span> ready at                                                 <span style=\"color: #7f7f7f; text-decoration-color: #7f7f7f\">                        </span>\n",
       "<span style=\"color: #7fbfbf; text-decoration-color: #7fbfbf\">                    </span>         <span style=\"color: #008000; text-decoration-color: #008000\">'C:\\Users\\zadon\\Manim\\EN540205-6\\de_206\\jupyter_notebooks\\med</span> <span style=\"color: #7f7f7f; text-decoration-color: #7f7f7f\">                        </span>\n",
       "<span style=\"color: #7fbfbf; text-decoration-color: #7fbfbf\">                    </span>         <span style=\"color: #008000; text-decoration-color: #008000\">ia\\videos\\jupyter_notebooks\\720p30\\EulerStreamWithSolutions.m</span> <span style=\"color: #7f7f7f; text-decoration-color: #7f7f7f\">                        </span>\n",
       "<span style=\"color: #7fbfbf; text-decoration-color: #7fbfbf\">                    </span>         <span style=\"color: #008000; text-decoration-color: #008000\">p4'</span>                                                           <span style=\"color: #7f7f7f; text-decoration-color: #7f7f7f\">                        </span>\n",
       "<span style=\"color: #7fbfbf; text-decoration-color: #7fbfbf\">                    </span>                                                                       <span style=\"color: #7f7f7f; text-decoration-color: #7f7f7f\">                        </span>\n",
       "</pre>\n"
      ],
      "text/plain": [
       "\u001b[2;36m                   \u001b[0m\u001b[2;36m \u001b[0m\u001b[32mINFO    \u001b[0m                                                               \u001b]8;id=186033;file://c:\\Users\\zadon\\AppData\\Local\\Programs\\Python\\Python313\\Lib\\site-packages\\manim\\scene\\scene_file_writer.py\u001b\\\u001b[2mscene_file_writer.py\u001b[0m\u001b]8;;\u001b\\\u001b[2m:\u001b[0m\u001b]8;id=852164;file://c:\\Users\\zadon\\AppData\\Local\\Programs\\Python\\Python313\\Lib\\site-packages\\manim\\scene\\scene_file_writer.py#886\u001b\\\u001b[2m886\u001b[0m\u001b]8;;\u001b\\\n",
       "\u001b[2;36m                    \u001b[0m         \u001b[1;33mFile\u001b[0m ready at                                                 \u001b[2m                        \u001b[0m\n",
       "\u001b[2;36m                    \u001b[0m         \u001b[32m'C:\\Users\\zadon\\Manim\\EN540205-6\\de_206\\jupyter_notebooks\\med\u001b[0m \u001b[2m                        \u001b[0m\n",
       "\u001b[2;36m                    \u001b[0m         \u001b[32mia\\videos\\jupyter_notebooks\\720p30\\EulerStreamWithSolutions.m\u001b[0m \u001b[2m                        \u001b[0m\n",
       "\u001b[2;36m                    \u001b[0m         \u001b[32mp4'\u001b[0m                                                           \u001b[2m                        \u001b[0m\n",
       "\u001b[2;36m                    \u001b[0m                                                                       \u001b[2m                        \u001b[0m\n"
      ]
     },
     "metadata": {},
     "output_type": "display_data"
    },
    {
     "data": {
      "text/html": [
       "<pre style=\"white-space:pre;overflow-x:auto;line-height:normal;font-family:Menlo,'DejaVu Sans Mono',consolas,'Courier New',monospace\"><span style=\"color: #7fbfbf; text-decoration-color: #7fbfbf\">                    </span><span style=\"color: #008000; text-decoration-color: #008000\">INFO    </span> <span style=\"color: #808000; text-decoration-color: #808000; font-weight: bold\">Rendered</span> EulerStreamWithSolutions                                         <a href=\"file://c:\\Users\\zadon\\AppData\\Local\\Programs\\Python\\Python313\\Lib\\site-packages\\manim\\scene\\scene.py\" target=\"_blank\"><span style=\"color: #7f7f7f; text-decoration-color: #7f7f7f\">scene.py</span></a><span style=\"color: #7f7f7f; text-decoration-color: #7f7f7f\">:</span><a href=\"file://c:\\Users\\zadon\\AppData\\Local\\Programs\\Python\\Python313\\Lib\\site-packages\\manim\\scene\\scene.py#255\" target=\"_blank\"><span style=\"color: #7f7f7f; text-decoration-color: #7f7f7f\">255</span></a>\n",
       "<span style=\"color: #7fbfbf; text-decoration-color: #7fbfbf\">                    </span>         <span style=\"color: #808000; text-decoration-color: #808000; font-weight: bold\">Played</span> <span style=\"color: #008000; text-decoration-color: #008000\">1</span> <span style=\"color: #808000; text-decoration-color: #808000; font-weight: bold\">animations</span>                                                       <span style=\"color: #7f7f7f; text-decoration-color: #7f7f7f\">            </span>\n",
       "</pre>\n"
      ],
      "text/plain": [
       "\u001b[2;36m                   \u001b[0m\u001b[2;36m \u001b[0m\u001b[32mINFO    \u001b[0m \u001b[1;33mRendered\u001b[0m EulerStreamWithSolutions                                         \u001b]8;id=138165;file://c:\\Users\\zadon\\AppData\\Local\\Programs\\Python\\Python313\\Lib\\site-packages\\manim\\scene\\scene.py\u001b\\\u001b[2mscene.py\u001b[0m\u001b]8;;\u001b\\\u001b[2m:\u001b[0m\u001b]8;id=414957;file://c:\\Users\\zadon\\AppData\\Local\\Programs\\Python\\Python313\\Lib\\site-packages\\manim\\scene\\scene.py#255\u001b\\\u001b[2m255\u001b[0m\u001b]8;;\u001b\\\n",
       "\u001b[2;36m                    \u001b[0m         \u001b[1;33mPlayed\u001b[0m \u001b[32m1\u001b[0m \u001b[1;33manimations\u001b[0m                                                       \u001b[2m            \u001b[0m\n"
      ]
     },
     "metadata": {},
     "output_type": "display_data"
    },
    {
     "data": {
      "text/html": [
       "<video src=\"media\\jupyter\\EulerStreamWithSolutions@2025-06-30@19-30-39.mp4\" controls autoplay loop style=\"max-width: 60%;\"  >\n",
       "      Your browser does not support the <code>video</code> element.\n",
       "    </video>"
      ],
      "text/plain": [
       "<IPython.core.display.Video object>"
      ]
     },
     "metadata": {},
     "output_type": "display_data"
    }
   ],
   "source": [
    "%%manim -qm EulerStreamWithSolutions\n",
    "\n",
    "from manim import *\n",
    "import numpy as np\n",
    "\n",
    "def euler_solution(alpha, t_max=5, h=0.01):\n",
    "    N = int(t_max/h) + 1\n",
    "    t_vals = np.linspace(0, t_max, N)\n",
    "    y_vals = np.zeros_like(t_vals)\n",
    "    y_vals[0] = alpha\n",
    "    for i in range(1, N):\n",
    "        y_vals[i] = y_vals[i-1] + h * (y_vals[i-1]**2 - t_vals[i-1]**2)\n",
    "    return t_vals, y_vals\n",
    "\n",
    "class EulerStreamWithSolutions(Scene):\n",
    "    def construct(self):\n",
    "        axes = Axes(\n",
    "            x_range=[-5, 5],\n",
    "            y_range=[-5, 5],\n",
    "        )\n",
    "\n",
    "        def func(pos):\n",
    "            t, y = axes.p2c(pos)[:2]\n",
    "            dydt = y**2 - t**2\n",
    "            return axes.c2p(1, dydt) - axes.c2p(0, 0)\n",
    "\n",
    "        stream_lines = StreamLines(\n",
    "            func,\n",
    "            x_range=[-5, 5],\n",
    "            y_range=[-5, 5],\n",
    "            padding=0.5,\n",
    "            stroke_width=2,\n",
    "            max_anchors_per_line=50,\n",
    "            color=BLUE,\n",
    "        )\n",
    "\n",
    "        self.add(axes, stream_lines)\n",
    "        stream_lines.start_animation(warm_up=False, flow_speed=1.5)\n",
    "\n",
    "        alpha_values = [0.63, 0.65,0.67] # NEED TO EXPLORE ISSUES WITH HIGHER ALPHA VALUES\n",
    "        for y0 in alpha_values:\n",
    "            t_vals, y_vals = euler_solution(y0, t_max=5, h=0.05)\n",
    "            euler_curve = VMobject(color=RED).set_points_as_corners(\n",
    "                [axes.c2p(t, y) for t, y in zip(t_vals, y_vals)]\n",
    "            ).set_stroke(width=3)\n",
    "            self.add(euler_curve)\n",
    "        self.wait(8)"
   ]
  }
 ],
 "metadata": {
  "kernelspec": {
   "display_name": "Python 3",
   "language": "python",
   "name": "python3"
  },
  "language_info": {
   "codemirror_mode": {
    "name": "ipython",
    "version": 3
   },
   "file_extension": ".py",
   "mimetype": "text/x-python",
   "name": "python",
   "nbconvert_exporter": "python",
   "pygments_lexer": "ipython3",
   "version": "3.13.5"
  }
 },
 "nbformat": 4,
 "nbformat_minor": 5
}
