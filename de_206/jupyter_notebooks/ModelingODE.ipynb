{
 "cells": [
  {
   "cell_type": "markdown",
   "id": "f24c8b43",
   "metadata": {},
   "source": [
    "# Exploration: \n",
    "\n",
    "Let's look at the first-order autonomous ODE:\n",
    "$$\n",
    "\\frac{dx}{dt} = x^2 − 2x + c\n",
    "$$\n",
    "\n",
    "with parameter $c \\in \\mathbb{R}$"
   ]
  },
  {
   "cell_type": "markdown",
   "id": "9a9fe604",
   "metadata": {},
   "source": [
    "___________________________________________________________________________________________________________________________________________________________"
   ]
  },
  {
   "cell_type": "markdown",
   "id": "6915272e",
   "metadata": {},
   "source": [
    "(a) Sketch qualitatively different graphs of \n",
    "$$\n",
    "f(x) = x^2 − 2x + c\n",
    "$$\n",
    "as $c$ is varied\n",
    "\n",
    "(Hint: It might be helpful to solve for the critical points in terms of the parameter $c$)."
   ]
  },
  {
   "cell_type": "code",
   "execution_count": 3,
   "id": "3a963b0e",
   "metadata": {},
   "outputs": [],
   "source": [
    "from manim import *\n",
    "import numpy as np\n",
    "\n",
    "# For efficient module importing, would be better to use a conda environment or venv\n",
    "import sys\n",
    "import os\n",
    "sys.path.append(os.path.abspath(os.path.join(os.getcwd(), \"../..\")))\n",
    "\n",
    "from de_206.utils.PL.PLgrouper import vertical_stack  "
   ]
  },
  {
   "cell_type": "code",
   "execution_count": 2,
   "id": "ca5e6909",
   "metadata": {},
   "outputs": [
    {
     "data": {
      "text/html": [
       "<pre style=\"white-space:pre;overflow-x:auto;line-height:normal;font-family:Menlo,'DejaVu Sans Mono',consolas,'Courier New',monospace\">Manim Community <span style=\"color: #008000; text-decoration-color: #008000\">v0.19.0</span>\n",
       "\n",
       "</pre>\n"
      ],
      "text/plain": [
       "Manim Community \u001b[32mv0.\u001b[0m\u001b[32m19.0\u001b[0m\n",
       "\n"
      ]
     },
     "metadata": {},
     "output_type": "display_data"
    },
    {
     "data": {
      "text/html": [
       "<pre style=\"white-space:pre;overflow-x:auto;line-height:normal;font-family:Menlo,'DejaVu Sans Mono',consolas,'Courier New',monospace\"><span style=\"color: #7fbfbf; text-decoration-color: #7fbfbf\">[07/06/25 14:25:34] </span><span style=\"color: #008000; text-decoration-color: #008000\">INFO    </span> <span style=\"color: #808000; text-decoration-color: #808000; font-weight: bold\">Writing</span> <span style=\"color: #800080; text-decoration-color: #800080; font-weight: bold\">f</span><span style=\"font-weight: bold\">(</span>x<span style=\"font-weight: bold\">)</span> to media\\Tex\\70b3a8630e8c4922.tex                 <a href=\"file://c:\\Users\\ihuss\\AppData\\Local\\Programs\\Python\\Python313\\Lib\\site-packages\\manim\\utils\\tex_file_writing.py\" target=\"_blank\"><span style=\"color: #7f7f7f; text-decoration-color: #7f7f7f\">tex_file_writing.py</span></a><span style=\"color: #7f7f7f; text-decoration-color: #7f7f7f\">:</span><a href=\"file://c:\\Users\\ihuss\\AppData\\Local\\Programs\\Python\\Python313\\Lib\\site-packages\\manim\\utils\\tex_file_writing.py#111\" target=\"_blank\"><span style=\"color: #7f7f7f; text-decoration-color: #7f7f7f\">111</span></a>\n",
       "</pre>\n"
      ],
      "text/plain": [
       "\u001b[2;36m[07/06/25 14:25:34]\u001b[0m\u001b[2;36m \u001b[0m\u001b[32mINFO    \u001b[0m \u001b[1;33mWriting\u001b[0m \u001b[1;35mf\u001b[0m\u001b[1m(\u001b[0mx\u001b[1m)\u001b[0m to media\\Tex\\70b3a8630e8c4922.tex                 \u001b]8;id=375893;file://c:\\Users\\ihuss\\AppData\\Local\\Programs\\Python\\Python313\\Lib\\site-packages\\manim\\utils\\tex_file_writing.py\u001b\\\u001b[2mtex_file_writing.py\u001b[0m\u001b]8;;\u001b\\\u001b[2m:\u001b[0m\u001b]8;id=569174;file://c:\\Users\\ihuss\\AppData\\Local\\Programs\\Python\\Python313\\Lib\\site-packages\\manim\\utils\\tex_file_writing.py#111\u001b\\\u001b[2m111\u001b[0m\u001b]8;;\u001b\\\n"
      ]
     },
     "metadata": {},
     "output_type": "display_data"
    },
    {
     "name": "stderr",
     "output_type": "stream",
     "text": [
      "                                                                                                  \r"
     ]
    },
    {
     "data": {
      "text/html": [
       "<pre style=\"white-space:pre;overflow-x:auto;line-height:normal;font-family:Menlo,'DejaVu Sans Mono',consolas,'Courier New',monospace\"><span style=\"color: #7fbfbf; text-decoration-color: #7fbfbf\">[07/06/25 14:25:36] </span><span style=\"color: #008000; text-decoration-color: #008000\">INFO    </span> Animation <span style=\"color: #008000; text-decoration-color: #008000\">0</span> : Partial movie file written in                   <a href=\"file://c:\\Users\\ihuss\\AppData\\Local\\Programs\\Python\\Python313\\Lib\\site-packages\\manim\\scene\\scene_file_writer.py\" target=\"_blank\"><span style=\"color: #7f7f7f; text-decoration-color: #7f7f7f\">scene_file_writer.py</span></a><span style=\"color: #7f7f7f; text-decoration-color: #7f7f7f\">:</span><a href=\"file://c:\\Users\\ihuss\\AppData\\Local\\Programs\\Python\\Python313\\Lib\\site-packages\\manim\\scene\\scene_file_writer.py#588\" target=\"_blank\"><span style=\"color: #7f7f7f; text-decoration-color: #7f7f7f\">588</span></a>\n",
       "<span style=\"color: #7fbfbf; text-decoration-color: #7fbfbf\">                    </span>         <span style=\"color: #008000; text-decoration-color: #008000\">'C:\\Users\\ihuss\\EN540205-6\\de_206\\jupyter_notebooks\\media\\vid</span> <span style=\"color: #7f7f7f; text-decoration-color: #7f7f7f\">                        </span>\n",
       "<span style=\"color: #7fbfbf; text-decoration-color: #7fbfbf\">                    </span>         <span style=\"color: #008000; text-decoration-color: #008000\">eos\\jupyter_notebooks\\720p30\\partial_movie_files\\PlotCValues\\</span> <span style=\"color: #7f7f7f; text-decoration-color: #7f7f7f\">                        </span>\n",
       "<span style=\"color: #7fbfbf; text-decoration-color: #7fbfbf\">                    </span>         <span style=\"color: #008000; text-decoration-color: #008000\">2016333726_1894999357_223132457.mp4'</span>                          <span style=\"color: #7f7f7f; text-decoration-color: #7f7f7f\">                        </span>\n",
       "</pre>\n"
      ],
      "text/plain": [
       "\u001b[2;36m[07/06/25 14:25:36]\u001b[0m\u001b[2;36m \u001b[0m\u001b[32mINFO    \u001b[0m Animation \u001b[32m0\u001b[0m : Partial movie file written in                   \u001b]8;id=792805;file://c:\\Users\\ihuss\\AppData\\Local\\Programs\\Python\\Python313\\Lib\\site-packages\\manim\\scene\\scene_file_writer.py\u001b\\\u001b[2mscene_file_writer.py\u001b[0m\u001b]8;;\u001b\\\u001b[2m:\u001b[0m\u001b]8;id=558877;file://c:\\Users\\ihuss\\AppData\\Local\\Programs\\Python\\Python313\\Lib\\site-packages\\manim\\scene\\scene_file_writer.py#588\u001b\\\u001b[2m588\u001b[0m\u001b]8;;\u001b\\\n",
       "\u001b[2;36m                    \u001b[0m         \u001b[32m'C:\\Users\\ihuss\\EN540205-6\\de_206\\jupyter_notebooks\\media\\vid\u001b[0m \u001b[2m                        \u001b[0m\n",
       "\u001b[2;36m                    \u001b[0m         \u001b[32meos\\jupyter_notebooks\\720p30\\partial_movie_files\\PlotCValues\\\u001b[0m \u001b[2m                        \u001b[0m\n",
       "\u001b[2;36m                    \u001b[0m         \u001b[32m2016333726_1894999357_223132457.mp4'\u001b[0m                          \u001b[2m                        \u001b[0m\n"
      ]
     },
     "metadata": {},
     "output_type": "display_data"
    },
    {
     "data": {
      "text/html": [
       "<pre style=\"white-space:pre;overflow-x:auto;line-height:normal;font-family:Menlo,'DejaVu Sans Mono',consolas,'Courier New',monospace\"><span style=\"color: #7fbfbf; text-decoration-color: #7fbfbf\">                    </span><span style=\"color: #008000; text-decoration-color: #008000\">INFO    </span> <span style=\"color: #808000; text-decoration-color: #808000; font-weight: bold\">Writing</span> <span style=\"color: #808000; text-decoration-color: #808000\">c</span>=<span style=\"color: #008000; text-decoration-color: #008000\">-2</span> to media\\Tex\\1ca6e478ff00602b.tex                 <a href=\"file://c:\\Users\\ihuss\\AppData\\Local\\Programs\\Python\\Python313\\Lib\\site-packages\\manim\\utils\\tex_file_writing.py\" target=\"_blank\"><span style=\"color: #7f7f7f; text-decoration-color: #7f7f7f\">tex_file_writing.py</span></a><span style=\"color: #7f7f7f; text-decoration-color: #7f7f7f\">:</span><a href=\"file://c:\\Users\\ihuss\\AppData\\Local\\Programs\\Python\\Python313\\Lib\\site-packages\\manim\\utils\\tex_file_writing.py#111\" target=\"_blank\"><span style=\"color: #7f7f7f; text-decoration-color: #7f7f7f\">111</span></a>\n",
       "</pre>\n"
      ],
      "text/plain": [
       "\u001b[2;36m                   \u001b[0m\u001b[2;36m \u001b[0m\u001b[32mINFO    \u001b[0m \u001b[1;33mWriting\u001b[0m \u001b[33mc\u001b[0m=\u001b[32m-2\u001b[0m to media\\Tex\\1ca6e478ff00602b.tex                 \u001b]8;id=134271;file://c:\\Users\\ihuss\\AppData\\Local\\Programs\\Python\\Python313\\Lib\\site-packages\\manim\\utils\\tex_file_writing.py\u001b\\\u001b[2mtex_file_writing.py\u001b[0m\u001b]8;;\u001b\\\u001b[2m:\u001b[0m\u001b]8;id=581142;file://c:\\Users\\ihuss\\AppData\\Local\\Programs\\Python\\Python313\\Lib\\site-packages\\manim\\utils\\tex_file_writing.py#111\u001b\\\u001b[2m111\u001b[0m\u001b]8;;\u001b\\\n"
      ]
     },
     "metadata": {},
     "output_type": "display_data"
    },
    {
     "name": "stderr",
     "output_type": "stream",
     "text": [
      "                                                                                               \r"
     ]
    },
    {
     "data": {
      "text/html": [
       "<pre style=\"white-space:pre;overflow-x:auto;line-height:normal;font-family:Menlo,'DejaVu Sans Mono',consolas,'Courier New',monospace\"><span style=\"color: #7fbfbf; text-decoration-color: #7fbfbf\">[07/06/25 14:25:38] </span><span style=\"color: #008000; text-decoration-color: #008000\">INFO    </span> Animation <span style=\"color: #008000; text-decoration-color: #008000\">1</span> : Partial movie file written in                   <a href=\"file://c:\\Users\\ihuss\\AppData\\Local\\Programs\\Python\\Python313\\Lib\\site-packages\\manim\\scene\\scene_file_writer.py\" target=\"_blank\"><span style=\"color: #7f7f7f; text-decoration-color: #7f7f7f\">scene_file_writer.py</span></a><span style=\"color: #7f7f7f; text-decoration-color: #7f7f7f\">:</span><a href=\"file://c:\\Users\\ihuss\\AppData\\Local\\Programs\\Python\\Python313\\Lib\\site-packages\\manim\\scene\\scene_file_writer.py#588\" target=\"_blank\"><span style=\"color: #7f7f7f; text-decoration-color: #7f7f7f\">588</span></a>\n",
       "<span style=\"color: #7fbfbf; text-decoration-color: #7fbfbf\">                    </span>         <span style=\"color: #008000; text-decoration-color: #008000\">'C:\\Users\\ihuss\\EN540205-6\\de_206\\jupyter_notebooks\\media\\vid</span> <span style=\"color: #7f7f7f; text-decoration-color: #7f7f7f\">                        </span>\n",
       "<span style=\"color: #7fbfbf; text-decoration-color: #7fbfbf\">                    </span>         <span style=\"color: #008000; text-decoration-color: #008000\">eos\\jupyter_notebooks\\720p30\\partial_movie_files\\PlotCValues\\</span> <span style=\"color: #7f7f7f; text-decoration-color: #7f7f7f\">                        </span>\n",
       "<span style=\"color: #7fbfbf; text-decoration-color: #7fbfbf\">                    </span>         <span style=\"color: #008000; text-decoration-color: #008000\">543634251_127135083_336296250.mp4'</span>                            <span style=\"color: #7f7f7f; text-decoration-color: #7f7f7f\">                        </span>\n",
       "</pre>\n"
      ],
      "text/plain": [
       "\u001b[2;36m[07/06/25 14:25:38]\u001b[0m\u001b[2;36m \u001b[0m\u001b[32mINFO    \u001b[0m Animation \u001b[32m1\u001b[0m : Partial movie file written in                   \u001b]8;id=41734;file://c:\\Users\\ihuss\\AppData\\Local\\Programs\\Python\\Python313\\Lib\\site-packages\\manim\\scene\\scene_file_writer.py\u001b\\\u001b[2mscene_file_writer.py\u001b[0m\u001b]8;;\u001b\\\u001b[2m:\u001b[0m\u001b]8;id=598603;file://c:\\Users\\ihuss\\AppData\\Local\\Programs\\Python\\Python313\\Lib\\site-packages\\manim\\scene\\scene_file_writer.py#588\u001b\\\u001b[2m588\u001b[0m\u001b]8;;\u001b\\\n",
       "\u001b[2;36m                    \u001b[0m         \u001b[32m'C:\\Users\\ihuss\\EN540205-6\\de_206\\jupyter_notebooks\\media\\vid\u001b[0m \u001b[2m                        \u001b[0m\n",
       "\u001b[2;36m                    \u001b[0m         \u001b[32meos\\jupyter_notebooks\\720p30\\partial_movie_files\\PlotCValues\\\u001b[0m \u001b[2m                        \u001b[0m\n",
       "\u001b[2;36m                    \u001b[0m         \u001b[32m543634251_127135083_336296250.mp4'\u001b[0m                            \u001b[2m                        \u001b[0m\n"
      ]
     },
     "metadata": {},
     "output_type": "display_data"
    },
    {
     "data": {
      "text/html": [
       "<pre style=\"white-space:pre;overflow-x:auto;line-height:normal;font-family:Menlo,'DejaVu Sans Mono',consolas,'Courier New',monospace\"><span style=\"color: #7fbfbf; text-decoration-color: #7fbfbf\">                    </span><span style=\"color: #008000; text-decoration-color: #008000\">INFO    </span> Animation <span style=\"color: #008000; text-decoration-color: #008000\">2</span> : Partial movie file written in                   <a href=\"file://c:\\Users\\ihuss\\AppData\\Local\\Programs\\Python\\Python313\\Lib\\site-packages\\manim\\scene\\scene_file_writer.py\" target=\"_blank\"><span style=\"color: #7f7f7f; text-decoration-color: #7f7f7f\">scene_file_writer.py</span></a><span style=\"color: #7f7f7f; text-decoration-color: #7f7f7f\">:</span><a href=\"file://c:\\Users\\ihuss\\AppData\\Local\\Programs\\Python\\Python313\\Lib\\site-packages\\manim\\scene\\scene_file_writer.py#588\" target=\"_blank\"><span style=\"color: #7f7f7f; text-decoration-color: #7f7f7f\">588</span></a>\n",
       "<span style=\"color: #7fbfbf; text-decoration-color: #7fbfbf\">                    </span>         <span style=\"color: #008000; text-decoration-color: #008000\">'C:\\Users\\ihuss\\EN540205-6\\de_206\\jupyter_notebooks\\media\\vid</span> <span style=\"color: #7f7f7f; text-decoration-color: #7f7f7f\">                        </span>\n",
       "<span style=\"color: #7fbfbf; text-decoration-color: #7fbfbf\">                    </span>         <span style=\"color: #008000; text-decoration-color: #008000\">eos\\jupyter_notebooks\\720p30\\partial_movie_files\\PlotCValues\\</span> <span style=\"color: #7f7f7f; text-decoration-color: #7f7f7f\">                        </span>\n",
       "<span style=\"color: #7fbfbf; text-decoration-color: #7fbfbf\">                    </span>         <span style=\"color: #008000; text-decoration-color: #008000\">543634251_3201849554_497561855.mp4'</span>                           <span style=\"color: #7f7f7f; text-decoration-color: #7f7f7f\">                        </span>\n",
       "</pre>\n"
      ],
      "text/plain": [
       "\u001b[2;36m                   \u001b[0m\u001b[2;36m \u001b[0m\u001b[32mINFO    \u001b[0m Animation \u001b[32m2\u001b[0m : Partial movie file written in                   \u001b]8;id=920386;file://c:\\Users\\ihuss\\AppData\\Local\\Programs\\Python\\Python313\\Lib\\site-packages\\manim\\scene\\scene_file_writer.py\u001b\\\u001b[2mscene_file_writer.py\u001b[0m\u001b]8;;\u001b\\\u001b[2m:\u001b[0m\u001b]8;id=171058;file://c:\\Users\\ihuss\\AppData\\Local\\Programs\\Python\\Python313\\Lib\\site-packages\\manim\\scene\\scene_file_writer.py#588\u001b\\\u001b[2m588\u001b[0m\u001b]8;;\u001b\\\n",
       "\u001b[2;36m                    \u001b[0m         \u001b[32m'C:\\Users\\ihuss\\EN540205-6\\de_206\\jupyter_notebooks\\media\\vid\u001b[0m \u001b[2m                        \u001b[0m\n",
       "\u001b[2;36m                    \u001b[0m         \u001b[32meos\\jupyter_notebooks\\720p30\\partial_movie_files\\PlotCValues\\\u001b[0m \u001b[2m                        \u001b[0m\n",
       "\u001b[2;36m                    \u001b[0m         \u001b[32m543634251_3201849554_497561855.mp4'\u001b[0m                           \u001b[2m                        \u001b[0m\n"
      ]
     },
     "metadata": {},
     "output_type": "display_data"
    },
    {
     "data": {
      "text/html": [
       "<pre style=\"white-space:pre;overflow-x:auto;line-height:normal;font-family:Menlo,'DejaVu Sans Mono',consolas,'Courier New',monospace\"><span style=\"color: #7fbfbf; text-decoration-color: #7fbfbf\">                    </span><span style=\"color: #008000; text-decoration-color: #008000\">INFO    </span> <span style=\"color: #808000; text-decoration-color: #808000; font-weight: bold\">Writing</span> <span style=\"color: #808000; text-decoration-color: #808000\">c</span>=<span style=\"color: #008000; text-decoration-color: #008000\">1</span> to media\\Tex\\b3210e90b6d9be6f.tex                  <a href=\"file://c:\\Users\\ihuss\\AppData\\Local\\Programs\\Python\\Python313\\Lib\\site-packages\\manim\\utils\\tex_file_writing.py\" target=\"_blank\"><span style=\"color: #7f7f7f; text-decoration-color: #7f7f7f\">tex_file_writing.py</span></a><span style=\"color: #7f7f7f; text-decoration-color: #7f7f7f\">:</span><a href=\"file://c:\\Users\\ihuss\\AppData\\Local\\Programs\\Python\\Python313\\Lib\\site-packages\\manim\\utils\\tex_file_writing.py#111\" target=\"_blank\"><span style=\"color: #7f7f7f; text-decoration-color: #7f7f7f\">111</span></a>\n",
       "</pre>\n"
      ],
      "text/plain": [
       "\u001b[2;36m                   \u001b[0m\u001b[2;36m \u001b[0m\u001b[32mINFO    \u001b[0m \u001b[1;33mWriting\u001b[0m \u001b[33mc\u001b[0m=\u001b[32m1\u001b[0m to media\\Tex\\b3210e90b6d9be6f.tex                  \u001b]8;id=825810;file://c:\\Users\\ihuss\\AppData\\Local\\Programs\\Python\\Python313\\Lib\\site-packages\\manim\\utils\\tex_file_writing.py\u001b\\\u001b[2mtex_file_writing.py\u001b[0m\u001b]8;;\u001b\\\u001b[2m:\u001b[0m\u001b]8;id=614370;file://c:\\Users\\ihuss\\AppData\\Local\\Programs\\Python\\Python313\\Lib\\site-packages\\manim\\utils\\tex_file_writing.py#111\u001b\\\u001b[2m111\u001b[0m\u001b]8;;\u001b\\\n"
      ]
     },
     "metadata": {},
     "output_type": "display_data"
    },
    {
     "name": "stderr",
     "output_type": "stream",
     "text": [
      "                                                                                               \r"
     ]
    },
    {
     "data": {
      "text/html": [
       "<pre style=\"white-space:pre;overflow-x:auto;line-height:normal;font-family:Menlo,'DejaVu Sans Mono',consolas,'Courier New',monospace\"><span style=\"color: #7fbfbf; text-decoration-color: #7fbfbf\">[07/06/25 14:25:40] </span><span style=\"color: #008000; text-decoration-color: #008000\">INFO    </span> Animation <span style=\"color: #008000; text-decoration-color: #008000\">3</span> : Partial movie file written in                   <a href=\"file://c:\\Users\\ihuss\\AppData\\Local\\Programs\\Python\\Python313\\Lib\\site-packages\\manim\\scene\\scene_file_writer.py\" target=\"_blank\"><span style=\"color: #7f7f7f; text-decoration-color: #7f7f7f\">scene_file_writer.py</span></a><span style=\"color: #7f7f7f; text-decoration-color: #7f7f7f\">:</span><a href=\"file://c:\\Users\\ihuss\\AppData\\Local\\Programs\\Python\\Python313\\Lib\\site-packages\\manim\\scene\\scene_file_writer.py#588\" target=\"_blank\"><span style=\"color: #7f7f7f; text-decoration-color: #7f7f7f\">588</span></a>\n",
       "<span style=\"color: #7fbfbf; text-decoration-color: #7fbfbf\">                    </span>         <span style=\"color: #008000; text-decoration-color: #008000\">'C:\\Users\\ihuss\\EN540205-6\\de_206\\jupyter_notebooks\\media\\vid</span> <span style=\"color: #7f7f7f; text-decoration-color: #7f7f7f\">                        </span>\n",
       "<span style=\"color: #7fbfbf; text-decoration-color: #7fbfbf\">                    </span>         <span style=\"color: #008000; text-decoration-color: #008000\">eos\\jupyter_notebooks\\720p30\\partial_movie_files\\PlotCValues\\</span> <span style=\"color: #7f7f7f; text-decoration-color: #7f7f7f\">                        </span>\n",
       "<span style=\"color: #7fbfbf; text-decoration-color: #7fbfbf\">                    </span>         <span style=\"color: #008000; text-decoration-color: #008000\">543634251_1523824704_1265783405.mp4'</span>                          <span style=\"color: #7f7f7f; text-decoration-color: #7f7f7f\">                        </span>\n",
       "</pre>\n"
      ],
      "text/plain": [
       "\u001b[2;36m[07/06/25 14:25:40]\u001b[0m\u001b[2;36m \u001b[0m\u001b[32mINFO    \u001b[0m Animation \u001b[32m3\u001b[0m : Partial movie file written in                   \u001b]8;id=872961;file://c:\\Users\\ihuss\\AppData\\Local\\Programs\\Python\\Python313\\Lib\\site-packages\\manim\\scene\\scene_file_writer.py\u001b\\\u001b[2mscene_file_writer.py\u001b[0m\u001b]8;;\u001b\\\u001b[2m:\u001b[0m\u001b]8;id=610201;file://c:\\Users\\ihuss\\AppData\\Local\\Programs\\Python\\Python313\\Lib\\site-packages\\manim\\scene\\scene_file_writer.py#588\u001b\\\u001b[2m588\u001b[0m\u001b]8;;\u001b\\\n",
       "\u001b[2;36m                    \u001b[0m         \u001b[32m'C:\\Users\\ihuss\\EN540205-6\\de_206\\jupyter_notebooks\\media\\vid\u001b[0m \u001b[2m                        \u001b[0m\n",
       "\u001b[2;36m                    \u001b[0m         \u001b[32meos\\jupyter_notebooks\\720p30\\partial_movie_files\\PlotCValues\\\u001b[0m \u001b[2m                        \u001b[0m\n",
       "\u001b[2;36m                    \u001b[0m         \u001b[32m543634251_1523824704_1265783405.mp4'\u001b[0m                          \u001b[2m                        \u001b[0m\n"
      ]
     },
     "metadata": {},
     "output_type": "display_data"
    },
    {
     "data": {
      "text/html": [
       "<pre style=\"white-space:pre;overflow-x:auto;line-height:normal;font-family:Menlo,'DejaVu Sans Mono',consolas,'Courier New',monospace\"><span style=\"color: #7fbfbf; text-decoration-color: #7fbfbf\">                    </span><span style=\"color: #008000; text-decoration-color: #008000\">INFO    </span> Animation <span style=\"color: #008000; text-decoration-color: #008000\">4</span> : Partial movie file written in                   <a href=\"file://c:\\Users\\ihuss\\AppData\\Local\\Programs\\Python\\Python313\\Lib\\site-packages\\manim\\scene\\scene_file_writer.py\" target=\"_blank\"><span style=\"color: #7f7f7f; text-decoration-color: #7f7f7f\">scene_file_writer.py</span></a><span style=\"color: #7f7f7f; text-decoration-color: #7f7f7f\">:</span><a href=\"file://c:\\Users\\ihuss\\AppData\\Local\\Programs\\Python\\Python313\\Lib\\site-packages\\manim\\scene\\scene_file_writer.py#588\" target=\"_blank\"><span style=\"color: #7f7f7f; text-decoration-color: #7f7f7f\">588</span></a>\n",
       "<span style=\"color: #7fbfbf; text-decoration-color: #7fbfbf\">                    </span>         <span style=\"color: #008000; text-decoration-color: #008000\">'C:\\Users\\ihuss\\EN540205-6\\de_206\\jupyter_notebooks\\media\\vid</span> <span style=\"color: #7f7f7f; text-decoration-color: #7f7f7f\">                        </span>\n",
       "<span style=\"color: #7fbfbf; text-decoration-color: #7fbfbf\">                    </span>         <span style=\"color: #008000; text-decoration-color: #008000\">eos\\jupyter_notebooks\\720p30\\partial_movie_files\\PlotCValues\\</span> <span style=\"color: #7f7f7f; text-decoration-color: #7f7f7f\">                        </span>\n",
       "<span style=\"color: #7fbfbf; text-decoration-color: #7fbfbf\">                    </span>         <span style=\"color: #008000; text-decoration-color: #008000\">543634251_3201849554_62874382.mp4'</span>                            <span style=\"color: #7f7f7f; text-decoration-color: #7f7f7f\">                        </span>\n",
       "</pre>\n"
      ],
      "text/plain": [
       "\u001b[2;36m                   \u001b[0m\u001b[2;36m \u001b[0m\u001b[32mINFO    \u001b[0m Animation \u001b[32m4\u001b[0m : Partial movie file written in                   \u001b]8;id=698275;file://c:\\Users\\ihuss\\AppData\\Local\\Programs\\Python\\Python313\\Lib\\site-packages\\manim\\scene\\scene_file_writer.py\u001b\\\u001b[2mscene_file_writer.py\u001b[0m\u001b]8;;\u001b\\\u001b[2m:\u001b[0m\u001b]8;id=46150;file://c:\\Users\\ihuss\\AppData\\Local\\Programs\\Python\\Python313\\Lib\\site-packages\\manim\\scene\\scene_file_writer.py#588\u001b\\\u001b[2m588\u001b[0m\u001b]8;;\u001b\\\n",
       "\u001b[2;36m                    \u001b[0m         \u001b[32m'C:\\Users\\ihuss\\EN540205-6\\de_206\\jupyter_notebooks\\media\\vid\u001b[0m \u001b[2m                        \u001b[0m\n",
       "\u001b[2;36m                    \u001b[0m         \u001b[32meos\\jupyter_notebooks\\720p30\\partial_movie_files\\PlotCValues\\\u001b[0m \u001b[2m                        \u001b[0m\n",
       "\u001b[2;36m                    \u001b[0m         \u001b[32m543634251_3201849554_62874382.mp4'\u001b[0m                            \u001b[2m                        \u001b[0m\n"
      ]
     },
     "metadata": {},
     "output_type": "display_data"
    },
    {
     "data": {
      "text/html": [
       "<pre style=\"white-space:pre;overflow-x:auto;line-height:normal;font-family:Menlo,'DejaVu Sans Mono',consolas,'Courier New',monospace\"><span style=\"color: #7fbfbf; text-decoration-color: #7fbfbf\">                    </span><span style=\"color: #008000; text-decoration-color: #008000\">INFO    </span> <span style=\"color: #808000; text-decoration-color: #808000; font-weight: bold\">Writing</span> <span style=\"color: #808000; text-decoration-color: #808000\">c</span>=<span style=\"color: #008000; text-decoration-color: #008000\">2</span> to media\\Tex\\5c85146245bfa781.tex                  <a href=\"file://c:\\Users\\ihuss\\AppData\\Local\\Programs\\Python\\Python313\\Lib\\site-packages\\manim\\utils\\tex_file_writing.py\" target=\"_blank\"><span style=\"color: #7f7f7f; text-decoration-color: #7f7f7f\">tex_file_writing.py</span></a><span style=\"color: #7f7f7f; text-decoration-color: #7f7f7f\">:</span><a href=\"file://c:\\Users\\ihuss\\AppData\\Local\\Programs\\Python\\Python313\\Lib\\site-packages\\manim\\utils\\tex_file_writing.py#111\" target=\"_blank\"><span style=\"color: #7f7f7f; text-decoration-color: #7f7f7f\">111</span></a>\n",
       "</pre>\n"
      ],
      "text/plain": [
       "\u001b[2;36m                   \u001b[0m\u001b[2;36m \u001b[0m\u001b[32mINFO    \u001b[0m \u001b[1;33mWriting\u001b[0m \u001b[33mc\u001b[0m=\u001b[32m2\u001b[0m to media\\Tex\\5c85146245bfa781.tex                  \u001b]8;id=59146;file://c:\\Users\\ihuss\\AppData\\Local\\Programs\\Python\\Python313\\Lib\\site-packages\\manim\\utils\\tex_file_writing.py\u001b\\\u001b[2mtex_file_writing.py\u001b[0m\u001b]8;;\u001b\\\u001b[2m:\u001b[0m\u001b]8;id=26860;file://c:\\Users\\ihuss\\AppData\\Local\\Programs\\Python\\Python313\\Lib\\site-packages\\manim\\utils\\tex_file_writing.py#111\u001b\\\u001b[2m111\u001b[0m\u001b]8;;\u001b\\\n"
      ]
     },
     "metadata": {},
     "output_type": "display_data"
    },
    {
     "name": "stderr",
     "output_type": "stream",
     "text": [
      "                                                                                               \r"
     ]
    },
    {
     "data": {
      "text/html": [
       "<pre style=\"white-space:pre;overflow-x:auto;line-height:normal;font-family:Menlo,'DejaVu Sans Mono',consolas,'Courier New',monospace\"><span style=\"color: #7fbfbf; text-decoration-color: #7fbfbf\">[07/06/25 14:25:42] </span><span style=\"color: #008000; text-decoration-color: #008000\">INFO    </span> Animation <span style=\"color: #008000; text-decoration-color: #008000\">5</span> : Partial movie file written in                   <a href=\"file://c:\\Users\\ihuss\\AppData\\Local\\Programs\\Python\\Python313\\Lib\\site-packages\\manim\\scene\\scene_file_writer.py\" target=\"_blank\"><span style=\"color: #7f7f7f; text-decoration-color: #7f7f7f\">scene_file_writer.py</span></a><span style=\"color: #7f7f7f; text-decoration-color: #7f7f7f\">:</span><a href=\"file://c:\\Users\\ihuss\\AppData\\Local\\Programs\\Python\\Python313\\Lib\\site-packages\\manim\\scene\\scene_file_writer.py#588\" target=\"_blank\"><span style=\"color: #7f7f7f; text-decoration-color: #7f7f7f\">588</span></a>\n",
       "<span style=\"color: #7fbfbf; text-decoration-color: #7fbfbf\">                    </span>         <span style=\"color: #008000; text-decoration-color: #008000\">'C:\\Users\\ihuss\\EN540205-6\\de_206\\jupyter_notebooks\\media\\vid</span> <span style=\"color: #7f7f7f; text-decoration-color: #7f7f7f\">                        </span>\n",
       "<span style=\"color: #7fbfbf; text-decoration-color: #7fbfbf\">                    </span>         <span style=\"color: #008000; text-decoration-color: #008000\">eos\\jupyter_notebooks\\720p30\\partial_movie_files\\PlotCValues\\</span> <span style=\"color: #7f7f7f; text-decoration-color: #7f7f7f\">                        </span>\n",
       "<span style=\"color: #7fbfbf; text-decoration-color: #7fbfbf\">                    </span>         <span style=\"color: #008000; text-decoration-color: #008000\">543634251_326428087_3618959728.mp4'</span>                           <span style=\"color: #7f7f7f; text-decoration-color: #7f7f7f\">                        </span>\n",
       "</pre>\n"
      ],
      "text/plain": [
       "\u001b[2;36m[07/06/25 14:25:42]\u001b[0m\u001b[2;36m \u001b[0m\u001b[32mINFO    \u001b[0m Animation \u001b[32m5\u001b[0m : Partial movie file written in                   \u001b]8;id=554980;file://c:\\Users\\ihuss\\AppData\\Local\\Programs\\Python\\Python313\\Lib\\site-packages\\manim\\scene\\scene_file_writer.py\u001b\\\u001b[2mscene_file_writer.py\u001b[0m\u001b]8;;\u001b\\\u001b[2m:\u001b[0m\u001b]8;id=970198;file://c:\\Users\\ihuss\\AppData\\Local\\Programs\\Python\\Python313\\Lib\\site-packages\\manim\\scene\\scene_file_writer.py#588\u001b\\\u001b[2m588\u001b[0m\u001b]8;;\u001b\\\n",
       "\u001b[2;36m                    \u001b[0m         \u001b[32m'C:\\Users\\ihuss\\EN540205-6\\de_206\\jupyter_notebooks\\media\\vid\u001b[0m \u001b[2m                        \u001b[0m\n",
       "\u001b[2;36m                    \u001b[0m         \u001b[32meos\\jupyter_notebooks\\720p30\\partial_movie_files\\PlotCValues\\\u001b[0m \u001b[2m                        \u001b[0m\n",
       "\u001b[2;36m                    \u001b[0m         \u001b[32m543634251_326428087_3618959728.mp4'\u001b[0m                           \u001b[2m                        \u001b[0m\n"
      ]
     },
     "metadata": {},
     "output_type": "display_data"
    },
    {
     "data": {
      "text/html": [
       "<pre style=\"white-space:pre;overflow-x:auto;line-height:normal;font-family:Menlo,'DejaVu Sans Mono',consolas,'Courier New',monospace\"><span style=\"color: #7fbfbf; text-decoration-color: #7fbfbf\">                    </span><span style=\"color: #008000; text-decoration-color: #008000\">INFO    </span> Animation <span style=\"color: #008000; text-decoration-color: #008000\">6</span> : Partial movie file written in                   <a href=\"file://c:\\Users\\ihuss\\AppData\\Local\\Programs\\Python\\Python313\\Lib\\site-packages\\manim\\scene\\scene_file_writer.py\" target=\"_blank\"><span style=\"color: #7f7f7f; text-decoration-color: #7f7f7f\">scene_file_writer.py</span></a><span style=\"color: #7f7f7f; text-decoration-color: #7f7f7f\">:</span><a href=\"file://c:\\Users\\ihuss\\AppData\\Local\\Programs\\Python\\Python313\\Lib\\site-packages\\manim\\scene\\scene_file_writer.py#588\" target=\"_blank\"><span style=\"color: #7f7f7f; text-decoration-color: #7f7f7f\">588</span></a>\n",
       "<span style=\"color: #7fbfbf; text-decoration-color: #7fbfbf\">                    </span>         <span style=\"color: #008000; text-decoration-color: #008000\">'C:\\Users\\ihuss\\EN540205-6\\de_206\\jupyter_notebooks\\media\\vid</span> <span style=\"color: #7f7f7f; text-decoration-color: #7f7f7f\">                        </span>\n",
       "<span style=\"color: #7fbfbf; text-decoration-color: #7fbfbf\">                    </span>         <span style=\"color: #008000; text-decoration-color: #008000\">eos\\jupyter_notebooks\\720p30\\partial_movie_files\\PlotCValues\\</span> <span style=\"color: #7f7f7f; text-decoration-color: #7f7f7f\">                        </span>\n",
       "<span style=\"color: #7fbfbf; text-decoration-color: #7fbfbf\">                    </span>         <span style=\"color: #008000; text-decoration-color: #008000\">543634251_3201849554_2606404521.mp4'</span>                          <span style=\"color: #7f7f7f; text-decoration-color: #7f7f7f\">                        </span>\n",
       "</pre>\n"
      ],
      "text/plain": [
       "\u001b[2;36m                   \u001b[0m\u001b[2;36m \u001b[0m\u001b[32mINFO    \u001b[0m Animation \u001b[32m6\u001b[0m : Partial movie file written in                   \u001b]8;id=481525;file://c:\\Users\\ihuss\\AppData\\Local\\Programs\\Python\\Python313\\Lib\\site-packages\\manim\\scene\\scene_file_writer.py\u001b\\\u001b[2mscene_file_writer.py\u001b[0m\u001b]8;;\u001b\\\u001b[2m:\u001b[0m\u001b]8;id=417866;file://c:\\Users\\ihuss\\AppData\\Local\\Programs\\Python\\Python313\\Lib\\site-packages\\manim\\scene\\scene_file_writer.py#588\u001b\\\u001b[2m588\u001b[0m\u001b]8;;\u001b\\\n",
       "\u001b[2;36m                    \u001b[0m         \u001b[32m'C:\\Users\\ihuss\\EN540205-6\\de_206\\jupyter_notebooks\\media\\vid\u001b[0m \u001b[2m                        \u001b[0m\n",
       "\u001b[2;36m                    \u001b[0m         \u001b[32meos\\jupyter_notebooks\\720p30\\partial_movie_files\\PlotCValues\\\u001b[0m \u001b[2m                        \u001b[0m\n",
       "\u001b[2;36m                    \u001b[0m         \u001b[32m543634251_3201849554_2606404521.mp4'\u001b[0m                          \u001b[2m                        \u001b[0m\n"
      ]
     },
     "metadata": {},
     "output_type": "display_data"
    },
    {
     "data": {
      "text/html": [
       "<pre style=\"white-space:pre;overflow-x:auto;line-height:normal;font-family:Menlo,'DejaVu Sans Mono',consolas,'Courier New',monospace\"><span style=\"color: #7fbfbf; text-decoration-color: #7fbfbf\">[07/06/25 14:25:43] </span><span style=\"color: #008000; text-decoration-color: #008000\">INFO    </span> Animation <span style=\"color: #008000; text-decoration-color: #008000\">7</span> : Partial movie file written in                   <a href=\"file://c:\\Users\\ihuss\\AppData\\Local\\Programs\\Python\\Python313\\Lib\\site-packages\\manim\\scene\\scene_file_writer.py\" target=\"_blank\"><span style=\"color: #7f7f7f; text-decoration-color: #7f7f7f\">scene_file_writer.py</span></a><span style=\"color: #7f7f7f; text-decoration-color: #7f7f7f\">:</span><a href=\"file://c:\\Users\\ihuss\\AppData\\Local\\Programs\\Python\\Python313\\Lib\\site-packages\\manim\\scene\\scene_file_writer.py#588\" target=\"_blank\"><span style=\"color: #7f7f7f; text-decoration-color: #7f7f7f\">588</span></a>\n",
       "<span style=\"color: #7fbfbf; text-decoration-color: #7fbfbf\">                    </span>         <span style=\"color: #008000; text-decoration-color: #008000\">'C:\\Users\\ihuss\\EN540205-6\\de_206\\jupyter_notebooks\\media\\vid</span> <span style=\"color: #7f7f7f; text-decoration-color: #7f7f7f\">                        </span>\n",
       "<span style=\"color: #7fbfbf; text-decoration-color: #7fbfbf\">                    </span>         <span style=\"color: #008000; text-decoration-color: #008000\">eos\\jupyter_notebooks\\720p30\\partial_movie_files\\PlotCValues\\</span> <span style=\"color: #7f7f7f; text-decoration-color: #7f7f7f\">                        </span>\n",
       "<span style=\"color: #7fbfbf; text-decoration-color: #7fbfbf\">                    </span>         <span style=\"color: #008000; text-decoration-color: #008000\">543634251_2872842549_1090481822.mp4'</span>                          <span style=\"color: #7f7f7f; text-decoration-color: #7f7f7f\">                        </span>\n",
       "</pre>\n"
      ],
      "text/plain": [
       "\u001b[2;36m[07/06/25 14:25:43]\u001b[0m\u001b[2;36m \u001b[0m\u001b[32mINFO    \u001b[0m Animation \u001b[32m7\u001b[0m : Partial movie file written in                   \u001b]8;id=669287;file://c:\\Users\\ihuss\\AppData\\Local\\Programs\\Python\\Python313\\Lib\\site-packages\\manim\\scene\\scene_file_writer.py\u001b\\\u001b[2mscene_file_writer.py\u001b[0m\u001b]8;;\u001b\\\u001b[2m:\u001b[0m\u001b]8;id=75083;file://c:\\Users\\ihuss\\AppData\\Local\\Programs\\Python\\Python313\\Lib\\site-packages\\manim\\scene\\scene_file_writer.py#588\u001b\\\u001b[2m588\u001b[0m\u001b]8;;\u001b\\\n",
       "\u001b[2;36m                    \u001b[0m         \u001b[32m'C:\\Users\\ihuss\\EN540205-6\\de_206\\jupyter_notebooks\\media\\vid\u001b[0m \u001b[2m                        \u001b[0m\n",
       "\u001b[2;36m                    \u001b[0m         \u001b[32meos\\jupyter_notebooks\\720p30\\partial_movie_files\\PlotCValues\\\u001b[0m \u001b[2m                        \u001b[0m\n",
       "\u001b[2;36m                    \u001b[0m         \u001b[32m543634251_2872842549_1090481822.mp4'\u001b[0m                          \u001b[2m                        \u001b[0m\n"
      ]
     },
     "metadata": {},
     "output_type": "display_data"
    },
    {
     "data": {
      "text/html": [
       "<pre style=\"white-space:pre;overflow-x:auto;line-height:normal;font-family:Menlo,'DejaVu Sans Mono',consolas,'Courier New',monospace\"><span style=\"color: #7fbfbf; text-decoration-color: #7fbfbf\">                    </span><span style=\"color: #008000; text-decoration-color: #008000\">INFO    </span> Combining to Movie file.                                      <a href=\"file://c:\\Users\\ihuss\\AppData\\Local\\Programs\\Python\\Python313\\Lib\\site-packages\\manim\\scene\\scene_file_writer.py\" target=\"_blank\"><span style=\"color: #7f7f7f; text-decoration-color: #7f7f7f\">scene_file_writer.py</span></a><span style=\"color: #7f7f7f; text-decoration-color: #7f7f7f\">:</span><a href=\"file://c:\\Users\\ihuss\\AppData\\Local\\Programs\\Python\\Python313\\Lib\\site-packages\\manim\\scene\\scene_file_writer.py#739\" target=\"_blank\"><span style=\"color: #7f7f7f; text-decoration-color: #7f7f7f\">739</span></a>\n",
       "</pre>\n"
      ],
      "text/plain": [
       "\u001b[2;36m                   \u001b[0m\u001b[2;36m \u001b[0m\u001b[32mINFO    \u001b[0m Combining to Movie file.                                      \u001b]8;id=68289;file://c:\\Users\\ihuss\\AppData\\Local\\Programs\\Python\\Python313\\Lib\\site-packages\\manim\\scene\\scene_file_writer.py\u001b\\\u001b[2mscene_file_writer.py\u001b[0m\u001b]8;;\u001b\\\u001b[2m:\u001b[0m\u001b]8;id=237333;file://c:\\Users\\ihuss\\AppData\\Local\\Programs\\Python\\Python313\\Lib\\site-packages\\manim\\scene\\scene_file_writer.py#739\u001b\\\u001b[2m739\u001b[0m\u001b]8;;\u001b\\\n"
      ]
     },
     "metadata": {},
     "output_type": "display_data"
    },
    {
     "data": {
      "text/html": [
       "<pre style=\"white-space:pre;overflow-x:auto;line-height:normal;font-family:Menlo,'DejaVu Sans Mono',consolas,'Courier New',monospace\"><span style=\"color: #7fbfbf; text-decoration-color: #7fbfbf\">                    </span><span style=\"color: #008000; text-decoration-color: #008000\">INFO    </span>                                                               <a href=\"file://c:\\Users\\ihuss\\AppData\\Local\\Programs\\Python\\Python313\\Lib\\site-packages\\manim\\scene\\scene_file_writer.py\" target=\"_blank\"><span style=\"color: #7f7f7f; text-decoration-color: #7f7f7f\">scene_file_writer.py</span></a><span style=\"color: #7f7f7f; text-decoration-color: #7f7f7f\">:</span><a href=\"file://c:\\Users\\ihuss\\AppData\\Local\\Programs\\Python\\Python313\\Lib\\site-packages\\manim\\scene\\scene_file_writer.py#886\" target=\"_blank\"><span style=\"color: #7f7f7f; text-decoration-color: #7f7f7f\">886</span></a>\n",
       "<span style=\"color: #7fbfbf; text-decoration-color: #7fbfbf\">                    </span>         <span style=\"color: #808000; text-decoration-color: #808000; font-weight: bold\">File</span> ready at                                                 <span style=\"color: #7f7f7f; text-decoration-color: #7f7f7f\">                        </span>\n",
       "<span style=\"color: #7fbfbf; text-decoration-color: #7fbfbf\">                    </span>         <span style=\"color: #008000; text-decoration-color: #008000\">'C:\\Users\\ihuss\\EN540205-6\\de_206\\jupyter_notebooks\\media\\vid</span> <span style=\"color: #7f7f7f; text-decoration-color: #7f7f7f\">                        </span>\n",
       "<span style=\"color: #7fbfbf; text-decoration-color: #7fbfbf\">                    </span>         <span style=\"color: #008000; text-decoration-color: #008000\">eos\\jupyter_notebooks\\720p30\\PlotCValues.mp4'</span>                 <span style=\"color: #7f7f7f; text-decoration-color: #7f7f7f\">                        </span>\n",
       "<span style=\"color: #7fbfbf; text-decoration-color: #7fbfbf\">                    </span>                                                                       <span style=\"color: #7f7f7f; text-decoration-color: #7f7f7f\">                        </span>\n",
       "</pre>\n"
      ],
      "text/plain": [
       "\u001b[2;36m                   \u001b[0m\u001b[2;36m \u001b[0m\u001b[32mINFO    \u001b[0m                                                               \u001b]8;id=770015;file://c:\\Users\\ihuss\\AppData\\Local\\Programs\\Python\\Python313\\Lib\\site-packages\\manim\\scene\\scene_file_writer.py\u001b\\\u001b[2mscene_file_writer.py\u001b[0m\u001b]8;;\u001b\\\u001b[2m:\u001b[0m\u001b]8;id=731971;file://c:\\Users\\ihuss\\AppData\\Local\\Programs\\Python\\Python313\\Lib\\site-packages\\manim\\scene\\scene_file_writer.py#886\u001b\\\u001b[2m886\u001b[0m\u001b]8;;\u001b\\\n",
       "\u001b[2;36m                    \u001b[0m         \u001b[1;33mFile\u001b[0m ready at                                                 \u001b[2m                        \u001b[0m\n",
       "\u001b[2;36m                    \u001b[0m         \u001b[32m'C:\\Users\\ihuss\\EN540205-6\\de_206\\jupyter_notebooks\\media\\vid\u001b[0m \u001b[2m                        \u001b[0m\n",
       "\u001b[2;36m                    \u001b[0m         \u001b[32meos\\jupyter_notebooks\\720p30\\PlotCValues.mp4'\u001b[0m                 \u001b[2m                        \u001b[0m\n",
       "\u001b[2;36m                    \u001b[0m                                                                       \u001b[2m                        \u001b[0m\n"
      ]
     },
     "metadata": {},
     "output_type": "display_data"
    },
    {
     "data": {
      "text/html": [
       "<pre style=\"white-space:pre;overflow-x:auto;line-height:normal;font-family:Menlo,'DejaVu Sans Mono',consolas,'Courier New',monospace\"><span style=\"color: #7fbfbf; text-decoration-color: #7fbfbf\">                    </span><span style=\"color: #008000; text-decoration-color: #008000\">INFO    </span> <span style=\"color: #808000; text-decoration-color: #808000; font-weight: bold\">Rendered</span> PlotCValues                                                      <a href=\"file://c:\\Users\\ihuss\\AppData\\Local\\Programs\\Python\\Python313\\Lib\\site-packages\\manim\\scene\\scene.py\" target=\"_blank\"><span style=\"color: #7f7f7f; text-decoration-color: #7f7f7f\">scene.py</span></a><span style=\"color: #7f7f7f; text-decoration-color: #7f7f7f\">:</span><a href=\"file://c:\\Users\\ihuss\\AppData\\Local\\Programs\\Python\\Python313\\Lib\\site-packages\\manim\\scene\\scene.py#255\" target=\"_blank\"><span style=\"color: #7f7f7f; text-decoration-color: #7f7f7f\">255</span></a>\n",
       "<span style=\"color: #7fbfbf; text-decoration-color: #7fbfbf\">                    </span>         <span style=\"color: #808000; text-decoration-color: #808000; font-weight: bold\">Played</span> <span style=\"color: #008000; text-decoration-color: #008000\">8</span> <span style=\"color: #808000; text-decoration-color: #808000; font-weight: bold\">animations</span>                                                       <span style=\"color: #7f7f7f; text-decoration-color: #7f7f7f\">            </span>\n",
       "</pre>\n"
      ],
      "text/plain": [
       "\u001b[2;36m                   \u001b[0m\u001b[2;36m \u001b[0m\u001b[32mINFO    \u001b[0m \u001b[1;33mRendered\u001b[0m PlotCValues                                                      \u001b]8;id=690172;file://c:\\Users\\ihuss\\AppData\\Local\\Programs\\Python\\Python313\\Lib\\site-packages\\manim\\scene\\scene.py\u001b\\\u001b[2mscene.py\u001b[0m\u001b]8;;\u001b\\\u001b[2m:\u001b[0m\u001b]8;id=43778;file://c:\\Users\\ihuss\\AppData\\Local\\Programs\\Python\\Python313\\Lib\\site-packages\\manim\\scene\\scene.py#255\u001b\\\u001b[2m255\u001b[0m\u001b]8;;\u001b\\\n",
       "\u001b[2;36m                    \u001b[0m         \u001b[1;33mPlayed\u001b[0m \u001b[32m8\u001b[0m \u001b[1;33manimations\u001b[0m                                                       \u001b[2m            \u001b[0m\n"
      ]
     },
     "metadata": {},
     "output_type": "display_data"
    },
    {
     "data": {
      "text/html": [
       "<video src=\"media\\jupyter\\PlotCValues@2025-07-06@14-25-43.mp4\" controls autoplay loop style=\"max-width: 60%;\"  >\n",
       "      Your browser does not support the <code>video</code> element.\n",
       "    </video>"
      ],
      "text/plain": [
       "<IPython.core.display.Video object>"
      ]
     },
     "metadata": {},
     "output_type": "display_data"
    }
   ],
   "source": [
    "%%manim -qm PlotCValues\n",
    "\n",
    "class PlotCValues(Scene):\n",
    "    def construct(self):\n",
    "        axes = Axes(\n",
    "            x_range=[-2, 4, 1],\n",
    "            y_range=[-4, 4, 1],\n",
    "            axis_config={\"color\": BLUE},\n",
    "            x_length=8,  \n",
    "            y_length=4, \n",
    "        )\n",
    "        labels = axes.get_axis_labels(x_label=\"x\", y_label=\"f(x)\")\n",
    "        self.play(Create(axes), Write(labels))\n",
    "\n",
    "        c_values = [-2, 1, 2]                     # <-- try plotting different values for c \n",
    "        colors = [RED, GREEN, YELLOW]\n",
    "        plots = []\n",
    "        for c, color in zip(c_values, colors):\n",
    "            graph = axes.plot(lambda x: x**2 - 2*x + c, color=color, x_range=[-1, 3])\n",
    "            plots.append(graph)\n",
    "            label = MathTex(f\"c={c}\").next_to(graph, UP + RIGHT).set_color(color)\n",
    "            self.play(Create(graph), Write(label))\n",
    "            self.wait(0.5)\n",
    "\n",
    "        self.wait(2)"
   ]
  },
  {
   "cell_type": "markdown",
   "id": "f3e8b2f4",
   "metadata": {},
   "source": [
    "Solving the ODE for $x^*$ should lead you to find that: \n",
    "\n",
    "$$\n",
    "x^* = \\frac{2 \\pm \\sqrt{4 - 4c} }{2} = 1 \\pm \\sqrt{1-c}\n",
    "$$\n",
    "\n",
    "So picking $c = 1$ will cause a change in the *number* of roots of $f(x)$: from $2$ to $1$ to none. "
   ]
  },
  {
   "cell_type": "markdown",
   "id": "c8c9b6c3",
   "metadata": {},
   "source": [
    "(b) There is a value of $c$ which causes a change in the *number* of roots of $f(x)$. Let's call this value $c_0$. \n",
    "\n",
    "Construct phase lines of the ODE at points less than, equal to, and greater to $c_0$."
   ]
  },
  {
   "cell_type": "code",
   "execution_count": 3,
   "id": "24d40779",
   "metadata": {},
   "outputs": [
    {
     "name": "stderr",
     "output_type": "stream",
     "text": [
      "UsageError: Cell magic `%%manim` not found.\n"
     ]
    }
   ],
   "source": [
    "%%manim -qm PhaseLineDemo\n",
    "\n",
    "def quadratic_func(x, c):\n",
    "    return x**2 - 2*x + c\n",
    "\n",
    "def quadratic_crit_pts(func, c, x_range):\n",
    "    roots = np.roots([1, -2, c])\n",
    "    roots = roots[np.isreal(roots)].real\n",
    "    return roots\n",
    "\n",
    "class PhaseLineDemo(Scene):\n",
    "\n",
    "    def construct(self):\n",
    "        c_values = [0, 1, 2]\n",
    "        # Build all stacked phaselines\n",
    "        stacked = vertical_stack(\n",
    "            func=quadratic_func,\n",
    "            c_values=c_values,\n",
    "            x_range=(-3, 3),\n",
    "            num_arrows=13,\n",
    "            critical_points_func=quadratic_crit_pts,\n",
    "            colors=[BLUE, ORANGE, GREEN],\n",
    "            label_fmt=\"c={:.2f}\",\n",
    "            top_y=3,\n",
    "            vertical_spacing=1.5\n",
    "        )\n",
    "        # Animate\n",
    "        self.play(Create(stacked))\n",
    "        self.wait(2)"
   ]
  },
  {
   "cell_type": "markdown",
   "id": "efe76736",
   "metadata": {},
   "source": [
    "Thus:\n",
    "- When $c > 1, \\frac{dx}{dt} > 0$\n",
    "- When $c = 1$, the two roots are both $1$. \n",
    "- When $c < 1, \\frac{dx}{dt} > 0$ when\n",
    "larger than the larger root or smaller than the smaller roots"
   ]
  }
 ],
 "metadata": {
  "kernelspec": {
   "display_name": "Python 3",
   "language": "python",
   "name": "python3"
  },
  "language_info": {
   "codemirror_mode": {
    "name": "ipython",
    "version": 3
   },
   "file_extension": ".py",
   "mimetype": "text/x-python",
   "name": "python",
   "nbconvert_exporter": "python",
   "pygments_lexer": "ipython3",
   "version": "3.13.3"
  }
 },
 "nbformat": 4,
 "nbformat_minor": 5
}
