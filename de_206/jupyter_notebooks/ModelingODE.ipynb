{
 "cells": [
  {
   "cell_type": "markdown",
   "id": "f24c8b43",
   "metadata": {},
   "source": [
    "# Exploration: Concentration Variation in a Reactor with Periodic Feed Concentration\n",
    "\n",
    "A plug flow reactor (PFR) operates with a reactant feed whose concentration varies periodically as it flows through the reactor at a constant velocity \\($v$\\). The concentration, $C(t)$, of the reactant at a fixed position along the reactor is governed by the following equation:\n",
    "\n",
    "$80 \\frac{dC}{dt} + 10,000 \\, C = 2,500 \\cos\\left( \\frac{\\pi v t}{6} \\right)$\n",
    "\n",
    "\n",
    "where:\n",
    "- $C(t)$ is the reactant concentration (in mol/L),\n",
    "- the term \\[$80 \\frac{dC}{dt}$\\] represents the accumulation of concentration due to flow and reaction kinetics,\n",
    "- and the right side forcing term \\[$2,500 \\cos\\left( \\frac{\\pi v t}{6} \\right)$\\] represents the periodic variation in feed concentration entering the reactor, with frequency proportional to the fluid velocity \\($v$\\)."
   ]
  },
  {
   "cell_type": "code",
   "execution_count": null,
   "id": "ee4d7fbe",
   "metadata": {},
   "outputs": [],
   "source": []
  },
  {
   "cell_type": "code",
   "execution_count": null,
   "id": "87b07cda",
   "metadata": {},
   "outputs": [],
   "source": []
  }
 ],
 "metadata": {
  "kernelspec": {
   "display_name": "Python 3",
   "language": "python",
   "name": "python3"
  },
  "language_info": {
   "codemirror_mode": {
    "name": "ipython",
    "version": 3
   },
   "file_extension": ".py",
   "mimetype": "text/x-python",
   "name": "python",
   "nbconvert_exporter": "python",
   "pygments_lexer": "ipython3",
   "version": "3.13.5"
  }
 },
 "nbformat": 4,
 "nbformat_minor": 5
}
