{
 "cells": [
  {
   "cell_type": "markdown",
   "id": "5f7c0c7e",
   "metadata": {},
   "source": [
    "# Problem #21\n",
    "\n",
    "(a) Draw a direction field for the differential equation $y' - \\frac{y}{2} = 2\\cos(t)$."
   ]
  },
  {
   "cell_type": "code",
   "execution_count": null,
   "id": "36dc5590",
   "metadata": {
    "vscode": {
     "languageId": "markdown"
    }
   },
   "outputs": [],
   "source": []
  },
  {
   "cell_type": "markdown",
   "id": "36b00394",
   "metadata": {},
   "source": [
    "How do solutions appear to behave as $t$ becomes large? Does the behavior depend on the choice of the initial value $a$? Let $a_0$ be the value of $a$ for which the transition from one type of behavior to another occurs. Estimate the value of $a_0$.\n"
   ]
  },
  {
   "cell_type": "markdown",
   "id": "177f9c8a",
   "metadata": {},
   "source": []
  }
 ],
 "metadata": {
  "kernelspec": {
   "display_name": "Python 3",
   "language": "python",
   "name": "python3"
  },
  "language_info": {
   "codemirror_mode": {
    "name": "ipython",
    "version": 3
   },
   "file_extension": ".py",
   "mimetype": "text/x-python",
   "name": "python",
   "nbconvert_exporter": "python",
   "pygments_lexer": "ipython3",
   "version": "3.13.5"
  }
 },
 "nbformat": 4,
 "nbformat_minor": 5
}
