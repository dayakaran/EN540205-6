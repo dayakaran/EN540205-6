{
 "cells": [
  {
   "cell_type": "markdown",
   "id": "5f7c0c7e",
   "metadata": {},
   "source": [
    "# Problem #21\n",
    "\n",
    "(a) Draw a direction field for the differential equation $y' - \\frac{y}{2} = 2\\cos(t)$."
   ]
  },
  {
   "cell_type": "code",
   "execution_count": 5,
   "id": "36dc5590",
   "metadata": {
    "vscode": {
     "languageId": "markdown"
    }
   },
   "outputs": [],
   "source": [
    "from manim import *\n",
    "\n",
    "class DirectionField(Scene):\n",
    "    def func(self, pos):\n",
    "        t, y = pos[:2]  \n",
    "        dydt = 0.5 * y + 2 * np.cos(t)    # Add the differential equation here\n",
    "        return np.array([1, dydt, 0])  \n",
    "\n",
    "    def construct(self):\n",
    "        plane = NumberPlane(x_range=[-4, 4, 1], y_range=[-5, 5, 1])\n",
    "        field = ArrowVectorField(self.func, x_range=[-4, 4], y_range=[-5, 5], length_func=lambda x: 0.2)\n",
    "        self.add(plane, field)"
   ]
  },
  {
   "cell_type": "markdown",
   "id": "36b00394",
   "metadata": {},
   "source": [
    "How do solutions appear to behave as $t$ becomes large? Does the behavior depend on the choice of the initial value $a$? Let $a_0$ be the value of $a$ for which the transition from one type of behavior to another occurs. Estimate the value of $a_0$.\n"
   ]
  }
 ],
 "metadata": {
  "kernelspec": {
   "display_name": "Python 3",
   "language": "python",
   "name": "python3"
  },
  "language_info": {
   "codemirror_mode": {
    "name": "ipython",
    "version": 3
   },
   "file_extension": ".py",
   "mimetype": "text/x-python",
   "name": "python",
   "nbconvert_exporter": "python",
   "pygments_lexer": "ipython3",
   "version": "3.13.5"
  }
 },
 "nbformat": 4,
 "nbformat_minor": 5
}
